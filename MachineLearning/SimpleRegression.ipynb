{
 "cells": [
  {
   "cell_type": "markdown",
   "metadata": {
    "id": "mXN6LBt2UXhc"
   },
   "source": [
    "# <center>機械学習 第4回 「Pythonによる単回帰」</center>\n",
    "<center>2024年5月7日　瀧雅人</center>\n",
    "\n",
    "機械学習ライブラリの様子を知り、使い方に慣れる。また今回から実際の作業をすることで、Numpyを使ったデータの扱い等に慣れてゆく。"
   ]
  },
  {
   "cell_type": "markdown",
   "metadata": {
    "id": "X_ClyyRiUXho"
   },
   "source": [
    "- Numpy配列データの処理\n",
    "- scikit-learnによる線形単回帰：正規方程式と勾配法\n",
    "- ブートストラップによる信頼区間＊\n",
    "- scratchからの線形単回帰＊\n",
    "\n"
   ]
  },
  {
   "cell_type": "markdown",
   "metadata": {
    "id": "DfC9V2boun-6"
   },
   "source": [
    "＊印はアドバンスな話題なので、初回は＊なしの部分の理解に注力し、後に＊の部分も補っていく。"
   ]
  },
  {
   "cell_type": "markdown",
   "metadata": {
    "id": "9wKX9y3luqN5"
   },
   "source": [
    "まずは、Google Driveを<b>マウント</b>する："
   ]
  },
  {
   "cell_type": "code",
   "execution_count": null,
   "metadata": {
    "colab": {
     "base_uri": "https://localhost:8080/"
    },
    "executionInfo": {
     "elapsed": 34020,
     "status": "ok",
     "timestamp": 1684231042160,
     "user": {
      "displayName": "MASATO TAKI",
      "userId": "06408555804759539719"
     },
     "user_tz": -540
    },
    "id": "uif9R4CdhBDZ",
    "outputId": "3b60cad8-4927-4997-c69d-9dfef39902b4"
   },
   "outputs": [
    {
     "name": "stdout",
     "output_type": "stream",
     "text": [
      "Mounted at /content/drive\n"
     ]
    }
   ],
   "source": [
    "from google.colab import drive\n",
    "drive.mount('/content/drive')"
   ]
  },
  {
   "cell_type": "markdown",
   "metadata": {
    "id": "oanv-LGKUXhp"
   },
   "source": [
    "# <center>scikit-learnによる単回帰</center>\n"
   ]
  },
  {
   "cell_type": "markdown",
   "metadata": {
    "id": "7aZeKKTbUXhp"
   },
   "source": [
    "# 1.データの準備\n",
    "\n",
    "csvファイルをテキストとして`numpy`の`loadtxt()`関数で読み込む"
   ]
  },
  {
   "cell_type": "code",
   "execution_count": null,
   "metadata": {
    "collapsed": true,
    "id": "U7Zm9IfrUXhq"
   },
   "outputs": [],
   "source": [
    "import numpy as np\n",
    "\n",
    "squad = np.loadtxt(\"/content/drive/My Drive/ml_datasets/squad.csv\", delimiter=\",\")"
   ]
  },
  {
   "cell_type": "markdown",
   "metadata": {
    "id": "plIOGo32UXhq"
   },
   "source": [
    "Numpyの配列(ndarray)として読み込まれたデータ(計画行列)\n",
    "のうち、はじめ10個のインスタンスを見てみる："
   ]
  },
  {
   "cell_type": "code",
   "execution_count": null,
   "metadata": {
    "colab": {
     "base_uri": "https://localhost:8080/"
    },
    "executionInfo": {
     "elapsed": 9,
     "status": "ok",
     "timestamp": 1684231061334,
     "user": {
      "displayName": "MASATO TAKI",
      "userId": "06408555804759539719"
     },
     "user_tz": -540
    },
    "id": "E3hrZxjeUXhr",
    "outputId": "e809a3c3-5a08-4db6-83f0-0f2ff7f026bc"
   },
   "outputs": [
    {
     "data": {
      "text/plain": [
       "array([[1.5583968e+09, 8.9898000e+01],\n",
       "       [1.5654816e+09, 8.9646000e+01],\n",
       "       [1.5682464e+09, 8.9709000e+01],\n",
       "       [1.5704928e+09, 8.9101000e+01],\n",
       "       [1.5693696e+09, 8.8912000e+01],\n",
       "       [1.5636672e+09, 8.8839000e+01],\n",
       "       [1.5621120e+09, 8.8650000e+01],\n",
       "       [1.5636672e+09, 8.7465000e+01],\n",
       "       [1.5386976e+09, 8.7433000e+01],\n",
       "       [1.5577920e+09, 8.6940000e+01]])"
      ]
     },
     "execution_count": 3,
     "metadata": {},
     "output_type": "execute_result"
    }
   ],
   "source": [
    "squad[:10]"
   ]
  },
  {
   "cell_type": "markdown",
   "metadata": {
    "id": "Swzgl0ZYUXhr"
   },
   "source": [
    "1列目と2列目をそれぞれ切り出す（Numpy配列の<b>スライシング</b>）："
   ]
  },
  {
   "cell_type": "code",
   "execution_count": null,
   "metadata": {
    "collapsed": true,
    "id": "oJjzIsSwUXhr"
   },
   "outputs": [],
   "source": [
    "X = squad[:,0]\n",
    "y = squad[:,1]"
   ]
  },
  {
   "cell_type": "markdown",
   "metadata": {
    "id": "H1OqTyfhUXhs"
   },
   "source": [
    "まずは散布図で、データの様子をざっと確認："
   ]
  },
  {
   "cell_type": "code",
   "execution_count": null,
   "metadata": {
    "colab": {
     "base_uri": "https://localhost:8080/",
     "height": 558
    },
    "collapsed": true,
    "executionInfo": {
     "elapsed": 13,
     "status": "ok",
     "timestamp": 1684231064342,
     "user": {
      "displayName": "MASATO TAKI",
      "userId": "06408555804759539719"
     },
     "user_tz": -540
    },
    "id": "1PzIkD9VUXhs",
    "outputId": "d5a0fc18-8c90-45d5-fb58-85358674b6ae"
   },
   "outputs": [
    {
     "data": {
      "text/plain": [
       "<matplotlib.collections.PathCollection at 0x7f63e2633fd0>"
      ]
     },
     "execution_count": 5,
     "metadata": {},
     "output_type": "execute_result"
    },
    {
     "data": {
      "image/png": "[encoded data removed]",
      "text/plain": [
       "<Figure size 1000x600 with 1 Axes>"
      ]
     },
     "metadata": {},
     "output_type": "display_data"
    }
   ],
   "source": [
    "import matplotlib.pyplot as plt\n",
    "%matplotlib inline\n",
    "\n",
    "plt.figure(figsize=(10,6))\n",
    "plt.scatter(X, y, c='gray')"
   ]
  },
  {
   "cell_type": "markdown",
   "metadata": {
    "id": "xuWqkMfWUXhs"
   },
   "source": [
    "実はこのデータは、2017年7月から2018年10月の間の<b>代表的な言語理解AI達が、どれほど言語テストで点数をとったか</b>を記録したものです。AIの学習・テストに使われたのはSQuADという言語テストデータです。\n",
    "\n",
    "散布図の各インスタンス(点)が各AIです。横軸の`X`の値は、そのAIが公開された日時をとある数値(UNIX時間）で表したものです。縦軸`y`は、各AIがテストで叩き出した点数です。\n",
    "\n",
    "現在では自然言語処理の機械学習が90点以上を叩き出す大発展を見せています。実は平均的な人間の点数は82.44で、とっくにAIに追い抜かされています。"
   ]
  },
  {
   "cell_type": "markdown",
   "metadata": {
    "id": "NHUBPqdEUXht"
   },
   "source": [
    "さて、我々のデータ`X`はベクトル（形が`(N,)`の配列）です："
   ]
  },
  {
   "cell_type": "code",
   "execution_count": null,
   "metadata": {
    "colab": {
     "base_uri": "https://localhost:8080/"
    },
    "collapsed": true,
    "executionInfo": {
     "elapsed": 715,
     "status": "ok",
     "timestamp": 1684231105112,
     "user": {
      "displayName": "MASATO TAKI",
      "userId": "06408555804759539719"
     },
     "user_tz": -540
    },
    "id": "APewFuJxUXht",
    "outputId": "2dae730e-d31b-43a1-9256-d24601a71f49"
   },
   "outputs": [
    {
     "data": {
      "text/plain": [
       "(104,)"
      ]
     },
     "execution_count": 6,
     "metadata": {},
     "output_type": "execute_result"
    }
   ],
   "source": [
    "X.shape"
   ]
  },
  {
   "cell_type": "markdown",
   "metadata": {
    "id": "tP-vK-iMUXhu"
   },
   "source": [
    "中身を全部表示してみると、一つの`[]`に囲まれて`104`個の数値が格納されています："
   ]
  },
  {
   "cell_type": "code",
   "execution_count": null,
   "metadata": {
    "colab": {
     "base_uri": "https://localhost:8080/"
    },
    "executionInfo": {
     "elapsed": 5,
     "status": "ok",
     "timestamp": 1684231105469,
     "user": {
      "displayName": "MASATO TAKI",
      "userId": "06408555804759539719"
     },
     "user_tz": -540
    },
    "id": "3qYNrAPsUXhu",
    "outputId": "7296d1fb-47a7-454d-d71a-6a122cafd612",
    "scrolled": true
   },
   "outputs": [
    {
     "data": {
      "text/plain": [
       "array([1.5583968e+09, 1.5654816e+09, 1.5682464e+09, 1.5704928e+09,\n",
       "       1.5693696e+09, 1.5636672e+09, 1.5621120e+09, 1.5636672e+09,\n",
       "       1.5386976e+09, 1.5577920e+09, 1.5636672e+09, 1.5621984e+09,\n",
       "       1.5501024e+09, 1.5379200e+09, 1.5513120e+09, 1.5525216e+09,\n",
       "       1.5595200e+09, 1.5386976e+09, 1.5627168e+09, 1.5502752e+09,\n",
       "       1.5364512e+09, 1.5636672e+09, 1.5505344e+09, 1.5312672e+09,\n",
       "       1.5558048e+09, 1.5507072e+09, 1.5310080e+09, 1.5572736e+09,\n",
       "       1.5294528e+09, 1.5214176e+09, 1.5364512e+09, 1.5357600e+09,\n",
       "       1.5295392e+09, 1.5202944e+09, 1.5294528e+09, 1.5165792e+09,\n",
       "       1.5189984e+09, 1.5258240e+09, 1.5149376e+09, 1.5151104e+09,\n",
       "       1.5630624e+09, 1.5196896e+09, 1.5175296e+09, 1.5455232e+09,\n",
       "       1.5134688e+09, 1.5450048e+09, 1.5139008e+09, 1.5258240e+09,\n",
       "       1.5244416e+09, 1.5258240e+09, 1.5227136e+09, 1.5196896e+09,\n",
       "       1.5108768e+09, 1.5189984e+09, 1.5183936e+09, 1.5234912e+09,\n",
       "       1.5158016e+09, 1.5150240e+09, 1.5157152e+09, 1.5165792e+09,\n",
       "       1.5215040e+09, 1.5183936e+09, 1.5233184e+09, 1.5149376e+09,\n",
       "       1.5193440e+09, 1.5171840e+09, 1.5124320e+09, 1.5144192e+09,\n",
       "       1.5081984e+09, 1.5413760e+09, 1.5174432e+09, 1.5278112e+09,\n",
       "       1.5088032e+09, 1.5086304e+09, 1.5222816e+09, 1.5096672e+09,\n",
       "       1.5258240e+09, 1.5120000e+09, 1.5214176e+09, 1.5148512e+09,\n",
       "       1.5372288e+09, 1.5278112e+09, 1.5149376e+09, 1.5171840e+09,\n",
       "       1.5009408e+09, 1.5155424e+09, 1.5215040e+09, 1.5372288e+09,\n",
       "       1.5125184e+09, 1.5233184e+09, 1.5131232e+09, 1.5138144e+09,\n",
       "       1.5099264e+09, 1.5166656e+09, 1.5262560e+09, 1.5094944e+09,\n",
       "       1.5379200e+09, 1.5136416e+09, 1.5078528e+09, 1.5086304e+09,\n",
       "       1.5048288e+09, 1.5086304e+09, 1.5398208e+09, 1.4999904e+09])"
      ]
     },
     "execution_count": 7,
     "metadata": {},
     "output_type": "execute_result"
    }
   ],
   "source": [
    "X"
   ]
  },
  {
   "cell_type": "markdown",
   "metadata": {
    "id": "53554j9PUXhv"
   },
   "source": [
    "講義では一般論を意識して、データは行列で扱いました。その流儀に合わせると、特徴量が1つしかない今の場合も、`X`は`(N,1)`という二つの軸をもつ配列であるべきです。"
   ]
  },
  {
   "cell_type": "markdown",
   "metadata": {
    "id": "sM4OcpwnUXhv"
   },
   "source": [
    "そこでベクトルを行列にします。\n",
    "次の<b>軸を加える操作はよく使う</b>ので覚えておく："
   ]
  },
  {
   "cell_type": "code",
   "execution_count": null,
   "metadata": {
    "collapsed": true,
    "id": "zaE-gNSrUXhw"
   },
   "outputs": [],
   "source": [
    "X = X[:, np.newaxis]\n",
    "# yは必ずしもこうしなくてもいいのですが、以下スクラッチ実装簡単化のため\n",
    "y = y[:, np.newaxis]"
   ]
  },
  {
   "cell_type": "markdown",
   "metadata": {
    "id": "-_xXU_LisHiA"
   },
   "source": [
    "あるいは予め切り出すときに\n",
    "```\n",
    "X = squad[:,0:1]\n",
    "y = squad[:,1:]\n",
    "```\n",
    "とすればいい。"
   ]
  },
  {
   "cell_type": "markdown",
   "metadata": {
    "id": "IphylNvpUXhw"
   },
   "source": [
    "すると、長さ1の自明な軸が加わっている:"
   ]
  },
  {
   "cell_type": "code",
   "execution_count": null,
   "metadata": {
    "colab": {
     "base_uri": "https://localhost:8080/"
    },
    "executionInfo": {
     "elapsed": 3,
     "status": "ok",
     "timestamp": 1684231110015,
     "user": {
      "displayName": "MASATO TAKI",
      "userId": "06408555804759539719"
     },
     "user_tz": -540
    },
    "id": "w6dPUimOUXhw",
    "outputId": "05ae0c3f-86b3-4cb3-a3b6-ff70d9f58718"
   },
   "outputs": [
    {
     "data": {
      "text/plain": [
       "(104, 1)"
      ]
     },
     "execution_count": 9,
     "metadata": {},
     "output_type": "execute_result"
    }
   ],
   "source": [
    "X.shape"
   ]
  },
  {
   "cell_type": "markdown",
   "metadata": {
    "id": "R6V7oo6KUXhx"
   },
   "source": [
    "この長さ`1`の軸は、次のように一個一個の数字がカッコでくくられた事に対応："
   ]
  },
  {
   "cell_type": "code",
   "execution_count": null,
   "metadata": {
    "colab": {
     "base_uri": "https://localhost:8080/"
    },
    "executionInfo": {
     "elapsed": 1044,
     "status": "ok",
     "timestamp": 1683631089017,
     "user": {
      "displayName": "MASATO TAKI",
      "userId": "06408555804759539719"
     },
     "user_tz": -540
    },
    "id": "Ap6ejQvVUXhx",
    "outputId": "1f1d07dd-080b-42dd-e06c-9ba34ac211d3"
   },
   "outputs": [
    {
     "data": {
      "text/plain": [
       "array([[1.5583968e+09],\n",
       "       [1.5654816e+09],\n",
       "       [1.5682464e+09],\n",
       "       [1.5704928e+09],\n",
       "       [1.5693696e+09],\n",
       "       [1.5636672e+09],\n",
       "       [1.5621120e+09],\n",
       "       [1.5636672e+09],\n",
       "       [1.5386976e+09],\n",
       "       [1.5577920e+09],\n",
       "       [1.5636672e+09],\n",
       "       [1.5621984e+09],\n",
       "       [1.5501024e+09],\n",
       "       [1.5379200e+09],\n",
       "       [1.5513120e+09],\n",
       "       [1.5525216e+09],\n",
       "       [1.5595200e+09],\n",
       "       [1.5386976e+09],\n",
       "       [1.5627168e+09],\n",
       "       [1.5502752e+09],\n",
       "       [1.5364512e+09],\n",
       "       [1.5636672e+09],\n",
       "       [1.5505344e+09],\n",
       "       [1.5312672e+09],\n",
       "       [1.5558048e+09],\n",
       "       [1.5507072e+09],\n",
       "       [1.5310080e+09],\n",
       "       [1.5572736e+09],\n",
       "       [1.5294528e+09],\n",
       "       [1.5214176e+09],\n",
       "       [1.5364512e+09],\n",
       "       [1.5357600e+09],\n",
       "       [1.5295392e+09],\n",
       "       [1.5202944e+09],\n",
       "       [1.5294528e+09],\n",
       "       [1.5165792e+09],\n",
       "       [1.5189984e+09],\n",
       "       [1.5258240e+09],\n",
       "       [1.5149376e+09],\n",
       "       [1.5151104e+09],\n",
       "       [1.5630624e+09],\n",
       "       [1.5196896e+09],\n",
       "       [1.5175296e+09],\n",
       "       [1.5455232e+09],\n",
       "       [1.5134688e+09],\n",
       "       [1.5450048e+09],\n",
       "       [1.5139008e+09],\n",
       "       [1.5258240e+09],\n",
       "       [1.5244416e+09],\n",
       "       [1.5258240e+09],\n",
       "       [1.5227136e+09],\n",
       "       [1.5196896e+09],\n",
       "       [1.5108768e+09],\n",
       "       [1.5189984e+09],\n",
       "       [1.5183936e+09],\n",
       "       [1.5234912e+09],\n",
       "       [1.5158016e+09],\n",
       "       [1.5150240e+09],\n",
       "       [1.5157152e+09],\n",
       "       [1.5165792e+09],\n",
       "       [1.5215040e+09],\n",
       "       [1.5183936e+09],\n",
       "       [1.5233184e+09],\n",
       "       [1.5149376e+09],\n",
       "       [1.5193440e+09],\n",
       "       [1.5171840e+09],\n",
       "       [1.5124320e+09],\n",
       "       [1.5144192e+09],\n",
       "       [1.5081984e+09],\n",
       "       [1.5413760e+09],\n",
       "       [1.5174432e+09],\n",
       "       [1.5278112e+09],\n",
       "       [1.5088032e+09],\n",
       "       [1.5086304e+09],\n",
       "       [1.5222816e+09],\n",
       "       [1.5096672e+09],\n",
       "       [1.5258240e+09],\n",
       "       [1.5120000e+09],\n",
       "       [1.5214176e+09],\n",
       "       [1.5148512e+09],\n",
       "       [1.5372288e+09],\n",
       "       [1.5278112e+09],\n",
       "       [1.5149376e+09],\n",
       "       [1.5171840e+09],\n",
       "       [1.5009408e+09],\n",
       "       [1.5155424e+09],\n",
       "       [1.5215040e+09],\n",
       "       [1.5372288e+09],\n",
       "       [1.5125184e+09],\n",
       "       [1.5233184e+09],\n",
       "       [1.5131232e+09],\n",
       "       [1.5138144e+09],\n",
       "       [1.5099264e+09],\n",
       "       [1.5166656e+09],\n",
       "       [1.5262560e+09],\n",
       "       [1.5094944e+09],\n",
       "       [1.5379200e+09],\n",
       "       [1.5136416e+09],\n",
       "       [1.5078528e+09],\n",
       "       [1.5086304e+09],\n",
       "       [1.5048288e+09],\n",
       "       [1.5086304e+09],\n",
       "       [1.5398208e+09],\n",
       "       [1.4999904e+09]])"
      ]
     },
     "execution_count": 10,
     "metadata": {},
     "output_type": "execute_result"
    }
   ],
   "source": [
    "X"
   ]
  },
  {
   "cell_type": "markdown",
   "metadata": {
    "id": "jY-0v20sUXhx"
   },
   "source": [
    "# 2.訓練セットとテストセット\n",
    "\n",
    "データを訓練用とテスト用に分割するには、`model_selection`モジュールの中の`train_test_split`メソッドを用いるのが楽："
   ]
  },
  {
   "cell_type": "code",
   "execution_count": null,
   "metadata": {
    "collapsed": true,
    "id": "2fs7sT2mUXhy"
   },
   "outputs": [],
   "source": [
    "from sklearn.model_selection import train_test_split\n",
    "\n",
    "X_train, X_test, y_train, y_test = train_test_split(X, y, test_size=0.2, random_state=42)\n",
    "\n",
    "X_train, X_val, y_train, y_val = train_test_split(X_train, y_train, test_size=0.2, random_state=42)"
   ]
  },
  {
   "cell_type": "markdown",
   "metadata": {
    "id": "RMdSBmwOUXhy"
   },
   "source": [
    "分割後の形は"
   ]
  },
  {
   "cell_type": "code",
   "execution_count": null,
   "metadata": {
    "colab": {
     "base_uri": "https://localhost:8080/"
    },
    "collapsed": true,
    "executionInfo": {
     "elapsed": 6,
     "status": "ok",
     "timestamp": 1684231114876,
     "user": {
      "displayName": "MASATO TAKI",
      "userId": "06408555804759539719"
     },
     "user_tz": -540
    },
    "id": "_4FeCFwOUXhy",
    "outputId": "6e698e49-652a-4648-a842-15feabb32546"
   },
   "outputs": [
    {
     "data": {
      "text/plain": [
       "(66, 1)"
      ]
     },
     "execution_count": 11,
     "metadata": {},
     "output_type": "execute_result"
    }
   ],
   "source": [
    "X_train.shape"
   ]
  },
  {
   "cell_type": "markdown",
   "metadata": {
    "id": "e0H3fU0NUXhy"
   },
   "source": [
    "20%をテストデータに、残り80%のうちの20%(つまり全体の`80*0.2=16`%)を検証データに、残りを訓練データに割り振る。分割前に勝手にシャッフル。\n",
    "\n",
    "- 'random_state'でシャッフルに使う擬似乱数のシードを指定できる。"
   ]
  },
  {
   "cell_type": "markdown",
   "metadata": {
    "id": "rB16VbcWUXhz"
   },
   "source": [
    "# 3.正規方程式による学習"
   ]
  },
  {
   "cell_type": "markdown",
   "metadata": {
    "id": "_nTyjRDiUXhz"
   },
   "source": [
    "単回帰を利用するには、`sklearn.linear_model.LinearRegression`から一つインスタンスを生成します："
   ]
  },
  {
   "cell_type": "code",
   "execution_count": null,
   "metadata": {
    "collapsed": true,
    "id": "QV4VJLH6UXh0"
   },
   "outputs": [],
   "source": [
    "from sklearn.linear_model import LinearRegression\n",
    "\n",
    "reg = LinearRegression()"
   ]
  },
  {
   "cell_type": "markdown",
   "metadata": {
    "id": "TOM98ctiUXh0"
   },
   "source": [
    "学習は、LinearRegressionの`fit()`メソッドで行えます。\n",
    "\n",
    "引数にデータを渡します。"
   ]
  },
  {
   "cell_type": "code",
   "execution_count": null,
   "metadata": {
    "colab": {
     "base_uri": "https://localhost:8080/",
     "height": 74
    },
    "collapsed": true,
    "executionInfo": {
     "elapsed": 465,
     "status": "ok",
     "timestamp": 1684231159232,
     "user": {
      "displayName": "MASATO TAKI",
      "userId": "06408555804759539719"
     },
     "user_tz": -540
    },
    "id": "2rDAdKfeUXh0",
    "outputId": "06ed9c8d-782c-4868-fb52-e3606b7d8acb"
   },
   "outputs": [
    {
     "data": {
      "text/html": [
       "<style>#sk-container-id-1 {color: black;background-color: white;}#sk-container-id-1 pre{padding: 0;}#sk-container-id-1 div.sk-toggleable {background-color: white;}#sk-container-id-1 label.sk-toggleable__label {cursor: pointer;display: block;width: 100%;margin-bottom: 0;padding: 0.3em;box-sizing: border-box;text-align: center;}#sk-container-id-1 label.sk-toggleable__label-arrow:before {content: \"▸\";float: left;margin-right: 0.25em;color: #696969;}#sk-container-id-1 label.sk-toggleable__label-arrow:hover:before {color: black;}#sk-container-id-1 div.sk-estimator:hover label.sk-toggleable__label-arrow:before {color: black;}#sk-container-id-1 div.sk-toggleable__content {max-height: 0;max-width: 0;overflow: hidden;text-align: left;background-color: #f0f8ff;}#sk-container-id-1 div.sk-toggleable__content pre {margin: 0.2em;color: black;border-radius: 0.25em;background-color: #f0f8ff;}#sk-container-id-1 input.sk-toggleable__control:checked~div.sk-toggleable__content {max-height: 200px;max-width: 100%;overflow: auto;}#sk-container-id-1 input.sk-toggleable__control:checked~label.sk-toggleable__label-arrow:before {content: \"▾\";}#sk-container-id-1 div.sk-estimator input.sk-toggleable__control:checked~label.sk-toggleable__label {background-color: #d4ebff;}#sk-container-id-1 div.sk-label input.sk-toggleable__control:checked~label.sk-toggleable__label {background-color: #d4ebff;}#sk-container-id-1 input.sk-hidden--visually {border: 0;clip: rect(1px 1px 1px 1px);clip: rect(1px, 1px, 1px, 1px);height: 1px;margin: -1px;overflow: hidden;padding: 0;position: absolute;width: 1px;}#sk-container-id-1 div.sk-estimator {font-family: monospace;background-color: #f0f8ff;border: 1px dotted black;border-radius: 0.25em;box-sizing: border-box;margin-bottom: 0.5em;}#sk-container-id-1 div.sk-estimator:hover {background-color: #d4ebff;}#sk-container-id-1 div.sk-parallel-item::after {content: \"\";width: 100%;border-bottom: 1px solid gray;flex-grow: 1;}#sk-container-id-1 div.sk-label:hover label.sk-toggleable__label {background-color: #d4ebff;}#sk-container-id-1 div.sk-serial::before {content: \"\";position: absolute;border-left: 1px solid gray;box-sizing: border-box;top: 0;bottom: 0;left: 50%;z-index: 0;}#sk-container-id-1 div.sk-serial {display: flex;flex-direction: column;align-items: center;background-color: white;padding-right: 0.2em;padding-left: 0.2em;position: relative;}#sk-container-id-1 div.sk-item {position: relative;z-index: 1;}#sk-container-id-1 div.sk-parallel {display: flex;align-items: stretch;justify-content: center;background-color: white;position: relative;}#sk-container-id-1 div.sk-item::before, #sk-container-id-1 div.sk-parallel-item::before {content: \"\";position: absolute;border-left: 1px solid gray;box-sizing: border-box;top: 0;bottom: 0;left: 50%;z-index: -1;}#sk-container-id-1 div.sk-parallel-item {display: flex;flex-direction: column;z-index: 1;position: relative;background-color: white;}#sk-container-id-1 div.sk-parallel-item:first-child::after {align-self: flex-end;width: 50%;}#sk-container-id-1 div.sk-parallel-item:last-child::after {align-self: flex-start;width: 50%;}#sk-container-id-1 div.sk-parallel-item:only-child::after {width: 0;}#sk-container-id-1 div.sk-dashed-wrapped {border: 1px dashed gray;margin: 0 0.4em 0.5em 0.4em;box-sizing: border-box;padding-bottom: 0.4em;background-color: white;}#sk-container-id-1 div.sk-label label {font-family: monospace;font-weight: bold;display: inline-block;line-height: 1.2em;}#sk-container-id-1 div.sk-label-container {text-align: center;}#sk-container-id-1 div.sk-container {/* jupyter's `normalize.less` sets `[hidden] { display: none; }` but bootstrap.min.css set `[hidden] { display: none !important; }` so we also need the `!important` here to be able to override the default hidden behavior on the sphinx rendered scikit-learn.org. See: https://github.com/scikit-learn/scikit-learn/issues/21755 */display: inline-block !important;position: relative;}#sk-container-id-1 div.sk-text-repr-fallback {display: none;}</style><div id=\"sk-container-id-1\" class=\"sk-top-container\"><div class=\"sk-text-repr-fallback\"><pre>LinearRegression()</pre><b>In a Jupyter environment, please rerun this cell to show the HTML representation or trust the notebook. <br />On GitHub, the HTML representation is unable to render, please try loading this page with nbviewer.org.</b></div><div class=\"sk-container\" hidden><div class=\"sk-item\"><div class=\"sk-estimator sk-toggleable\"><input class=\"sk-toggleable__control sk-hidden--visually\" id=\"sk-estimator-id-1\" type=\"checkbox\" checked><label for=\"sk-estimator-id-1\" class=\"sk-toggleable__label sk-toggleable__label-arrow\">LinearRegression</label><div class=\"sk-toggleable__content\"><pre>LinearRegression()</pre></div></div></div></div></div>"
      ],
      "text/plain": [
       "LinearRegression()"
      ]
     },
     "execution_count": 13,
     "metadata": {},
     "output_type": "execute_result"
    }
   ],
   "source": [
    "reg.fit(X_train, y_train)"
   ]
  },
  {
   "cell_type": "markdown",
   "metadata": {
    "id": "hYWSCZRgUXh1"
   },
   "source": [
    "学習後の係数`a`の値は、`coef_`という属性です"
   ]
  },
  {
   "cell_type": "code",
   "execution_count": null,
   "metadata": {
    "colab": {
     "base_uri": "https://localhost:8080/"
    },
    "collapsed": true,
    "executionInfo": {
     "elapsed": 1230,
     "status": "ok",
     "timestamp": 1684231168012,
     "user": {
      "displayName": "MASATO TAKI",
      "userId": "06408555804759539719"
     },
     "user_tz": -540
    },
    "id": "HNddpNIWUXh1",
    "outputId": "f928bccb-7b59-44ab-f778-87905901bab5"
   },
   "outputs": [
    {
     "data": {
      "text/plain": [
       "array([[1.36602942e-07]])"
      ]
     },
     "execution_count": 14,
     "metadata": {},
     "output_type": "execute_result"
    }
   ],
   "source": [
    "reg.coef_"
   ]
  },
  {
   "cell_type": "markdown",
   "metadata": {
    "id": "1q5nUaIuUXh3"
   },
   "source": [
    "ここで注意として、\n",
    "```python\n",
    "reg.coef_ = 10.0\n",
    "```\n",
    "などというコードを書いてはいけません。学習した結果が`10.0`に書き換えられてしまいます。"
   ]
  },
  {
   "cell_type": "markdown",
   "metadata": {
    "id": "MT-vFL8GUXh4"
   },
   "source": [
    "学習後の切片`b`の値"
   ]
  },
  {
   "cell_type": "code",
   "execution_count": null,
   "metadata": {
    "colab": {
     "base_uri": "https://localhost:8080/"
    },
    "collapsed": true,
    "executionInfo": {
     "elapsed": 337,
     "status": "ok",
     "timestamp": 1684231173235,
     "user": {
      "displayName": "MASATO TAKI",
      "userId": "06408555804759539719"
     },
     "user_tz": -540
    },
    "id": "HCj3kT_sUXh4",
    "outputId": "63ea65c1-c205-4734-c13c-68ac097662bb"
   },
   "outputs": [
    {
     "data": {
      "text/plain": [
       "array([-127.67673911])"
      ]
     },
     "execution_count": 15,
     "metadata": {},
     "output_type": "execute_result"
    }
   ],
   "source": [
    "reg.intercept_"
   ]
  },
  {
   "cell_type": "markdown",
   "metadata": {
    "id": "EclubEzOUXh5"
   },
   "source": [
    "スコア（$R^2$）も簡単に計算できます："
   ]
  },
  {
   "cell_type": "code",
   "execution_count": null,
   "metadata": {
    "colab": {
     "base_uri": "https://localhost:8080/"
    },
    "executionInfo": {
     "elapsed": 344,
     "status": "ok",
     "timestamp": 1684231187799,
     "user": {
      "displayName": "MASATO TAKI",
      "userId": "06408555804759539719"
     },
     "user_tz": -540
    },
    "id": "fvhe4ZFtUXh5",
    "outputId": "1e7b9b27-6abf-43a0-f572-7215ffbed6ef"
   },
   "outputs": [
    {
     "data": {
      "text/plain": [
       "0.5030043288265401"
      ]
     },
     "execution_count": 16,
     "metadata": {},
     "output_type": "execute_result"
    }
   ],
   "source": [
    "reg.score(X_train, y_train)"
   ]
  },
  {
   "cell_type": "markdown",
   "metadata": {
    "id": "ES83eNe6UXh5"
   },
   "source": [
    "検証スコアは"
   ]
  },
  {
   "cell_type": "code",
   "execution_count": null,
   "metadata": {
    "colab": {
     "base_uri": "https://localhost:8080/"
    },
    "executionInfo": {
     "elapsed": 724,
     "status": "ok",
     "timestamp": 1684231212108,
     "user": {
      "displayName": "MASATO TAKI",
      "userId": "06408555804759539719"
     },
     "user_tz": -540
    },
    "id": "ECvy8kgKUXh6",
    "outputId": "dec358d9-cb6e-4df4-d166-ff3c7066757f"
   },
   "outputs": [
    {
     "data": {
      "text/plain": [
       "0.7342312150034715"
      ]
     },
     "execution_count": 17,
     "metadata": {},
     "output_type": "execute_result"
    }
   ],
   "source": [
    "reg.score(X_val, y_val)"
   ]
  },
  {
   "cell_type": "markdown",
   "metadata": {
    "id": "8PzJ_NXBUXh6"
   },
   "source": [
    "散布図の上に、学習後の直線をプロットすることもできます。学習後の回帰直線は`y=reg.predict(x)`と書けるので、これを検証データの上にプロットすると"
   ]
  },
  {
   "cell_type": "code",
   "execution_count": null,
   "metadata": {
    "colab": {
     "base_uri": "https://localhost:8080/",
     "height": 466
    },
    "collapsed": true,
    "executionInfo": {
     "elapsed": 649,
     "status": "ok",
     "timestamp": 1684231217814,
     "user": {
      "displayName": "MASATO TAKI",
      "userId": "06408555804759539719"
     },
     "user_tz": -540
    },
    "id": "GtAUbFL0UXh6",
    "outputId": "3113e671-4fd6-4b7a-8d5e-b6172815a6a2"
   },
   "outputs": [
    {
     "data": {
      "text/plain": [
       "<matplotlib.collections.PathCollection at 0x7f63b4dad3c0>"
      ]
     },
     "execution_count": 18,
     "metadata": {},
     "output_type": "execute_result"
    },
    {
     "data": {
      "image/png": "[encoded data removed]",
      "text/plain": [
       "<Figure size 640x480 with 1 Axes>"
      ]
     },
     "metadata": {},
     "output_type": "display_data"
    }
   ],
   "source": [
    "x_line = np.linspace(np.min(X),np.max(X),100) # Xの最小値から最大値までの範囲を100分割した数値\n",
    "y_line = reg.predict(x_line[:,np.newaxis])\n",
    "\n",
    "plt.plot(x_line, y_line)\n",
    "plt.scatter(X_val, y_val, c='gray')"
   ]
  },
  {
   "cell_type": "markdown",
   "metadata": {
    "id": "9M83M_L8UXh7"
   },
   "source": [
    "# 4.ブートストラップと信頼区間＊"
   ]
  },
  {
   "cell_type": "markdown",
   "metadata": {
    "id": "5meCbr3_UXh7"
   },
   "source": [
    "さて、一個のデータから一回だけ学習させた一個だけの結果は<b>どれだけ信頼がおけるのでしょう？</b>偶然に左右されてたまたま例外的な結果が出ただけかもしれません。ランダムな影響で記録されたデータが少し違えば、学習結果も変わったことでしょう。<b>データのサンプリングが変わったとしても、推定しようとしているもの（データの背後にある「真実」）は同じ</b>です。データが変わるごとに結果が大きく変わってしまったら、うまく推定できていないことになります。"
   ]
  },
  {
   "cell_type": "markdown",
   "metadata": {
    "id": "9gVBqoN4UXh8"
   },
   "source": [
    "もし同じ条件で何回もデータがサンプリングできるなら、データがどれほどばらつき得るのがわかります。結果として、それらデータ達から得られる推定値のばらつきもわかります。つまり母集団から何度もデータをサンプリングできるなら、何度も回帰分析を繰り返し、推定結果のブレを見ることができます。\n",
    "\n",
    "ところが、我々の「2017-2018年の言語AIの発展データ」を、他にもたくさん得ることなどできるでしょうか？もう過ぎ去った一度きりの過去のデータです。「並行宇宙（パラレルワールド）」に行って、「それぞれの宇宙の地球」でAIの進展を調査しなくてはならないのでしょうか！？\n",
    "\n",
    "これは冗談の例えとしても、我々は普通、<b>手元にある以上のデータを何度も再入手する機会を持ちません</b>。ではどうやって「もし違うデータが手に入った場合のばらつき具合」なぞを知ることができるのでしょうか？？"
   ]
  },
  {
   "cell_type": "markdown",
   "metadata": {
    "id": "cYsWjRDhUXh8"
   },
   "source": [
    "## 4-1.リサンプリング\n"
   ]
  },
  {
   "cell_type": "markdown",
   "metadata": {
    "id": "ey0PWozMUXh8"
   },
   "source": [
    "ここで活躍するのがリサンプリングです。手元のデータだけから復元抽出を繰り返すことで、擬似的に新たなデータのサンプリングを生成する技法です。\n",
    "\n",
    "元データと同じサイズのデータを、インスタンスを復元抽出することで作ります。得られたデータセットを<b>ブートストラップサンプル</b>と言います。"
   ]
  },
  {
   "cell_type": "markdown",
   "metadata": {
    "id": "1FTFV7uvUXh8"
   },
   "source": [
    "もちろん黒魔術ではありませので、手元の小さなデータから母集団がわかる訳ではありません。そうではなく、今我々が持っている一つのデータの情報だけから、「どれほど母集団からのサンプリングがばらつき得ると言えるのか」を見積もってくれるのです。"
   ]
  },
  {
   "cell_type": "markdown",
   "metadata": {
    "id": "PqNlp3OEUXh8"
   },
   "source": [
    "`resample`関数を使って愚直にブートストラップ法を実行して見ます"
   ]
  },
  {
   "cell_type": "code",
   "execution_count": null,
   "metadata": {
    "collapsed": true,
    "id": "1NFYNxBgUXh8"
   },
   "outputs": [],
   "source": [
    "from sklearn.utils import resample\n",
    "\n",
    "n_iters = 1000# リサンプリング回数\n",
    "size = X_train.shape[0]# データサイズ\n",
    "\n",
    "coefs = list()# リサンプリング毎の推定パラメータをここに記録\n",
    "intercepts = list()# リサンプリング毎の推定パラメータをここに記録\n",
    "\n",
    "for _ in range(n_iters):\n",
    "    X_resample, y_resample = resample(X_train, y_train, n_samples=size)\n",
    "    reg = LinearRegression()\n",
    "    reg.fit(X_resample, y_resample)\n",
    "    coefs.append(reg.coef_[0,0])\n",
    "    intercepts.append(reg.intercept_[0])"
   ]
  },
  {
   "cell_type": "markdown",
   "metadata": {
    "id": "elfrR1y-UXh9"
   },
   "source": [
    "この1000個のブートストラップによるパラメータ推定値が、どのくらいのばらつきがあるのかを見てましょう。推定値の振れ幅、つまり推定されたパラメータの信頼区間の中に0が入っていたら、得られた係数は有意ではないことになります（→統計学）。つまりその係数がゼロの可能性があります。"
   ]
  },
  {
   "cell_type": "markdown",
   "metadata": {
    "id": "8Kw34OvNUXh9"
   },
   "source": [
    "そこでブートストラップの結果を見て見ましょう。まず係数のブートストラップ平均は"
   ]
  },
  {
   "cell_type": "code",
   "execution_count": null,
   "metadata": {
    "collapsed": true,
    "id": "C7jfn3RsUXh9"
   },
   "outputs": [],
   "source": [
    "np.mean(coefs)"
   ]
  },
  {
   "cell_type": "markdown",
   "metadata": {
    "id": "G5YxRhaLUXh9"
   },
   "source": [
    "係数は`0.0000001...`とすごい小さい値です。やはり実質これは0かもしれない、という疑いが起こります。これでは線形回帰の意味がありません。"
   ]
  },
  {
   "cell_type": "markdown",
   "metadata": {
    "id": "wBVsfPbJUXh9"
   },
   "source": [
    "そこで次に<b>ヒストグラム</b>をプロットして分布を可視化しましょう："
   ]
  },
  {
   "cell_type": "code",
   "execution_count": null,
   "metadata": {
    "collapsed": true,
    "id": "H-8tMjK_UXh9"
   },
   "outputs": [],
   "source": [
    "plt.hist(coefs,bins=100)\n",
    "plt.show()"
   ]
  },
  {
   "cell_type": "markdown",
   "metadata": {
    "id": "WYWBIxTmUXh-"
   },
   "source": [
    "係数は実質0かもしれないと疑われましたが、どうも分布は0から離れたところにあるので、0ではなさそうです。"
   ]
  },
  {
   "cell_type": "markdown",
   "metadata": {
    "id": "_bSmwfjCUXh-"
   },
   "source": [
    "## 4-2.ブートストラップ信頼区間\n",
    "\n",
    "その不確定さの範囲を表す<b>信頼区間</b>を見ると、不確かさを考慮して値を区間として推定できます。\n",
    "\n",
    "例えば95%信頼区間（<b>パーセンタイル・ブートストラップ信頼区間</b>）とは、ブートストラップ推定値を大きさ順に並べた時、<b>下位2.5%、上位2.5%を切り捨てた残り95%の値が存在している範囲</b>です。"
   ]
  },
  {
   "cell_type": "markdown",
   "metadata": {
    "id": "XhHctOIlUXh-"
   },
   "source": [
    "今はトータル1000個あるから、ソートすると下位2.5%には25個。したがって範囲の左端は26番目の"
   ]
  },
  {
   "cell_type": "code",
   "execution_count": null,
   "metadata": {
    "collapsed": true,
    "id": "M4MZ0HMhUXh-"
   },
   "outputs": [],
   "source": [
    "np.sort(coefs)[25]"
   ]
  },
  {
   "cell_type": "markdown",
   "metadata": {
    "id": "n38BALElUXh-"
   },
   "source": [
    "上位97.5%は275個目からなので、範囲の右端は"
   ]
  },
  {
   "cell_type": "code",
   "execution_count": null,
   "metadata": {
    "collapsed": true,
    "id": "caK82i6LUXh-"
   },
   "outputs": [],
   "source": [
    "np.sort(coefs)[975-1]"
   ]
  },
  {
   "cell_type": "markdown",
   "metadata": {
    "id": "1pCgqfMeUXh-"
   },
   "source": [
    "今はトータル1000個あるから、値を小さい順からソートすると95%区間は26個目〜975個目の範囲"
   ]
  },
  {
   "cell_type": "code",
   "execution_count": null,
   "metadata": {
    "collapsed": true,
    "id": "k_Lb6G57UXh-"
   },
   "outputs": [],
   "source": [
    "coef_l = np.sort(coefs)[25]\n",
    "coef_r = np.sort(coefs)[975-1]\n",
    "print('95%信頼区間','[',coef_l,',',coef_r,']')"
   ]
  },
  {
   "cell_type": "markdown",
   "metadata": {
    "id": "EfzH_W5hUXh_"
   },
   "source": [
    "95%の信頼水準でこの範囲にあることになるので、安心して0から離れていると見なせますます。(真の係数が0.95の確率でこの範囲に存在する、という意味では<b>ありません</b>。なぜなら点推定では真値は確率変数ではないからです。信頼水準の正しい意味については、統計学を参照。)"
   ]
  },
  {
   "cell_type": "markdown",
   "metadata": {
    "id": "L3ohlN_wUXh_"
   },
   "source": [
    "線形回帰の場合は、t統計量などを使うことで仮説検定や信頼区間の計算ができます（統計学を参照）。しかし一般には、ブートストラップの方がデータ・モデルに仮定がほとんど必要なく、広く使える強力な手法です。\n",
    "\n",
    "大昔はブートストラップは計算コストから回避されていたようですが、現代ではコンピュータの性能向上のおかげで実務に広く使われています。\n",
    "\n",
    "そればかりか実務の場面では、標準誤差を用いた信頼区間の公式を使った計算法よりも、ブートストラップの方が良くなる場合が多いです。それは標準誤差の計算に必要な母集団分散の推定のための仮定が、実際のデータでは満たされていないことが多いためです。\n",
    "\n",
    "重たい学習計算では、それを1000回も繰り返すのは大変そうです。しかし上の計算は完全に並列化できるので、コア数が多い環境ではそこまで恐れる必要はありません。並列化を考えて見ましょう。"
   ]
  },
  {
   "cell_type": "markdown",
   "metadata": {
    "id": "_-Px-nOSUXh_"
   },
   "source": [
    "# 5.勾配降下法による学習"
   ]
  },
  {
   "cell_type": "markdown",
   "metadata": {
    "id": "7KIvH05fUXh_"
   },
   "source": [
    "先ほどは正規方程式による回帰モデルでした。勾配法による学習も実装されています。学習率`0.1`で`5000`回勾配降下計算を反復して見ましょう。"
   ]
  },
  {
   "cell_type": "code",
   "execution_count": null,
   "metadata": {
    "collapsed": true,
    "id": "X5QhFggEUXh_"
   },
   "outputs": [],
   "source": [
    "from sklearn.linear_model import SGDRegressor\n",
    "\n",
    "reg = SGDRegressor(max_iter=5000, eta0=0.1)"
   ]
  },
  {
   "cell_type": "markdown",
   "metadata": {
    "id": "BROIu6BRUXh_"
   },
   "source": [
    "学習："
   ]
  },
  {
   "cell_type": "code",
   "execution_count": null,
   "metadata": {
    "colab": {
     "base_uri": "https://localhost:8080/",
     "height": 129
    },
    "collapsed": true,
    "executionInfo": {
     "elapsed": 350,
     "status": "ok",
     "timestamp": 1684231365001,
     "user": {
      "displayName": "MASATO TAKI",
      "userId": "06408555804759539719"
     },
     "user_tz": -540
    },
    "id": "QOVIQY8UUXh_",
    "outputId": "81ece1a2-6427-480c-9f52-63b6a67d1c11"
   },
   "outputs": [
    {
     "name": "stderr",
     "output_type": "stream",
     "text": [
      "/usr/local/lib/python3.10/dist-packages/sklearn/utils/validation.py:1143: DataConversionWarning: A column-vector y was passed when a 1d array was expected. Please change the shape of y to (n_samples, ), for example using ravel().\n",
      "  y = column_or_1d(y, warn=True)\n"
     ]
    },
    {
     "data": {
      "text/html": [
       "<style>#sk-container-id-2 {color: black;background-color: white;}#sk-container-id-2 pre{padding: 0;}#sk-container-id-2 div.sk-toggleable {background-color: white;}#sk-container-id-2 label.sk-toggleable__label {cursor: pointer;display: block;width: 100%;margin-bottom: 0;padding: 0.3em;box-sizing: border-box;text-align: center;}#sk-container-id-2 label.sk-toggleable__label-arrow:before {content: \"▸\";float: left;margin-right: 0.25em;color: #696969;}#sk-container-id-2 label.sk-toggleable__label-arrow:hover:before {color: black;}#sk-container-id-2 div.sk-estimator:hover label.sk-toggleable__label-arrow:before {color: black;}#sk-container-id-2 div.sk-toggleable__content {max-height: 0;max-width: 0;overflow: hidden;text-align: left;background-color: #f0f8ff;}#sk-container-id-2 div.sk-toggleable__content pre {margin: 0.2em;color: black;border-radius: 0.25em;background-color: #f0f8ff;}#sk-container-id-2 input.sk-toggleable__control:checked~div.sk-toggleable__content {max-height: 200px;max-width: 100%;overflow: auto;}#sk-container-id-2 input.sk-toggleable__control:checked~label.sk-toggleable__label-arrow:before {content: \"▾\";}#sk-container-id-2 div.sk-estimator input.sk-toggleable__control:checked~label.sk-toggleable__label {background-color: #d4ebff;}#sk-container-id-2 div.sk-label input.sk-toggleable__control:checked~label.sk-toggleable__label {background-color: #d4ebff;}#sk-container-id-2 input.sk-hidden--visually {border: 0;clip: rect(1px 1px 1px 1px);clip: rect(1px, 1px, 1px, 1px);height: 1px;margin: -1px;overflow: hidden;padding: 0;position: absolute;width: 1px;}#sk-container-id-2 div.sk-estimator {font-family: monospace;background-color: #f0f8ff;border: 1px dotted black;border-radius: 0.25em;box-sizing: border-box;margin-bottom: 0.5em;}#sk-container-id-2 div.sk-estimator:hover {background-color: #d4ebff;}#sk-container-id-2 div.sk-parallel-item::after {content: \"\";width: 100%;border-bottom: 1px solid gray;flex-grow: 1;}#sk-container-id-2 div.sk-label:hover label.sk-toggleable__label {background-color: #d4ebff;}#sk-container-id-2 div.sk-serial::before {content: \"\";position: absolute;border-left: 1px solid gray;box-sizing: border-box;top: 0;bottom: 0;left: 50%;z-index: 0;}#sk-container-id-2 div.sk-serial {display: flex;flex-direction: column;align-items: center;background-color: white;padding-right: 0.2em;padding-left: 0.2em;position: relative;}#sk-container-id-2 div.sk-item {position: relative;z-index: 1;}#sk-container-id-2 div.sk-parallel {display: flex;align-items: stretch;justify-content: center;background-color: white;position: relative;}#sk-container-id-2 div.sk-item::before, #sk-container-id-2 div.sk-parallel-item::before {content: \"\";position: absolute;border-left: 1px solid gray;box-sizing: border-box;top: 0;bottom: 0;left: 50%;z-index: -1;}#sk-container-id-2 div.sk-parallel-item {display: flex;flex-direction: column;z-index: 1;position: relative;background-color: white;}#sk-container-id-2 div.sk-parallel-item:first-child::after {align-self: flex-end;width: 50%;}#sk-container-id-2 div.sk-parallel-item:last-child::after {align-self: flex-start;width: 50%;}#sk-container-id-2 div.sk-parallel-item:only-child::after {width: 0;}#sk-container-id-2 div.sk-dashed-wrapped {border: 1px dashed gray;margin: 0 0.4em 0.5em 0.4em;box-sizing: border-box;padding-bottom: 0.4em;background-color: white;}#sk-container-id-2 div.sk-label label {font-family: monospace;font-weight: bold;display: inline-block;line-height: 1.2em;}#sk-container-id-2 div.sk-label-container {text-align: center;}#sk-container-id-2 div.sk-container {/* jupyter's `normalize.less` sets `[hidden] { display: none; }` but bootstrap.min.css set `[hidden] { display: none !important; }` so we also need the `!important` here to be able to override the default hidden behavior on the sphinx rendered scikit-learn.org. See: https://github.com/scikit-learn/scikit-learn/issues/21755 */display: inline-block !important;position: relative;}#sk-container-id-2 div.sk-text-repr-fallback {display: none;}</style><div id=\"sk-container-id-2\" class=\"sk-top-container\"><div class=\"sk-text-repr-fallback\"><pre>SGDRegressor(eta0=0.1, max_iter=5000)</pre><b>In a Jupyter environment, please rerun this cell to show the HTML representation or trust the notebook. <br />On GitHub, the HTML representation is unable to render, please try loading this page with nbviewer.org.</b></div><div class=\"sk-container\" hidden><div class=\"sk-item\"><div class=\"sk-estimator sk-toggleable\"><input class=\"sk-toggleable__control sk-hidden--visually\" id=\"sk-estimator-id-2\" type=\"checkbox\" checked><label for=\"sk-estimator-id-2\" class=\"sk-toggleable__label sk-toggleable__label-arrow\">SGDRegressor</label><div class=\"sk-toggleable__content\"><pre>SGDRegressor(eta0=0.1, max_iter=5000)</pre></div></div></div></div></div>"
      ],
      "text/plain": [
       "SGDRegressor(eta0=0.1, max_iter=5000)"
      ]
     },
     "execution_count": 20,
     "metadata": {},
     "output_type": "execute_result"
    }
   ],
   "source": [
    "reg.fit(X_train, y_train)"
   ]
  },
  {
   "cell_type": "markdown",
   "metadata": {
    "id": "2Yk2W0jIUXiA"
   },
   "source": [
    "↑ 他にも色々な引数が渡せます。<b>自分で色々引数の意味を調べて、引数を変える学習実験をして見ましょう</b>。"
   ]
  },
  {
   "cell_type": "markdown",
   "metadata": {
    "id": "ZmyJYDM9UXiA"
   },
   "source": [
    "別の学習法を用いたので、先ほどとは違うパラメータ値が得られました："
   ]
  },
  {
   "cell_type": "code",
   "execution_count": null,
   "metadata": {
    "colab": {
     "base_uri": "https://localhost:8080/"
    },
    "collapsed": true,
    "executionInfo": {
     "elapsed": 345,
     "status": "ok",
     "timestamp": 1684231376835,
     "user": {
      "displayName": "MASATO TAKI",
      "userId": "06408555804759539719"
     },
     "user_tz": -540
    },
    "id": "SPF5uHJsUXiA",
    "outputId": "cff2839c-a9e9-4a37-b621-6a008b2a8302"
   },
   "outputs": [
    {
     "data": {
      "text/plain": [
       "array([-2.50082356e+17])"
      ]
     },
     "execution_count": 21,
     "metadata": {},
     "output_type": "execute_result"
    }
   ],
   "source": [
    "reg.coef_"
   ]
  },
  {
   "cell_type": "code",
   "execution_count": null,
   "metadata": {
    "colab": {
     "base_uri": "https://localhost:8080/"
    },
    "collapsed": true,
    "executionInfo": {
     "elapsed": 541,
     "status": "ok",
     "timestamp": 1684231381951,
     "user": {
      "displayName": "MASATO TAKI",
      "userId": "06408555804759539719"
     },
     "user_tz": -540
    },
    "id": "xwwIhvvzUXiA",
    "outputId": "acaa4455-bd25-454c-d153-f5961c1e7e4d"
   },
   "outputs": [
    {
     "data": {
      "text/plain": [
       "array([3.14028839e+10])"
      ]
     },
     "execution_count": 22,
     "metadata": {},
     "output_type": "execute_result"
    }
   ],
   "source": [
    "reg.intercept_"
   ]
  },
  {
   "cell_type": "markdown",
   "metadata": {
    "id": "5DoFv-NXUXiA"
   },
   "source": [
    "学習法を変えたので、スコアも変わります："
   ]
  },
  {
   "cell_type": "code",
   "execution_count": null,
   "metadata": {
    "colab": {
     "base_uri": "https://localhost:8080/"
    },
    "collapsed": true,
    "executionInfo": {
     "elapsed": 342,
     "status": "ok",
     "timestamp": 1684231389468,
     "user": {
      "displayName": "MASATO TAKI",
      "userId": "06408555804759539719"
     },
     "user_tz": -540
    },
    "id": "ohXP3tysUXiA",
    "outputId": "d2d5d15a-206a-40ec-849c-724b9992e3bd"
   },
   "outputs": [
    {
     "data": {
      "text/plain": [
       "-1.227678773280637e+52"
      ]
     },
     "execution_count": 23,
     "metadata": {},
     "output_type": "execute_result"
    }
   ],
   "source": [
    "reg.score(X_train, y_train)"
   ]
  },
  {
   "cell_type": "markdown",
   "metadata": {
    "id": "0neweBxmUXiA"
   },
   "source": [
    "<b>さて訓練性能が恐ろしく悪いのはなぜでしょう？</b>"
   ]
  },
  {
   "cell_type": "markdown",
   "metadata": {
    "id": "C1G5Ys4hUXiA"
   },
   "source": [
    "## 5-1.スケーラーによるデータの前処理\n",
    "\n",
    "`X`の単位はUNIX時間で、10桁の数値になっています。そのため値のスケール感が大きすぎて、勾配法がうまく進行する適切な「歩幅」（学習率、eta0）の値がよくわからなくなってしまっているからです。\n",
    "\n",
    "きちんとScalerで特徴量の数値的なスケール感を整えましょう。"
   ]
  },
  {
   "cell_type": "code",
   "execution_count": null,
   "metadata": {
    "collapsed": true,
    "id": "PkPPo-xsUXiA"
   },
   "outputs": [],
   "source": [
    "from sklearn.preprocessing import MinMaxScaler\n",
    "\n",
    "scaler = MinMaxScaler()"
   ]
  },
  {
   "cell_type": "markdown",
   "metadata": {
    "id": "YFxIw7rqUXiB"
   },
   "source": [
    "Scalerもモデルと同じで、`fit`メソッドでデータに適用できます。実際にデータを変換するのは`transform`メソッドです："
   ]
  },
  {
   "cell_type": "code",
   "execution_count": null,
   "metadata": {
    "collapsed": true,
    "id": "r9ze1HRFUXiB"
   },
   "outputs": [],
   "source": [
    "scaler.fit(X_train)\n",
    "\n",
    "X_train_scaled = scaler.transform(X_train)"
   ]
  },
  {
   "cell_type": "code",
   "execution_count": null,
   "metadata": {
    "colab": {
     "base_uri": "https://localhost:8080/"
    },
    "collapsed": true,
    "executionInfo": {
     "elapsed": 332,
     "status": "ok",
     "timestamp": 1684231835829,
     "user": {
      "displayName": "MASATO TAKI",
      "userId": "06408555804759539719"
     },
     "user_tz": -540
    },
    "id": "ArW8XDUJUXiB",
    "outputId": "fab37748-5d85-47fe-d3b4-581401646acf"
   },
   "outputs": [
    {
     "name": "stderr",
     "output_type": "stream",
     "text": [
      "/usr/local/lib/python3.10/dist-packages/sklearn/utils/validation.py:1143: DataConversionWarning: A column-vector y was passed when a 1d array was expected. Please change the shape of y to (n_samples, ), for example using ravel().\n",
      "  y = column_or_1d(y, warn=True)\n"
     ]
    },
    {
     "data": {
      "text/plain": [
       "0.5017121000646143"
      ]
     },
     "execution_count": 26,
     "metadata": {},
     "output_type": "execute_result"
    }
   ],
   "source": [
    "reg = SGDRegressor(max_iter=5000, eta0=0.1)\n",
    "reg.fit(X_train_scaled, y_train)\n",
    "\n",
    "reg.score(X_train_scaled, y_train)"
   ]
  },
  {
   "cell_type": "markdown",
   "metadata": {
    "id": "98leu1u0UXiB"
   },
   "source": [
    "テスト性能（検証性能）は、<b>訓練セットに関して`fit`した後の`scaler`で変換します。テストセットで`fit`し直してはいけません</b>。"
   ]
  },
  {
   "cell_type": "code",
   "execution_count": null,
   "metadata": {
    "colab": {
     "base_uri": "https://localhost:8080/"
    },
    "collapsed": true,
    "executionInfo": {
     "elapsed": 1135,
     "status": "ok",
     "timestamp": 1684232005541,
     "user": {
      "displayName": "MASATO TAKI",
      "userId": "06408555804759539719"
     },
     "user_tz": -540
    },
    "id": "fBeXNTfKUXiB",
    "outputId": "f5f81fc7-7d2a-4382-9621-828cc6bb6dc1"
   },
   "outputs": [
    {
     "data": {
      "text/plain": [
       "0.7534595240977716"
      ]
     },
     "execution_count": 27,
     "metadata": {},
     "output_type": "execute_result"
    }
   ],
   "source": [
    "X_val_scaled = scaler.transform(X_val)\n",
    "\n",
    "reg.score(X_val_scaled, y_val)"
   ]
  },
  {
   "cell_type": "markdown",
   "metadata": {
    "id": "_KOf5SDdUXiB"
   },
   "source": [
    "## 5-2.valも同じscalerで変換しなくてはいけない理由\n",
    "\n",
    "おもちゃデータ"
   ]
  },
  {
   "cell_type": "code",
   "execution_count": null,
   "metadata": {
    "colab": {
     "base_uri": "https://localhost:8080/",
     "height": 448
    },
    "collapsed": true,
    "executionInfo": {
     "elapsed": 390,
     "status": "ok",
     "timestamp": 1684232030451,
     "user": {
      "displayName": "MASATO TAKI",
      "userId": "06408555804759539719"
     },
     "user_tz": -540
    },
    "id": "OOXuwTOBUXiB",
    "outputId": "6ae79469-b45e-4b7f-9f80-3b54a694032a"
   },
   "outputs": [
    {
     "data": {
      "text/plain": [
       "<matplotlib.collections.PathCollection at 0x7f63b4d2cee0>"
      ]
     },
     "execution_count": 28,
     "metadata": {},
     "output_type": "execute_result"
    },
    {
     "data": {
      "image/png": "[encoded data removed]",
      "text/plain": [
       "<Figure size 640x480 with 1 Axes>"
      ]
     },
     "metadata": {},
     "output_type": "display_data"
    }
   ],
   "source": [
    "X_toy = 10*np.random.randn(10,1)\n",
    "X_toy_val = 10*np.random.randn(5,1)\n",
    "plt.scatter(X_toy,np.zeros_like(X_toy),c='gray')\n",
    "plt.scatter(X_toy_val,np.zeros_like(X_toy_val),c='red')"
   ]
  },
  {
   "cell_type": "markdown",
   "metadata": {
    "id": "evySQKVNUXiB"
   },
   "source": [
    "正しいscalingのやり方"
   ]
  },
  {
   "cell_type": "code",
   "execution_count": null,
   "metadata": {
    "collapsed": true,
    "id": "1WA_tNViUXiB"
   },
   "outputs": [],
   "source": [
    "scaler = MinMaxScaler()\n",
    "scaler.fit(X_toy)\n",
    "X_toy_scaled = scaler.transform(X_toy)\n",
    "X_toy_val_scaled = scaler.transform(X_toy_val)"
   ]
  },
  {
   "cell_type": "markdown",
   "metadata": {
    "id": "lZ9fGpdIUXiC"
   },
   "source": [
    "すると<b>訓練データと検証データの相対的位置関係は全く同じ</b>："
   ]
  },
  {
   "cell_type": "code",
   "execution_count": null,
   "metadata": {
    "colab": {
     "base_uri": "https://localhost:8080/",
     "height": 448
    },
    "collapsed": true,
    "executionInfo": {
     "elapsed": 367,
     "status": "ok",
     "timestamp": 1684232072206,
     "user": {
      "displayName": "MASATO TAKI",
      "userId": "06408555804759539719"
     },
     "user_tz": -540
    },
    "id": "Bsv4mZD2UXiC",
    "outputId": "ccefc9b6-0630-4435-bf80-633736a5a667"
   },
   "outputs": [
    {
     "data": {
      "text/plain": [
       "<matplotlib.collections.PathCollection at 0x7f63b4be1a20>"
      ]
     },
     "execution_count": 30,
     "metadata": {},
     "output_type": "execute_result"
    },
    {
     "data": {
      "image/png": "[encoded data removed]",
      "text/plain": [
       "<Figure size 640x480 with 1 Axes>"
      ]
     },
     "metadata": {},
     "output_type": "display_data"
    }
   ],
   "source": [
    "plt.scatter(X_toy_scaled,np.zeros_like(X_toy),c='gray')\n",
    "plt.scatter(X_toy_val_scaled,np.zeros_like(X_toy_val),c='red')"
   ]
  },
  {
   "cell_type": "markdown",
   "metadata": {
    "id": "F5sFi3H4UXiC"
   },
   "source": [
    "誤ったやり方では、検証データが<b>全く違う分布</b>になってしまう："
   ]
  },
  {
   "cell_type": "code",
   "execution_count": null,
   "metadata": {
    "colab": {
     "base_uri": "https://localhost:8080/",
     "height": 448
    },
    "collapsed": true,
    "executionInfo": {
     "elapsed": 359,
     "status": "ok",
     "timestamp": 1684232170285,
     "user": {
      "displayName": "MASATO TAKI",
      "userId": "06408555804759539719"
     },
     "user_tz": -540
    },
    "id": "bcxL3Ag3UXiC",
    "outputId": "8e2c30e6-370b-4a7f-f88b-b5d5632fa343"
   },
   "outputs": [
    {
     "data": {
      "text/plain": [
       "<matplotlib.collections.PathCollection at 0x7f63b4a6bb20>"
      ]
     },
     "execution_count": 31,
     "metadata": {},
     "output_type": "execute_result"
    },
    {
     "data": {
      "image/png": "[encoded data removed]",
      "text/plain": [
       "<Figure size 640x480 with 1 Axes>"
      ]
     },
     "metadata": {},
     "output_type": "display_data"
    }
   ],
   "source": [
    "scaler = MinMaxScaler()\n",
    "scaler.fit(X_toy)\n",
    "X_toy_scaled = scaler.transform(X_toy)\n",
    "scaler.fit(X_toy_val)\n",
    "X_toy_val_scaled = scaler.transform(X_toy_val)\n",
    "plt.scatter(X_toy_scaled,np.zeros_like(X_toy),c='gray')\n",
    "plt.scatter(X_toy_val_scaled,np.zeros_like(X_toy_val),c='red')"
   ]
  },
  {
   "cell_type": "markdown",
   "metadata": {
    "id": "ZRisLcWSUXiC"
   },
   "source": [
    "# <center>単回帰のスクラッチ実装＊</center>\n",
    "\n",
    "では、先ほどのライブラリはどのようにできていたのでしょう？似たものをスクラッチから作ってみましょう。\n",
    "\n",
    "- 座学で学習した仕組みを、コーディングを通じて理解する。\n",
    "- Pythonコーディングに徐々に慣れる。\n",
    "- Numpy配列の操作、クラスを使うのメリット等々に慣れる\n",
    "\n",
    "問題形式なので、復習時には自分で解きながら実装を再現してみましょう。"
   ]
  },
  {
   "cell_type": "markdown",
   "metadata": {
    "id": "Vj7P_S0yUXiD"
   },
   "source": [
    "# 6.回帰モデルの復習とNumPyによる実装＊\n",
    "\n",
    "### 単回帰の目的\n",
    "> 与えられた入力値`x`に対応する出力値`y`をできるだけ正確に予想する\n",
    "\n",
    "### 単回帰の学習\n",
    "> たくさんの入・出力値のペアの具体例（<b>インスタンス</b>）の集合 $(x_1,y_1),(x_2,y_2)\\cdots,(x_N,y_N)$を用意し、ここから入・出力の間の関係（パターン）を<b>学習</b>。"
   ]
  },
  {
   "cell_type": "markdown",
   "metadata": {
    "id": "yAVD7vrPUXiD"
   },
   "source": [
    "### 単回帰モデル\n",
    "$\\hat{y\\,}$（$y$の<b>予測値</b>）を計算する次の線形モデルが回帰モデル\n",
    ">\\begin{align}\n",
    "\\hat{y\\,}(x;a,b)=ax+b\n",
    "\\end{align}\n",
    "\n",
    "- 学習 = 適切な<b>パラメータ</b>$a,b$の値をデータから決めること。\n",
    "- 学習には<b>勾配降下法</b>を用いる。"
   ]
  },
  {
   "cell_type": "markdown",
   "metadata": {
    "id": "8oKzz91GUXiD"
   },
   "source": [
    "### 問1 : 学習パラメータの初期化\n",
    "パラメータaとbを、区間[-1,1]の<b>一様な乱数</b>を使って初期化しなさい（乱数の発生にはnumpyのrandomモジュールを用いると良い）。"
   ]
  },
  {
   "cell_type": "markdown",
   "metadata": {
    "id": "JKBq4N2BUXiD"
   },
   "source": [
    "<b>答え</b>"
   ]
  },
  {
   "cell_type": "code",
   "execution_count": null,
   "metadata": {
    "collapsed": true,
    "id": "W21pJotvUXiD"
   },
   "outputs": [],
   "source": [
    "a = 2 * np.random.rand() - 1\n",
    "b = 2 * np.random.rand() - 1"
   ]
  },
  {
   "cell_type": "markdown",
   "metadata": {
    "id": "0ssk7I1FUXiD"
   },
   "source": [
    "モジュールを使って発生できる乱数の区間は[0,1]なので、二倍して1を引く。randomモジュールについては例えば\n",
    "https://qiita.com/takahiro_itazuri/items/47fc35843b6a5435a33f"
   ]
  },
  {
   "cell_type": "markdown",
   "metadata": {
    "id": "vrt4BRTLUXiD"
   },
   "source": [
    "### 問2：線形モデル\n",
    "xが与えられた時に、パラメータa、bを使って予測値 $\\hat{y\\,}$ を返す関数`predict(x)`を定義しなさい。"
   ]
  },
  {
   "cell_type": "markdown",
   "metadata": {
    "id": "Pv9xByGsUXiE"
   },
   "source": [
    "<b>答え</b>"
   ]
  },
  {
   "cell_type": "code",
   "execution_count": null,
   "metadata": {
    "collapsed": true,
    "id": "Iq_xzeZIUXiE"
   },
   "outputs": [],
   "source": [
    "def predict(x):\n",
    "\n",
    "    y_hat = a * x + b\n",
    "\n",
    "    return y_hat"
   ]
  },
  {
   "cell_type": "markdown",
   "metadata": {
    "id": "aE1hysiAUXiE"
   },
   "source": [
    "<b>注意</b>\n",
    "\n",
    "配列の足し算に備わる<b>ブロードキャスト機能</b>を思い出しましょう"
   ]
  },
  {
   "cell_type": "markdown",
   "metadata": {
    "id": "_BSEgXgdqA6-"
   },
   "source": [
    "![スクリーンショット 2021-05-18 17.46.44.png](data:image/png;base64,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)"
   ]
  },
  {
   "cell_type": "markdown",
   "metadata": {
    "id": "u__LbdPkqY8j"
   },
   "source": [
    "![スクリーンショット 2021-05-18 17.47.56.png](data:image/png;base64,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)"
   ]
  },
  {
   "cell_type": "markdown",
   "metadata": {
    "id": "qNFTbisLqrEw"
   },
   "source": [
    "![スクリーンショット 2021-05-18 17.49.06.png](data:image/png;base64,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)"
   ]
  },
  {
   "cell_type": "markdown",
   "metadata": {
    "id": "Js5M_9JJUXiE"
   },
   "source": [
    "# 7.勾配降下法の復習とNumPyによる実装＊\n",
    "\n",
    "学習は誤差関数\n",
    "\n",
    "\n",
    "\\begin{align}\n",
    "E(a,b)\n",
    "=\n",
    "\\frac{1}{N}\n",
    "\\sum_{n=1}^N\\bigg(\\,\\hat{y\\,}(x_n;a,b)-y_n\\,\\bigg)^2\n",
    "\\end{align}\n",
    "\n",
    "を最小にするパラメータを探す作業でした。"
   ]
  },
  {
   "cell_type": "markdown",
   "metadata": {
    "id": "8aECpnQdUXiE"
   },
   "source": [
    "## 問3：誤差関数の勾配の性質\n",
    "二つのパラメータに関する勾配を数学的に計算しましょう（講義ノートで復習！）\n",
    "\n",
    "\\begin{align}\n",
    "\\frac{\\partial E(a,b)}{\\partial a}=\\,\\, ?\n",
    "\\end{align}\n",
    "\n",
    "\\begin{align}\n",
    "\\frac{\\partial E(a,b)}{\\partial b}=\\,\\, ?\n",
    "\\end{align}\n",
    "\n",
    "## 答え"
   ]
  },
  {
   "cell_type": "markdown",
   "metadata": {
    "id": "vGEfmL8kUXiE"
   },
   "source": [
    "\\begin{align}\n",
    "\\Delta y_n (a,b)= \\hat{y\\,}(x_n;a,b)-y_n\n",
    "\\end{align}\n",
    "という記号を使うと\n",
    "\n",
    "\\begin{align}\n",
    "\\frac{\\partial E(a,b)}{\\partial a}= \\frac{2}{N}\\sum_n\n",
    "x_n\\,\\Delta y_n (a,b)\n",
    "\\end{align}\n",
    "\n",
    "\\begin{align}\n",
    "\\frac{\\partial E(a,b)}{\\partial b}=\\frac{2}{N}\\sum_n\n",
    "\\,\\Delta y_n (a,b)\n",
    "\\end{align}\n",
    "\n",
    "さらに配列で書くと\n",
    "\n",
    "\\begin{align}\n",
    "\\frac{\\partial E(a,b)}{\\partial a}\n",
    "=\\frac{2}{N}\n",
    "\\begin{pmatrix}x_1&\\cdots&x_N\\end{pmatrix}\n",
    "\\begin{pmatrix}\\Delta y_1\\\\\\vdots\\\\\\Delta y_N\\end{pmatrix}\n",
    "= \\frac{2}{N}X^\\top\\Delta Y (a,b)\n",
    "\\end{align}\n",
    "\n",
    "\\begin{align}\n",
    "\\frac{\\partial E(a,b)}{\\partial b}=\\frac{2}{N}\n",
    "\\begin{pmatrix}1&\\cdots&1\\end{pmatrix}\n",
    "\\begin{pmatrix}\\Delta y_1\\\\\\vdots\\\\\\Delta y_N\\end{pmatrix}\n",
    "= \\frac{2}{N}I^\\top\\Delta Y (a,b)\n",
    "\\end{align}"
   ]
  },
  {
   "cell_type": "markdown",
   "metadata": {
    "id": "4JxFSE71quZZ"
   },
   "source": [
    "![スクリーンショット 2021-05-18 17.50.15.png](data:image/png;base64,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)"
   ]
  },
  {
   "cell_type": "markdown",
   "metadata": {
    "id": "BnKaJnH5q88o"
   },
   "source": [
    "![スクリーンショット 2021-05-18 17.50.28.png](data:image/png;base64,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)"
   ]
  },
  {
   "cell_type": "markdown",
   "metadata": {
    "id": "StHV9WRIrCKv"
   },
   "source": [
    "![スクリーンショット 2021-05-18 17.50.39.png](data:image/png;base64,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)"
   ]
  },
  {
   "cell_type": "markdown",
   "metadata": {
    "id": "j75s3jjIUXiE"
   },
   "source": [
    "## 問4：勾配計算\n",
    "上の式を用いて、勾配を計算するコードを書きましょう。\n",
    "\n",
    "ただしデータはそれぞれshape (N,1)の配列`X`、`y`として与えられるものとします。<b>`X`と`y`を引数として、`a`と`b`の勾配の値を返す関数`grad_a()`と`grad_b()`</b>を作りましょう：\n",
    "\n",
    "## 答え"
   ]
  },
  {
   "cell_type": "code",
   "execution_count": null,
   "metadata": {
    "collapsed": true,
    "id": "1-G8i82wUXiE"
   },
   "outputs": [],
   "source": [
    "def grad_a(X, y):\n",
    "    N = X.shape[0]\n",
    "    da = 2/N * X.T @ (predict(X) - y)\n",
    "    return da"
   ]
  },
  {
   "cell_type": "code",
   "execution_count": null,
   "metadata": {
    "collapsed": true,
    "id": "bnPUg6OzUXiF"
   },
   "outputs": [],
   "source": [
    "def grad_b(X, y):\n",
    "    N = X.shape[0]\n",
    "    I = np.ones_like(y)\n",
    "    db = 2/N * I.T @ (predict(X) - y)\n",
    "    return db"
   ]
  },
  {
   "cell_type": "markdown",
   "metadata": {
    "id": "OkvgIK38UXiF"
   },
   "source": [
    "平均値でも良い"
   ]
  },
  {
   "cell_type": "code",
   "execution_count": null,
   "metadata": {
    "collapsed": true,
    "id": "d8izWPpFUXiF"
   },
   "outputs": [],
   "source": [
    "def grad_b(X, y):\n",
    "\n",
    "    db = 2 * np.mean(predict(X) - y)\n",
    "\n",
    "    return db"
   ]
  },
  {
   "cell_type": "markdown",
   "metadata": {
    "id": "OWURikFuUXiF"
   },
   "source": [
    "<details>\n",
    "このように計算したda、dbはスカラーではなくサイズ`(1,1)`の配列になっています。\n",
    "Q.なんででしょうか？<summary><b>細かい注意事項</b>(クリック)</summary></details>"
   ]
  },
  {
   "cell_type": "markdown",
   "metadata": {
    "id": "fbqEdlv6UXiF"
   },
   "source": [
    "この関数を使うと、勾配降下法１ステップは次のようにかけます：\n",
    "\n",
    "```python\n",
    "eta = 0.01# 学習率\n",
    "\n",
    "a = a - eta * grad_a (X, Y)\n",
    "b = b - eta * grad_b (X, Y)\n",
    "```"
   ]
  },
  {
   "cell_type": "markdown",
   "metadata": {
    "id": "qjknxNo7UXiF"
   },
   "source": [
    "## 問5：勾配降下法\n",
    "学習率0.1で、この勾配降下法を`epochs=1000`繰り返しなさい。\n",
    "\n",
    "## 答え"
   ]
  },
  {
   "cell_type": "code",
   "execution_count": null,
   "metadata": {
    "colab": {
     "base_uri": "https://localhost:8080/"
    },
    "collapsed": true,
    "executionInfo": {
     "elapsed": 339,
     "status": "ok",
     "timestamp": 1684233795385,
     "user": {
      "displayName": "MASATO TAKI",
      "userId": "06408555804759539719"
     },
     "user_tz": -540
    },
    "id": "3zmjgJlwUXiF",
    "outputId": "8f410501-ce9a-4397-af38-5ae7b9a82984"
   },
   "outputs": [
    {
     "name": "stdout",
     "output_type": "stream",
     "text": [
      "a = -0.1756869077937253 , b = 0.14287451199613233\n"
     ]
    }
   ],
   "source": [
    "print('a =', a, ', b =',b)"
   ]
  },
  {
   "cell_type": "code",
   "execution_count": null,
   "metadata": {
    "collapsed": true,
    "id": "x3K_XvrSUXiF"
   },
   "outputs": [],
   "source": [
    "epochs = 1000\n",
    "eta = 0.1\n",
    "\n",
    "for i in range(epochs):\n",
    "    a, b = a - eta * grad_a(X_train_scaled, y_train), b - eta * grad_b(X_train_scaled, y_train)"
   ]
  },
  {
   "cell_type": "code",
   "execution_count": null,
   "metadata": {
    "colab": {
     "base_uri": "https://localhost:8080/"
    },
    "collapsed": true,
    "executionInfo": {
     "elapsed": 345,
     "status": "ok",
     "timestamp": 1684233881597,
     "user": {
      "displayName": "MASATO TAKI",
      "userId": "06408555804759539719"
     },
     "user_tz": -540
    },
    "id": "Tw4TFyJ4UXiG",
    "outputId": "ef66ad18-0019-4d57-f532-47c412ed319d"
   },
   "outputs": [
    {
     "name": "stdout",
     "output_type": "stream",
     "text": [
      "a = [[8.94636709]] , b = 77.2263279144062\n"
     ]
    }
   ],
   "source": [
    "print('a =', a, ', b =',b)"
   ]
  },
  {
   "cell_type": "markdown",
   "metadata": {
    "id": "fUnQ8ihRUXiG"
   },
   "source": [
    "初期値はスカラーなのに、この実装法では学習後は`(1,1)`の配列になっています。\n",
    "\n",
    "Q.なんででしょう？"
   ]
  },
  {
   "cell_type": "markdown",
   "metadata": {
    "id": "4_CTJ7WyUXiG"
   },
   "source": [
    "ただこのやり方では実用の場面では不便で、いろいろと間違いを引き起こしやすいです。なぜなら、例えば次に別のデータを回帰する場合には`a,b`の初期化を忘れてはいけませんし、そうすると前回の学習結果の`a,b`は消えてしまいます。前回の結果を並行して解析したい場合は不便です。また`a`などという使いがちな変数名をつけたため、他の場所で`a`が書き換えられてしまう可能性もあります。\n",
    "\n",
    "そこで以上の機能を<b>クラス</b>にまとめます。"
   ]
  },
  {
   "cell_type": "markdown",
   "metadata": {
    "id": "ZGgoEkr2UXiG"
   },
   "source": [
    "# 8.クラス入門\n",
    "\n",
    "クラスというのは、オブジェクト（インスタンス）の設計図です。独自のクラスを実装することで、色々な値や機能をひとまとめにした望みのオブジェクトを作ることができます。"
   ]
  },
  {
   "cell_type": "markdown",
   "metadata": {
    "id": "PNz_8dYOUXiG"
   },
   "source": [
    "とはいえ初めて学ぶ方はこの説明ではピンとこないでしょう。とりあえず次の例題で手を動かして少し理解に挑戦しましょう：\n",
    "\n",
    "<b>例題：次の二つを実装しなさい：\n",
    "- くじ１：確率0.5で「あたり」、確率0.5で「外れ」を`print`する\n",
    "- くじ２：確率0.2で「大吉」、確率0.8で「凶」を`print`する</b>\n",
    "\n",
    "それぞれ二つの関数で実装しても良いのですが、くじ１と２は共通の性質をたくさん持っているので、一つのクラスを使って実装してみます\n",
    "\n",
    "そこで問題を次のように言い換えます\n",
    "\n",
    "：<b>確率pで`output1`、確率1-pで`output2`を`print`するクラスを実装する</b>。"
   ]
  },
  {
   "cell_type": "markdown",
   "metadata": {
    "id": "ViWG7k7ZUXiG"
   },
   "source": [
    "例えば`spam`という名前の関数は\n",
    "```python\n",
    "def spam():\n",
    "    . . .\n",
    "```\n",
    "と定義しましたが、`Spam`という名前のクラスは\n",
    "```python\n",
    "class Spam():\n",
    "    . . .\n",
    "```\n",
    "という形で定義できます。中身には色々なものを詰めこむことができますが、まずは<b>コンストラクタ</b>から"
   ]
  },
  {
   "cell_type": "markdown",
   "metadata": {
    "id": "DavjqD69UXiG"
   },
   "source": [
    "これから作るクラスは`Lottery`という名前にしましょう。この設計図から作られる各くじは、あたり確率`p`と、出力文`output1`、`output2`を中身に持っていなくてはなりません（インスタンス変数）："
   ]
  },
  {
   "cell_type": "code",
   "execution_count": null,
   "metadata": {
    "collapsed": true,
    "id": "V0a9RWcMUXiG"
   },
   "outputs": [],
   "source": [
    "class Lottery():\n",
    "    def __init__(self, p, output1, output2):\n",
    "        self.p = p\n",
    "        self.output1 = output1\n",
    "        self.output2 = output2"
   ]
  },
  {
   "cell_type": "markdown",
   "metadata": {
    "id": "z-NF_b2TUXiG"
   },
   "source": [
    "第一引数`self`は、この設計図から生成される各オブジェクトを指し示すためのもので、`self`と書くのが作法です。今は意味がわからなくても、とりあえず「こういうものか」と思ってください。"
   ]
  },
  {
   "cell_type": "markdown",
   "metadata": {
    "id": "uQO3B-J9UXiH"
   },
   "source": [
    "この設計図から作られるくじオブジェクトの、実際のくじ引き動作を<b>`draw`というメソッド</b>で定義してみます："
   ]
  },
  {
   "cell_type": "code",
   "execution_count": null,
   "metadata": {
    "collapsed": true,
    "id": "STnL7m7XUXiH"
   },
   "outputs": [],
   "source": [
    "class Lottery():\n",
    "    def __init__(self, p, output1, output2):\n",
    "        self.p = p\n",
    "        self.output1 = output1\n",
    "        self.output2 = output2\n",
    "\n",
    "    def draw(self):\n",
    "        if np.random.rand()<self.p:\n",
    "            print(self.output1)\n",
    "        else:\n",
    "            print(self.output2)"
   ]
  },
  {
   "cell_type": "markdown",
   "metadata": {
    "id": "jm1AzOE5UXiH"
   },
   "source": [
    "「くじ１」の要件を満たすオブジェクトを、このクラスから生成して見ましょう："
   ]
  },
  {
   "cell_type": "code",
   "execution_count": null,
   "metadata": {
    "collapsed": true,
    "id": "90w4OW6CUXiH"
   },
   "outputs": [],
   "source": [
    "lottery1 = Lottery(0.5, 'あたり', '外れ')"
   ]
  },
  {
   "cell_type": "markdown",
   "metadata": {
    "id": "47UG9w3_UXiH"
   },
   "source": [
    "くじを引くには、このオブジェクトの`draw`メソッドを実行すればいいのです："
   ]
  },
  {
   "cell_type": "code",
   "execution_count": null,
   "metadata": {
    "colab": {
     "base_uri": "https://localhost:8080/"
    },
    "collapsed": true,
    "executionInfo": {
     "elapsed": 3,
     "status": "ok",
     "timestamp": 1684234605015,
     "user": {
      "displayName": "MASATO TAKI",
      "userId": "06408555804759539719"
     },
     "user_tz": -540
    },
    "id": "770g3P2vUXiH",
    "outputId": "5f937dd5-560a-4cb8-a2dd-afd8e17c26c3"
   },
   "outputs": [
    {
     "name": "stdout",
     "output_type": "stream",
     "text": [
      "外れ\n"
     ]
    }
   ],
   "source": [
    "lottery1.draw()"
   ]
  },
  {
   "cell_type": "markdown",
   "metadata": {
    "id": "VmBbY23_UXiH"
   },
   "source": [
    "「くじ２」は<b>同じクラス</b>の<b>別のブシェクト</b>として"
   ]
  },
  {
   "cell_type": "code",
   "execution_count": null,
   "metadata": {
    "collapsed": true,
    "id": "WDgZw-1dUXiH"
   },
   "outputs": [],
   "source": [
    "lottery2 = Lottery(0.2, '大吉', '凶')"
   ]
  },
  {
   "cell_type": "code",
   "execution_count": null,
   "metadata": {
    "colab": {
     "base_uri": "https://localhost:8080/"
    },
    "collapsed": true,
    "executionInfo": {
     "elapsed": 3,
     "status": "ok",
     "timestamp": 1684234644841,
     "user": {
      "displayName": "MASATO TAKI",
      "userId": "06408555804759539719"
     },
     "user_tz": -540
    },
    "id": "HcjdYub0UXiH",
    "outputId": "abb7a1ac-88aa-4110-c5b8-bd3cf47ed9c9"
   },
   "outputs": [
    {
     "name": "stdout",
     "output_type": "stream",
     "text": [
      "凶\n"
     ]
    }
   ],
   "source": [
    "lottery2.draw()"
   ]
  },
  {
   "cell_type": "markdown",
   "metadata": {
    "id": "s2gYm8kXUXiH"
   },
   "source": [
    "プログラミングやオブジェクト指向が初めての方は、しばらく理解（慣れ）に時間がかかります。今後繰り返し触れることで消化していってください。"
   ]
  },
  {
   "cell_type": "markdown",
   "metadata": {
    "id": "GMOWvdp1UXiI"
   },
   "source": [
    "# 9.クラスによる実装＊\n"
   ]
  },
  {
   "cell_type": "markdown",
   "metadata": {
    "id": "WixFwIntUXiI"
   },
   "source": [
    "## 問6：回帰のクラス実装\n",
    "以上で準備の終わった部品を全て組み上げて、クラスの形で実装しましょう。\n",
    "\n",
    "クラスの定義における`self`の使い方に注意しましょう（→Pythonの授業・教科書参照）\n",
    "\n",
    "## 答え"
   ]
  },
  {
   "cell_type": "code",
   "execution_count": null,
   "metadata": {
    "collapsed": true,
    "id": "3TMl8O-fUXiI"
   },
   "outputs": [],
   "source": [
    "class MyLinearRegression():\n",
    "    def __init__(self, eta, n_iter):\n",
    "        self.eta = eta\n",
    "        self.n_iter = n_iter\n",
    "        self.a = 2 * (np.random.rand() - 0.5)\n",
    "        self.b = 2 * (np.random.rand() - 0.5)\n",
    "\n",
    "    def predict(self, x):\n",
    "        y = self.a * x + self.b\n",
    "        return y\n",
    "\n",
    "    def grad_a(self, X, y):\n",
    "        N = X.shape[0]\n",
    "        da = 2/N * X.T @ (self.predict(X) - y)\n",
    "        return da\n",
    "\n",
    "    def grad_b(self, X, y):\n",
    "        db = 2 * np.mean(self.predict(X) - y)\n",
    "        return db\n",
    "\n",
    "    def fit(self, X, y):\n",
    "        for _ in range(self.n_iter):\n",
    "            self.a, self.b  = self.a - self.eta*self.grad_a(X, y), self.b - self.eta*self.grad_b(X, y)\n",
    "        return self"
   ]
  },
  {
   "cell_type": "markdown",
   "metadata": {
    "id": "noPzP9ADUXiI"
   },
   "source": [
    "## 問7：実装の最終確認\n",
    "動作チェックをしましょう。"
   ]
  },
  {
   "cell_type": "markdown",
   "metadata": {
    "id": "g35hfxSyUXiI"
   },
   "source": [
    "クラスから、一個モデルのインスタンス（＝オブジェクト）を生成"
   ]
  },
  {
   "cell_type": "code",
   "execution_count": null,
   "metadata": {
    "collapsed": true,
    "id": "orCUyaGEUXiI"
   },
   "outputs": [],
   "source": [
    "reg = MyLinearRegression(eta=0.01, n_iter=5000)"
   ]
  },
  {
   "cell_type": "markdown",
   "metadata": {
    "id": "45sK4QBSUXiI"
   },
   "source": [
    "このインスタンスの`fit`メソッドで学習させる"
   ]
  },
  {
   "cell_type": "code",
   "execution_count": null,
   "metadata": {
    "colab": {
     "base_uri": "https://localhost:8080/"
    },
    "collapsed": true,
    "executionInfo": {
     "elapsed": 4,
     "status": "ok",
     "timestamp": 1684234877281,
     "user": {
      "displayName": "MASATO TAKI",
      "userId": "06408555804759539719"
     },
     "user_tz": -540
    },
    "id": "kG3VkyKYUXiI",
    "outputId": "d421a733-dad6-417d-ab7e-f37ff14653d8"
   },
   "outputs": [
    {
     "data": {
      "text/plain": [
       "<__main__.MyLinearRegression at 0x7f63b4d2f640>"
      ]
     },
     "execution_count": 60,
     "metadata": {},
     "output_type": "execute_result"
    }
   ],
   "source": [
    "reg.fit(X_train_scaled, y_train)"
   ]
  },
  {
   "cell_type": "markdown",
   "metadata": {
    "id": "v0kk1CxXUXiI"
   },
   "source": [
    "テストセットに対して、`y`の予測値$\\hat{y}$を計算してみる"
   ]
  },
  {
   "cell_type": "code",
   "execution_count": null,
   "metadata": {
    "colab": {
     "base_uri": "https://localhost:8080/"
    },
    "collapsed": true,
    "executionInfo": {
     "elapsed": 6,
     "status": "ok",
     "timestamp": 1684234882300,
     "user": {
      "displayName": "MASATO TAKI",
      "userId": "06408555804759539719"
     },
     "user_tz": -540
    },
    "id": "T02IhjrVUXiI",
    "outputId": "f3b023eb-2e7f-4d26-991f-abf765c94773"
   },
   "outputs": [
    {
     "data": {
      "text/plain": [
       "array([[84.16760302],\n",
       "       [80.43239384],\n",
       "       [81.25058252],\n",
       "       [78.39285105],\n",
       "       [79.28218657],\n",
       "       [84.10831398],\n",
       "       [85.74469134],\n",
       "       [79.91065034],\n",
       "       [78.41656667],\n",
       "       [80.14780648],\n",
       "       [78.39285105],\n",
       "       [82.4126476 ],\n",
       "       [86.57473782],\n",
       "       [86.8830408 ],\n",
       "       [81.49959646],\n",
       "       [79.73278323],\n",
       "       [79.25847096]])"
      ]
     },
     "execution_count": 61,
     "metadata": {},
     "output_type": "execute_result"
    }
   ],
   "source": [
    "reg.predict(X_val_scaled)"
   ]
  },
  {
   "cell_type": "markdown",
   "metadata": {
    "id": "RXYhrZXSUXiJ"
   },
   "source": [
    "これとデータの正しい値を比べてスコア($R^2$)を計算する関数を実装しましょう（→宿題）"
   ]
  },
  {
   "cell_type": "markdown",
   "metadata": {
    "id": "cxvfa0MJUXiJ"
   },
   "source": [
    "## `return self`とメソッドチェイン＊\n",
    "\n",
    "`fit()`がインスタンスを返すようになっているので、`reg.fit(X_train, y_train).predict(X_test)`とメソッドを続けて処理できる。"
   ]
  },
  {
   "cell_type": "code",
   "execution_count": null,
   "metadata": {
    "collapsed": true,
    "id": "GwXaRUMjUXiJ"
   },
   "outputs": [],
   "source": [
    "reg = MyLinearRegression(eta=0.01, n_iter=5000)\n",
    "reg.fit(X_train_scaled, y_train).predict(X_val_scaled)"
   ]
  },
  {
   "cell_type": "markdown",
   "metadata": {
    "id": "mMszWVxnUXiJ"
   },
   "source": [
    "# 10.勾配降下の様子＊\n",
    "\n",
    "学習中の誤差関数の履歴が見れるように機能を追加："
   ]
  },
  {
   "cell_type": "code",
   "execution_count": null,
   "metadata": {
    "collapsed": true,
    "id": "wD4dTgyQUXiJ"
   },
   "outputs": [],
   "source": [
    "class MyLinearRegression2():\n",
    "    def __init__(self, eta, n_iter):\n",
    "        self.eta = eta\n",
    "        self.n_iter = n_iter\n",
    "        self.a = 2 * (np.random.rand() - 0.5)\n",
    "        self.b = 2 * (np.random.rand() - 0.5)\n",
    "\n",
    "    def fit(self, X, y):\n",
    "        self.loss_ = []\n",
    "        N = X.shape[0]\n",
    "        for i in range(self.n_iter):\n",
    "            self.a, self.b  = self.a - self.eta*self.grad_a(X, y), self.b - self.eta*self.grad_b(X, y)\n",
    "            loss = 1/N * np.sum((self.predict(X) - y)**2)\n",
    "            self.loss_.append(loss)\n",
    "        return self\n",
    "\n",
    "    def predict(self, x):\n",
    "        y = self.a * x + self.b\n",
    "        return y\n",
    "\n",
    "    def grad_a(self, X, y):\n",
    "        N = X.shape[0]\n",
    "        da = 2/N * X.T @(self.predict(X) - y)\n",
    "        return da\n",
    "\n",
    "    def grad_b(self, X, y):\n",
    "        db = 2 * np.mean(self.predict(X) - y)\n",
    "        return db"
   ]
  },
  {
   "cell_type": "markdown",
   "metadata": {
    "id": "IxbUnsC6UXiJ"
   },
   "source": [
    "学習率`0.1`で学習"
   ]
  },
  {
   "cell_type": "code",
   "execution_count": null,
   "metadata": {
    "collapsed": true,
    "id": "Hp9xoJ_QUXiJ"
   },
   "outputs": [],
   "source": [
    "reg = MyLinearRegression2(eta=0.1, n_iter=100)"
   ]
  },
  {
   "cell_type": "code",
   "execution_count": null,
   "metadata": {
    "colab": {
     "base_uri": "https://localhost:8080/"
    },
    "executionInfo": {
     "elapsed": 5,
     "status": "ok",
     "timestamp": 1684234990882,
     "user": {
      "displayName": "MASATO TAKI",
      "userId": "06408555804759539719"
     },
     "user_tz": -540
    },
    "id": "kQbdSMrgUXiJ",
    "outputId": "ec24ee65-9022-47ff-b5d3-cb4f28efa80f"
   },
   "outputs": [
    {
     "data": {
      "text/plain": [
       "<__main__.MyLinearRegression2 at 0x7f63b4b28190>"
      ]
     },
     "execution_count": 64,
     "metadata": {},
     "output_type": "execute_result"
    }
   ],
   "source": [
    "reg.fit(X_train_scaled, y_train)"
   ]
  },
  {
   "cell_type": "markdown",
   "metadata": {
    "id": "uxw6iCcgUXiJ"
   },
   "source": [
    "学習曲線（横軸：エポック数、縦軸：誤差関数の値）"
   ]
  },
  {
   "cell_type": "code",
   "execution_count": null,
   "metadata": {
    "colab": {
     "base_uri": "https://localhost:8080/",
     "height": 560
    },
    "collapsed": true,
    "executionInfo": {
     "elapsed": 1153,
     "status": "ok",
     "timestamp": 1684234994672,
     "user": {
      "displayName": "MASATO TAKI",
      "userId": "06408555804759539719"
     },
     "user_tz": -540
    },
    "id": "f2VnJmW1UXiJ",
    "outputId": "c06c36a6-a686-44b1-e70a-2ece349d277f"
   },
   "outputs": [
    {
     "data": {
      "text/plain": [
       "Text(0, 0.5, 'loss')"
      ]
     },
     "execution_count": 65,
     "metadata": {},
     "output_type": "execute_result"
    },
    {
     "data": {
      "image/png": "[encoded data removed]",
      "text/plain": [
       "<Figure size 800x600 with 1 Axes>"
      ]
     },
     "metadata": {},
     "output_type": "display_data"
    }
   ],
   "source": [
    "fig = plt.figure(figsize=(8,6))\n",
    "ax = plt.axes()\n",
    "ax.plot(reg.loss_, marker='o')\n",
    "ax.set_xlabel('epoch')\n",
    "ax.set_ylabel('loss')"
   ]
  },
  {
   "cell_type": "markdown",
   "metadata": {
    "id": "VTUgdnDtUXiK"
   },
   "source": [
    "学習が大きすぎる場合（降下しない）："
   ]
  },
  {
   "cell_type": "code",
   "execution_count": null,
   "metadata": {
    "colab": {
     "base_uri": "https://localhost:8080/"
    },
    "collapsed": true,
    "executionInfo": {
     "elapsed": 4,
     "status": "ok",
     "timestamp": 1684235022903,
     "user": {
      "displayName": "MASATO TAKI",
      "userId": "06408555804759539719"
     },
     "user_tz": -540
    },
    "id": "JD-QC5uiUXiK",
    "outputId": "5b7e6623-0784-43aa-a49f-616251537e74"
   },
   "outputs": [
    {
     "data": {
      "text/plain": [
       "<__main__.MyLinearRegression2 at 0x7f63b49b6d40>"
      ]
     },
     "execution_count": 66,
     "metadata": {},
     "output_type": "execute_result"
    }
   ],
   "source": [
    "reg = MyLinearRegression2(eta=0.83438, n_iter=100)\n",
    "reg.fit(X_train_scaled, y_train)"
   ]
  },
  {
   "cell_type": "code",
   "execution_count": null,
   "metadata": {
    "colab": {
     "base_uri": "https://localhost:8080/",
     "height": 560
    },
    "collapsed": true,
    "executionInfo": {
     "elapsed": 912,
     "status": "ok",
     "timestamp": 1684235037138,
     "user": {
      "displayName": "MASATO TAKI",
      "userId": "06408555804759539719"
     },
     "user_tz": -540
    },
    "id": "wQY6RuUYUXiK",
    "outputId": "615a2437-f5ba-4ef8-9194-aae6524d58ae"
   },
   "outputs": [
    {
     "data": {
      "text/plain": [
       "Text(0, 0.5, 'loss')"
      ]
     },
     "execution_count": 67,
     "metadata": {},
     "output_type": "execute_result"
    },
    {
     "data": {
      "image/png": "[encoded data removed]",
      "text/plain": [
       "<Figure size 800x600 with 1 Axes>"
      ]
     },
     "metadata": {},
     "output_type": "display_data"
    }
   ],
   "source": [
    "fig = plt.figure(figsize=(8,6))\n",
    "ax = plt.axes()\n",
    "ax.plot(reg.loss_, marker='o')\n",
    "ax.set_xlabel('epoch')\n",
    "ax.set_ylabel('loss')"
   ]
  },
  {
   "cell_type": "markdown",
   "metadata": {
    "id": "L8GcHdIrUXiK"
   },
   "source": [
    "さらに学習率が大きすぎるとき"
   ]
  },
  {
   "cell_type": "code",
   "execution_count": null,
   "metadata": {
    "colab": {
     "base_uri": "https://localhost:8080/"
    },
    "collapsed": true,
    "executionInfo": {
     "elapsed": 4,
     "status": "ok",
     "timestamp": 1684235065745,
     "user": {
      "displayName": "MASATO TAKI",
      "userId": "06408555804759539719"
     },
     "user_tz": -540
    },
    "id": "QcW5iU-QUXiK",
    "outputId": "f827c881-0c41-40e2-cab1-83879db1cb77"
   },
   "outputs": [
    {
     "data": {
      "text/plain": [
       "<__main__.MyLinearRegression2 at 0x7f63b4a1b100>"
      ]
     },
     "execution_count": 68,
     "metadata": {},
     "output_type": "execute_result"
    }
   ],
   "source": [
    "reg = MyLinearRegression2(eta=2, n_iter=100)\n",
    "reg.fit(X_train_scaled, y_train)"
   ]
  },
  {
   "cell_type": "code",
   "execution_count": null,
   "metadata": {
    "colab": {
     "base_uri": "https://localhost:8080/",
     "height": 575
    },
    "collapsed": true,
    "executionInfo": {
     "elapsed": 1255,
     "status": "ok",
     "timestamp": 1684235070902,
     "user": {
      "displayName": "MASATO TAKI",
      "userId": "06408555804759539719"
     },
     "user_tz": -540
    },
    "id": "9wEplxC-UXiK",
    "outputId": "d946ccc6-8a5b-463b-b6ab-b1c84f08babd"
   },
   "outputs": [
    {
     "data": {
      "text/plain": [
       "Text(0, 0.5, 'loss')"
      ]
     },
     "execution_count": 69,
     "metadata": {},
     "output_type": "execute_result"
    },
    {
     "data": {
      "image/png": "[encoded data removed]",
      "text/plain": [
       "<Figure size 800x600 with 1 Axes>"
      ]
     },
     "metadata": {},
     "output_type": "display_data"
    }
   ],
   "source": [
    "fig = plt.figure(figsize=(8,6))\n",
    "ax = plt.axes()\n",
    "ax.plot(reg.loss_, marker='o')\n",
    "ax.set_xlabel('epoch')\n",
    "ax.set_ylabel('loss')"
   ]
  },
  {
   "cell_type": "markdown",
   "metadata": {
    "id": "opnFvaR8UXiK"
   },
   "source": [
    "増加が激しい時は、縦軸の<b>目盛りを対数</b>にしてみる\n",
    "\n",
    "\n",
    "\n"
   ]
  },
  {
   "cell_type": "code",
   "execution_count": null,
   "metadata": {
    "colab": {
     "base_uri": "https://localhost:8080/",
     "height": 543
    },
    "collapsed": true,
    "executionInfo": {
     "elapsed": 2103,
     "status": "ok",
     "timestamp": 1684235097445,
     "user": {
      "displayName": "MASATO TAKI",
      "userId": "06408555804759539719"
     },
     "user_tz": -540
    },
    "id": "FOkJORDyUXiK",
    "outputId": "a5f34ac3-78e8-46ac-d769-fda92c5fdd8b"
   },
   "outputs": [
    {
     "data": {
      "image/png": "[encoded data removed]",
      "text/plain": [
       "<Figure size 800x600 with 1 Axes>"
      ]
     },
     "metadata": {},
     "output_type": "display_data"
    }
   ],
   "source": [
    "fig = plt.figure(figsize=(8,6))\n",
    "ax = plt.axes()\n",
    "ax.plot(reg.loss_, marker='o')\n",
    "ax.set_xlabel('epoch')\n",
    "ax.set_ylabel('log of loss')\n",
    "ax.set_yscale('log')"
   ]
  },
  {
   "cell_type": "markdown",
   "metadata": {
    "id": "3TWSoT1tUXiK"
   },
   "source": [
    "# 11.外挿の危険性"
   ]
  },
  {
   "cell_type": "markdown",
   "metadata": {
    "id": "ks1cfW6uUXiL"
   },
   "source": [
    "MinMaxScalerを使ったので、訓練データでXが取りうる範囲は0~1です。では、この範囲より先では`y`はどう予想できるでしょうか？例えばx=10では"
   ]
  },
  {
   "cell_type": "code",
   "execution_count": null,
   "metadata": {
    "colab": {
     "base_uri": "https://localhost:8080/"
    },
    "collapsed": true,
    "executionInfo": {
     "elapsed": 313,
     "status": "ok",
     "timestamp": 1684235473253,
     "user": {
      "displayName": "MASATO TAKI",
      "userId": "06408555804759539719"
     },
     "user_tz": -540
    },
    "id": "hVQT_8mnUXiL",
    "outputId": "7bbb9f71-6adf-4c54-fd06-381d115516c6"
   },
   "outputs": [
    {
     "data": {
      "text/plain": [
       "array([169.12823531])"
      ]
     },
     "execution_count": 71,
     "metadata": {},
     "output_type": "execute_result"
    }
   ],
   "source": [
    "reg = SGDRegressor(max_iter=5000, eta0=0.1)\n",
    "reg.fit(X_train_scaled, np.squeeze(y_train))\n",
    "reg.predict([[10]])"
   ]
  },
  {
   "cell_type": "markdown",
   "metadata": {
    "id": "2qVQ6rwQUXiL"
   },
   "source": [
    "AIの進歩がめざましいといっても、テストでこんな点数を取る時代が来るでしょうか？100点満点のテストでそんなわけはありません。\n",
    "\n",
    "モデルはあくまで訓練データが数値の範囲で、その範囲を超えた予測は極めて不確かで信頼できないものになります。その一方で、線形回帰はバイアスの強い手法ですので（予測区間を考慮しないと）形式的には強い外挿的予測を与えてしまいます。決定木回帰などとの大きな違いです。\n",
    "\n",
    "データとタスクに対する我々の事前知識を使って、どこまで言えるのかは慎重に分析・診断しましょう。"
   ]
  },
  {
   "cell_type": "code",
   "execution_count": null,
   "metadata": {
    "colab": {
     "base_uri": "https://localhost:8080/",
     "height": 448
    },
    "collapsed": true,
    "executionInfo": {
     "elapsed": 495,
     "status": "ok",
     "timestamp": 1684235665076,
     "user": {
      "displayName": "MASATO TAKI",
      "userId": "06408555804759539719"
     },
     "user_tz": -540
    },
    "id": "_Icz8by_UXiL",
    "outputId": "01082c8d-3e4b-4023-e28a-21a300f05ef2"
   },
   "outputs": [
    {
     "data": {
      "text/plain": [
       "<matplotlib.collections.PathCollection at 0x7f63b4abcbb0>"
      ]
     },
     "execution_count": 72,
     "metadata": {},
     "output_type": "execute_result"
    },
    {
     "data": {
      "image/png": "[encoded data removed]",
      "text/plain": [
       "<Figure size 640x480 with 1 Axes>"
      ]
     },
     "metadata": {},
     "output_type": "display_data"
    }
   ],
   "source": [
    "x_line = np.linspace(-1,9,100)\n",
    "y_line = reg.predict(x_line[:,np.newaxis])\n",
    "plt.plot(x_line, y_line)\n",
    "plt.scatter(X_train_scaled,y_train, s=4, c='gray')"
   ]
  },
  {
   "cell_type": "markdown",
   "metadata": {
    "collapsed": true,
    "id": "g4zb9HsiUXiL"
   },
   "source": [
    "今回の解析を予測の意味で理解すると、2017年7月から2018年10月の間の任意の時点での典型的なAIの点数をざっくり予測する、という問題を解いたことになります（遠い未来の「予測」ではありません）。\n",
    "\n",
    "あるいは説明・記述モデリング的に理解すると、時期とAIの性能の間にある相関関係を抽出できたことになります。これにより、この期間にAIの性能が大雑把に言うと線形的に伸びていた、というざっくりとした理解が得られたことになります。"
   ]
  },
  {
   "cell_type": "markdown",
   "metadata": {
    "id": "upCZO-APUXiK"
   },
   "source": [
    "# <center>5/9 宿題</center>\n",
    "＊は発展問題です。\n",
    "\n",
    "### 宿題1(Numpyの練習)\n",
    "$R^2$によるscore計算をNumpyを用いて実装して見ましょう（sklearnの出来合いの関数を使ってはいけません）。$R^2$の定義式は講義のスライド参照。\n",
    "\n",
    "### 宿題2＊\n",
    "SGDRegressorでScalerを使用しないと学習に問題が起こりました。いったい何が起こってしまったのかを、実験して調べてみましょう。sklearnやスクラッチ実装をうまく使って、誤差関数の動きなどを検討して、どんなトラブルが発生しているのかについて仮説と証拠を提示してみてください。\n",
    "\n",
    "### 宿題3＊\n",
    "scikit-learnのソースコードなどを読んで、実際の実装のアイデア・設計をレポートしてください。"
   ]
  },
  {
   "cell_type": "code",
   "execution_count": null,
   "metadata": {
    "id": "mlc2V22CtL7D"
   },
   "outputs": [],
   "source": []
  }
 ],
 "metadata": {
  "anaconda-cloud": {},
  "colab": {
   "collapsed_sections": [
    "oanv-LGKUXhp",
    "yAVD7vrPUXiD"
   ],
   "provenance": [
    {
     "file_id": "1A2AOu86hYj2y0p9YgeaLAAK5w0V_O7GV",
     "timestamp": 1683617927100
    },
    {
     "file_id": "1En3fNdLWv-_qdoCmXRfv0OzDwizFyAy8",
     "timestamp": 1652163940370
    },
    {
     "file_id": "1MxuP3aLz4dj80YaUol9n7TyYB2c2_HFO",
     "timestamp": 1618922803195
    }
   ]
  },
  "kernelspec": {
   "display_name": "Python 3 (ipykernel)",
   "language": "python",
   "name": "python3"
  },
  "language_info": {
   "codemirror_mode": {
    "name": "ipython",
    "version": 3
   },
   "file_extension": ".py",
   "mimetype": "text/x-python",
   "name": "python",
   "nbconvert_exporter": "python",
   "pygments_lexer": "ipython3",
   "version": "3.8.8"
  }
 },
 "nbformat": 4,
 "nbformat_minor": 1
}
