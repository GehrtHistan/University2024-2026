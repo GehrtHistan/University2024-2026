{
  "cells": [
    {
      "cell_type": "markdown",
      "metadata": {
        "id": "AWxrnBO5glaP"
      },
      "source": [
        "# <center>機械学習 第6回 「Pythonによる重回帰」</center>\n",
        "<center>2024年月5日21　瀧雅人</center>\n",
        "\n",
        "### 目標\n",
        "\n",
        "scikit-learnを使った重回帰分析に慣れる。Pandasをデータの前処理に使え利用になる。正則化を用いた特徴量選択や、多項式回帰の使い方を覚える"
      ]
    },
    {
      "cell_type": "markdown",
      "metadata": {
        "id": "RopmUAiYglaQ"
      },
      "source": [
        "# <center>scikit-learnによる重回帰</center>"
      ]
    },
    {
      "cell_type": "code",
      "execution_count": null,
      "metadata": {
        "collapsed": true,
        "id": "qD47v7GdglaQ"
      },
      "outputs": [],
      "source": [
        "import numpy as np\n",
        "import pandas as pd\n",
        "import matplotlib.pyplot as plt\n",
        "%matplotlib inline"
      ]
    },
    {
      "cell_type": "markdown",
      "metadata": {
        "id": "ffGU01I8glaQ"
      },
      "source": [
        "# 1 Auto MPG データ\n",
        "\n",
        "今回扱うデータ\n",
        "\n",
        "https://archive.ics.uci.edu/ml/datasets/auto+mpg\n",
        "\n",
        "はTensorFlowの回帰チュートリアルでも使われているデータです。これを車の燃費を予測するタスクに使いましょう。重回帰で十分分析できます。\n",
        "\n",
        "\n",
        "全部で8+1個の属性、計389インスタンスが含まれます。"
      ]
    },
    {
      "cell_type": "markdown",
      "metadata": {
        "id": "UYmoUpRGF4Tm"
      },
      "source": [
        "さてこのデータをダウンロードしましょう。実はColaboratoryも、その実態はLinux（Ubuntu）マシンです："
      ]
    },
    {
      "cell_type": "code",
      "execution_count": null,
      "metadata": {
        "colab": {
          "base_uri": "https://localhost:8080/"
        },
        "id": "siPxU6iNGEbZ",
        "outputId": "d9b4fd94-cf4d-49b2-aa85-a2e3e0bc16fb"
      },
      "outputs": [
        {
          "output_type": "stream",
          "name": "stdout",
          "text": [
            "Linux 1f0da9bee610 5.15.107+ #1 SMP Sat Apr 29 09:15:28 UTC 2023 x86_64 x86_64 x86_64 GNU/Linux\n"
          ]
        }
      ],
      "source": [
        "!uname -a"
      ]
    },
    {
      "cell_type": "markdown",
      "metadata": {
        "id": "PhBUbDEcGQ_T"
      },
      "source": [
        "（Colab上では普通のシェルと違い、コマンドの前に`!`をつけます）ですので、基本的なLinuxマシンの操作方法をわかっていれば色々と操作できます。ダウンロードもその一例です。"
      ]
    },
    {
      "cell_type": "markdown",
      "metadata": {
        "id": "rcMwDJtLc7-o"
      },
      "source": [
        "ではこのデータをカレントディレクトリ"
      ]
    },
    {
      "cell_type": "code",
      "execution_count": null,
      "metadata": {
        "colab": {
          "base_uri": "https://localhost:8080/"
        },
        "id": "7wsq0w2GdHRh",
        "outputId": "1b134de2-d479-4702-e176-c8537555c628"
      },
      "outputs": [
        {
          "name": "stdout",
          "output_type": "stream",
          "text": [
            "/content\n"
          ]
        }
      ],
      "source": [
        "!pwd"
      ]
    },
    {
      "cell_type": "markdown",
      "metadata": {
        "id": "h_isHLbGdJF1"
      },
      "source": [
        "（ルート直下の`content`というディレクトリ）にダウンロードしましょう："
      ]
    },
    {
      "cell_type": "code",
      "execution_count": null,
      "metadata": {
        "colab": {
          "base_uri": "https://localhost:8080/"
        },
        "id": "iVd24qLPagvN",
        "outputId": "64f8ce0b-7c8c-4d41-ad17-ecee196cb175"
      },
      "outputs": [
        {
          "output_type": "stream",
          "name": "stdout",
          "text": [
            "--2024-05-20 13:27:57--  https://archive.ics.uci.edu/ml/machine-learning-databases/auto-mpg/auto-mpg.data\n",
            "Resolving archive.ics.uci.edu (archive.ics.uci.edu)... 128.195.10.252\n",
            "Connecting to archive.ics.uci.edu (archive.ics.uci.edu)|128.195.10.252|:443... connected.\n",
            "HTTP request sent, awaiting response... 200 OK\n",
            "Length: unspecified\n",
            "Saving to: ‘auto-mpg.data’\n",
            "\n",
            "\rauto-mpg.data           [<=>                 ]       0  --.-KB/s               \rauto-mpg.data           [ <=>                ]  29.58K  --.-KB/s    in 0.008s  \n",
            "\n",
            "2024-05-20 13:27:57 (3.48 MB/s) - ‘auto-mpg.data’ saved [30286]\n",
            "\n"
          ]
        }
      ],
      "source": [
        "!wget https://archive.ics.uci.edu/ml/machine-learning-databases/auto-mpg/auto-mpg.data"
      ]
    },
    {
      "cell_type": "markdown",
      "metadata": {
        "id": "oEMZS-6udMlQ"
      },
      "source": [
        "きちんとデータ（`auto-mpg.data`）がダウンロードされています："
      ]
    },
    {
      "cell_type": "code",
      "execution_count": null,
      "metadata": {
        "colab": {
          "base_uri": "https://localhost:8080/"
        },
        "id": "9Z3g0qOpbAaV",
        "outputId": "1828cd3c-809b-4c3a-db6c-d51ae4fafb75"
      },
      "outputs": [
        {
          "output_type": "stream",
          "name": "stdout",
          "text": [
            "auto-mpg.data  sample_data\n"
          ]
        }
      ],
      "source": [
        "!ls"
      ]
    },
    {
      "cell_type": "markdown",
      "metadata": {
        "id": "dU-HcpDBdYe7"
      },
      "source": [
        "\n",
        "---\n",
        "\n",
        "\n",
        "## 必須事項\n",
        "\n",
        "コマンドやCLI（コマンドラインインターフェイス）に慣れて、Colabや研究活動でも活用しましょう。\n",
        "\n",
        "---\n"
      ]
    },
    {
      "cell_type": "markdown",
      "metadata": {
        "id": "Uz7sm6FPdyvT"
      },
      "source": [
        "Google Driveをマウントして、Drive側にデータを保存しても構いません。その際には、下のセルでデータを読み込む際のパスを（単回帰実装の際のコードを参考に）書き換えてください。"
      ]
    },
    {
      "cell_type": "markdown",
      "metadata": {
        "id": "b4S-NyhaglaR"
      },
      "source": [
        "## 1.1 データのロードと確認\n",
        "\n",
        "このデータには、車に関する9個の属性を持つデータが収められている：\n",
        "\n",
        "| 属性名 | 意味・単位 |\n",
        "| :--- | :---: |\n",
        "| MPG | 燃費 [miles per gallon] |\n",
        "| Cylinders | エンジンの気筒数。3,4,5,6,8のいずれか。  |\n",
        "| Displacement | 排気|\n",
        "| Horsepower | 馬力|\n",
        "| Weight | 重量|\n",
        "| Acceleration | 加速|\n",
        "| Model Year | 西暦の下二桁[年]。70〜82の整数。|\n",
        "| Origin | 1(アメリカ製)、2(ヨーロッパ製)、3(アジアかそれ以外の地域製)のいずれか。|\n",
        "| Car Name | 文字列|\n",
        "\n",
        "このデータの属性`MPG`は車の燃費を表す。そこで今回は、この燃費を予測する問題を考えてみましょう。"
      ]
    },
    {
      "cell_type": "markdown",
      "metadata": {
        "id": "heiU9du_glaR"
      },
      "source": [
        "今回のデータは、Pandasの`read_csv()`を使ってみましょう。\n",
        "このデータを`pd.read_csv()`で読み込む際には、次の引数を与えなくてはいけない点に気をつけましょう：\n",
        "\n",
        "- `column_names=[各列(属性)の名前]`\n",
        "\n",
        "- `delim_whitespace=True`：各行の要素がカンマではなく、<b>空白</b>（whitespace）で区切られている\n",
        "\n",
        "- `na_values='?'`：欠損値は`'?'`という文字列で表記されている\n",
        "\n"
      ]
    },
    {
      "cell_type": "markdown",
      "metadata": {
        "id": "8wJs8vYmOHz5"
      },
      "source": [
        "では、さっそくデータを読み込みましょう："
      ]
    },
    {
      "cell_type": "code",
      "execution_count": null,
      "metadata": {
        "collapsed": true,
        "id": "VP9YPEJSglaR"
      },
      "outputs": [],
      "source": [
        "column_names = ['MPG', 'Cylinders', 'Displacement',\n",
        "                'Horsepower', 'Weight', 'Acceleration',\n",
        "                'Model Year', 'Origin', 'Car Name']\n",
        "\n",
        "df = pd.read_csv('./auto-mpg.data',\n",
        "                 names=column_names, na_values='?', delim_whitespace=True)"
      ]
    },
    {
      "cell_type": "markdown",
      "metadata": {
        "id": "HXaeSg11YRHQ"
      },
      "source": [
        "Pandasを使うことで、DataFrameというオブジェクトとしてデータを読み込むことができました。"
      ]
    },
    {
      "cell_type": "markdown",
      "metadata": {
        "id": "HWVddWhkYJTe"
      },
      "source": [
        "`.head()`を使って、先頭の5個のインスタンスだけを取り出してみますと"
      ]
    },
    {
      "cell_type": "code",
      "execution_count": null,
      "metadata": {
        "colab": {
          "base_uri": "https://localhost:8080/",
          "height": 296
        },
        "id": "1aSocsr6glaS",
        "outputId": "2c37c22e-767f-467d-ecc9-755189ef6215"
      },
      "outputs": [
        {
          "output_type": "execute_result",
          "data": {
            "text/plain": [
              "    MPG  Cylinders  Displacement  Horsepower  Weight  Acceleration  \\\n",
              "0  18.0          8         307.0       130.0  3504.0          12.0   \n",
              "1  15.0          8         350.0       165.0  3693.0          11.5   \n",
              "2  18.0          8         318.0       150.0  3436.0          11.0   \n",
              "3  16.0          8         304.0       150.0  3433.0          12.0   \n",
              "4  17.0          8         302.0       140.0  3449.0          10.5   \n",
              "\n",
              "   Model Year  Origin                   Car Name  \n",
              "0          70       1  chevrolet chevelle malibu  \n",
              "1          70       1          buick skylark 320  \n",
              "2          70       1         plymouth satellite  \n",
              "3          70       1              amc rebel sst  \n",
              "4          70       1                ford torino  "
            ],
            "text/html": [
              "\n",
              "  <div id=\"df-27cefabf-84d8-4980-aa3d-58c40dfb8314\" class=\"colab-df-container\">\n",
              "    <div>\n",
              "<style scoped>\n",
              "    .dataframe tbody tr th:only-of-type {\n",
              "        vertical-align: middle;\n",
              "    }\n",
              "\n",
              "    .dataframe tbody tr th {\n",
              "        vertical-align: top;\n",
              "    }\n",
              "\n",
              "    .dataframe thead th {\n",
              "        text-align: right;\n",
              "    }\n",
              "</style>\n",
              "<table border=\"1\" class=\"dataframe\">\n",
              "  <thead>\n",
              "    <tr style=\"text-align: right;\">\n",
              "      <th></th>\n",
              "      <th>MPG</th>\n",
              "      <th>Cylinders</th>\n",
              "      <th>Displacement</th>\n",
              "      <th>Horsepower</th>\n",
              "      <th>Weight</th>\n",
              "      <th>Acceleration</th>\n",
              "      <th>Model Year</th>\n",
              "      <th>Origin</th>\n",
              "      <th>Car Name</th>\n",
              "    </tr>\n",
              "  </thead>\n",
              "  <tbody>\n",
              "    <tr>\n",
              "      <th>0</th>\n",
              "      <td>18.0</td>\n",
              "      <td>8</td>\n",
              "      <td>307.0</td>\n",
              "      <td>130.0</td>\n",
              "      <td>3504.0</td>\n",
              "      <td>12.0</td>\n",
              "      <td>70</td>\n",
              "      <td>1</td>\n",
              "      <td>chevrolet chevelle malibu</td>\n",
              "    </tr>\n",
              "    <tr>\n",
              "      <th>1</th>\n",
              "      <td>15.0</td>\n",
              "      <td>8</td>\n",
              "      <td>350.0</td>\n",
              "      <td>165.0</td>\n",
              "      <td>3693.0</td>\n",
              "      <td>11.5</td>\n",
              "      <td>70</td>\n",
              "      <td>1</td>\n",
              "      <td>buick skylark 320</td>\n",
              "    </tr>\n",
              "    <tr>\n",
              "      <th>2</th>\n",
              "      <td>18.0</td>\n",
              "      <td>8</td>\n",
              "      <td>318.0</td>\n",
              "      <td>150.0</td>\n",
              "      <td>3436.0</td>\n",
              "      <td>11.0</td>\n",
              "      <td>70</td>\n",
              "      <td>1</td>\n",
              "      <td>plymouth satellite</td>\n",
              "    </tr>\n",
              "    <tr>\n",
              "      <th>3</th>\n",
              "      <td>16.0</td>\n",
              "      <td>8</td>\n",
              "      <td>304.0</td>\n",
              "      <td>150.0</td>\n",
              "      <td>3433.0</td>\n",
              "      <td>12.0</td>\n",
              "      <td>70</td>\n",
              "      <td>1</td>\n",
              "      <td>amc rebel sst</td>\n",
              "    </tr>\n",
              "    <tr>\n",
              "      <th>4</th>\n",
              "      <td>17.0</td>\n",
              "      <td>8</td>\n",
              "      <td>302.0</td>\n",
              "      <td>140.0</td>\n",
              "      <td>3449.0</td>\n",
              "      <td>10.5</td>\n",
              "      <td>70</td>\n",
              "      <td>1</td>\n",
              "      <td>ford torino</td>\n",
              "    </tr>\n",
              "  </tbody>\n",
              "</table>\n",
              "</div>\n",
              "    <div class=\"colab-df-buttons\">\n",
              "\n",
              "  <div class=\"colab-df-container\">\n",
              "    <button class=\"colab-df-convert\" onclick=\"convertToInteractive('df-27cefabf-84d8-4980-aa3d-58c40dfb8314')\"\n",
              "            title=\"Convert this dataframe to an interactive table.\"\n",
              "            style=\"display:none;\">\n",
              "\n",
              "  <svg xmlns=\"http://www.w3.org/2000/svg\" height=\"24px\" viewBox=\"0 -960 960 960\">\n",
              "    <path d=\"M120-120v-720h720v720H120Zm60-500h600v-160H180v160Zm220 220h160v-160H400v160Zm0 220h160v-160H400v160ZM180-400h160v-160H180v160Zm440 0h160v-160H620v160ZM180-180h160v-160H180v160Zm440 0h160v-160H620v160Z\"/>\n",
              "  </svg>\n",
              "    </button>\n",
              "\n",
              "  <style>\n",
              "    .colab-df-container {\n",
              "      display:flex;\n",
              "      gap: 12px;\n",
              "    }\n",
              "\n",
              "    .colab-df-convert {\n",
              "      background-color: #E8F0FE;\n",
              "      border: none;\n",
              "      border-radius: 50%;\n",
              "      cursor: pointer;\n",
              "      display: none;\n",
              "      fill: #1967D2;\n",
              "      height: 32px;\n",
              "      padding: 0 0 0 0;\n",
              "      width: 32px;\n",
              "    }\n",
              "\n",
              "    .colab-df-convert:hover {\n",
              "      background-color: #E2EBFA;\n",
              "      box-shadow: 0px 1px 2px rgba(60, 64, 67, 0.3), 0px 1px 3px 1px rgba(60, 64, 67, 0.15);\n",
              "      fill: #174EA6;\n",
              "    }\n",
              "\n",
              "    .colab-df-buttons div {\n",
              "      margin-bottom: 4px;\n",
              "    }\n",
              "\n",
              "    [theme=dark] .colab-df-convert {\n",
              "      background-color: #3B4455;\n",
              "      fill: #D2E3FC;\n",
              "    }\n",
              "\n",
              "    [theme=dark] .colab-df-convert:hover {\n",
              "      background-color: #434B5C;\n",
              "      box-shadow: 0px 1px 3px 1px rgba(0, 0, 0, 0.15);\n",
              "      filter: drop-shadow(0px 1px 2px rgba(0, 0, 0, 0.3));\n",
              "      fill: #FFFFFF;\n",
              "    }\n",
              "  </style>\n",
              "\n",
              "    <script>\n",
              "      const buttonEl =\n",
              "        document.querySelector('#df-27cefabf-84d8-4980-aa3d-58c40dfb8314 button.colab-df-convert');\n",
              "      buttonEl.style.display =\n",
              "        google.colab.kernel.accessAllowed ? 'block' : 'none';\n",
              "\n",
              "      async function convertToInteractive(key) {\n",
              "        const element = document.querySelector('#df-27cefabf-84d8-4980-aa3d-58c40dfb8314');\n",
              "        const dataTable =\n",
              "          await google.colab.kernel.invokeFunction('convertToInteractive',\n",
              "                                                    [key], {});\n",
              "        if (!dataTable) return;\n",
              "\n",
              "        const docLinkHtml = 'Like what you see? Visit the ' +\n",
              "          '<a target=\"_blank\" href=https://colab.research.google.com/notebooks/data_table.ipynb>data table notebook</a>'\n",
              "          + ' to learn more about interactive tables.';\n",
              "        element.innerHTML = '';\n",
              "        dataTable['output_type'] = 'display_data';\n",
              "        await google.colab.output.renderOutput(dataTable, element);\n",
              "        const docLink = document.createElement('div');\n",
              "        docLink.innerHTML = docLinkHtml;\n",
              "        element.appendChild(docLink);\n",
              "      }\n",
              "    </script>\n",
              "  </div>\n",
              "\n",
              "\n",
              "<div id=\"df-ed380405-ea0f-40cc-bd93-366c4a3af5bb\">\n",
              "  <button class=\"colab-df-quickchart\" onclick=\"quickchart('df-ed380405-ea0f-40cc-bd93-366c4a3af5bb')\"\n",
              "            title=\"Suggest charts\"\n",
              "            style=\"display:none;\">\n",
              "\n",
              "<svg xmlns=\"http://www.w3.org/2000/svg\" height=\"24px\"viewBox=\"0 0 24 24\"\n",
              "     width=\"24px\">\n",
              "    <g>\n",
              "        <path d=\"M19 3H5c-1.1 0-2 .9-2 2v14c0 1.1.9 2 2 2h14c1.1 0 2-.9 2-2V5c0-1.1-.9-2-2-2zM9 17H7v-7h2v7zm4 0h-2V7h2v10zm4 0h-2v-4h2v4z\"/>\n",
              "    </g>\n",
              "</svg>\n",
              "  </button>\n",
              "\n",
              "<style>\n",
              "  .colab-df-quickchart {\n",
              "      --bg-color: #E8F0FE;\n",
              "      --fill-color: #1967D2;\n",
              "      --hover-bg-color: #E2EBFA;\n",
              "      --hover-fill-color: #174EA6;\n",
              "      --disabled-fill-color: #AAA;\n",
              "      --disabled-bg-color: #DDD;\n",
              "  }\n",
              "\n",
              "  [theme=dark] .colab-df-quickchart {\n",
              "      --bg-color: #3B4455;\n",
              "      --fill-color: #D2E3FC;\n",
              "      --hover-bg-color: #434B5C;\n",
              "      --hover-fill-color: #FFFFFF;\n",
              "      --disabled-bg-color: #3B4455;\n",
              "      --disabled-fill-color: #666;\n",
              "  }\n",
              "\n",
              "  .colab-df-quickchart {\n",
              "    background-color: var(--bg-color);\n",
              "    border: none;\n",
              "    border-radius: 50%;\n",
              "    cursor: pointer;\n",
              "    display: none;\n",
              "    fill: var(--fill-color);\n",
              "    height: 32px;\n",
              "    padding: 0;\n",
              "    width: 32px;\n",
              "  }\n",
              "\n",
              "  .colab-df-quickchart:hover {\n",
              "    background-color: var(--hover-bg-color);\n",
              "    box-shadow: 0 1px 2px rgba(60, 64, 67, 0.3), 0 1px 3px 1px rgba(60, 64, 67, 0.15);\n",
              "    fill: var(--button-hover-fill-color);\n",
              "  }\n",
              "\n",
              "  .colab-df-quickchart-complete:disabled,\n",
              "  .colab-df-quickchart-complete:disabled:hover {\n",
              "    background-color: var(--disabled-bg-color);\n",
              "    fill: var(--disabled-fill-color);\n",
              "    box-shadow: none;\n",
              "  }\n",
              "\n",
              "  .colab-df-spinner {\n",
              "    border: 2px solid var(--fill-color);\n",
              "    border-color: transparent;\n",
              "    border-bottom-color: var(--fill-color);\n",
              "    animation:\n",
              "      spin 1s steps(1) infinite;\n",
              "  }\n",
              "\n",
              "  @keyframes spin {\n",
              "    0% {\n",
              "      border-color: transparent;\n",
              "      border-bottom-color: var(--fill-color);\n",
              "      border-left-color: var(--fill-color);\n",
              "    }\n",
              "    20% {\n",
              "      border-color: transparent;\n",
              "      border-left-color: var(--fill-color);\n",
              "      border-top-color: var(--fill-color);\n",
              "    }\n",
              "    30% {\n",
              "      border-color: transparent;\n",
              "      border-left-color: var(--fill-color);\n",
              "      border-top-color: var(--fill-color);\n",
              "      border-right-color: var(--fill-color);\n",
              "    }\n",
              "    40% {\n",
              "      border-color: transparent;\n",
              "      border-right-color: var(--fill-color);\n",
              "      border-top-color: var(--fill-color);\n",
              "    }\n",
              "    60% {\n",
              "      border-color: transparent;\n",
              "      border-right-color: var(--fill-color);\n",
              "    }\n",
              "    80% {\n",
              "      border-color: transparent;\n",
              "      border-right-color: var(--fill-color);\n",
              "      border-bottom-color: var(--fill-color);\n",
              "    }\n",
              "    90% {\n",
              "      border-color: transparent;\n",
              "      border-bottom-color: var(--fill-color);\n",
              "    }\n",
              "  }\n",
              "</style>\n",
              "\n",
              "  <script>\n",
              "    async function quickchart(key) {\n",
              "      const quickchartButtonEl =\n",
              "        document.querySelector('#' + key + ' button');\n",
              "      quickchartButtonEl.disabled = true;  // To prevent multiple clicks.\n",
              "      quickchartButtonEl.classList.add('colab-df-spinner');\n",
              "      try {\n",
              "        const charts = await google.colab.kernel.invokeFunction(\n",
              "            'suggestCharts', [key], {});\n",
              "      } catch (error) {\n",
              "        console.error('Error during call to suggestCharts:', error);\n",
              "      }\n",
              "      quickchartButtonEl.classList.remove('colab-df-spinner');\n",
              "      quickchartButtonEl.classList.add('colab-df-quickchart-complete');\n",
              "    }\n",
              "    (() => {\n",
              "      let quickchartButtonEl =\n",
              "        document.querySelector('#df-ed380405-ea0f-40cc-bd93-366c4a3af5bb button');\n",
              "      quickchartButtonEl.style.display =\n",
              "        google.colab.kernel.accessAllowed ? 'block' : 'none';\n",
              "    })();\n",
              "  </script>\n",
              "</div>\n",
              "    </div>\n",
              "  </div>\n"
            ],
            "application/vnd.google.colaboratory.intrinsic+json": {
              "type": "dataframe",
              "variable_name": "df",
              "summary": "{\n  \"name\": \"df\",\n  \"rows\": 398,\n  \"fields\": [\n    {\n      \"column\": \"MPG\",\n      \"properties\": {\n        \"dtype\": \"number\",\n        \"std\": 7.815984312565782,\n        \"min\": 9.0,\n        \"max\": 46.6,\n        \"num_unique_values\": 129,\n        \"samples\": [\n          17.7,\n          30.5,\n          30.0\n        ],\n        \"semantic_type\": \"\",\n        \"description\": \"\"\n      }\n    },\n    {\n      \"column\": \"Cylinders\",\n      \"properties\": {\n        \"dtype\": \"number\",\n        \"std\": 1,\n        \"min\": 3,\n        \"max\": 8,\n        \"num_unique_values\": 5,\n        \"samples\": [\n          4,\n          5,\n          6\n        ],\n        \"semantic_type\": \"\",\n        \"description\": \"\"\n      }\n    },\n    {\n      \"column\": \"Displacement\",\n      \"properties\": {\n        \"dtype\": \"number\",\n        \"std\": 104.26983817119591,\n        \"min\": 68.0,\n        \"max\": 455.0,\n        \"num_unique_values\": 82,\n        \"samples\": [\n          122.0,\n          307.0,\n          360.0\n        ],\n        \"semantic_type\": \"\",\n        \"description\": \"\"\n      }\n    },\n    {\n      \"column\": \"Horsepower\",\n      \"properties\": {\n        \"dtype\": \"number\",\n        \"std\": 38.49115993282849,\n        \"min\": 46.0,\n        \"max\": 230.0,\n        \"num_unique_values\": 93,\n        \"samples\": [\n          92.0,\n          100.0,\n          52.0\n        ],\n        \"semantic_type\": \"\",\n        \"description\": \"\"\n      }\n    },\n    {\n      \"column\": \"Weight\",\n      \"properties\": {\n        \"dtype\": \"number\",\n        \"std\": 846.8417741973268,\n        \"min\": 1613.0,\n        \"max\": 5140.0,\n        \"num_unique_values\": 351,\n        \"samples\": [\n          3730.0,\n          1995.0,\n          2215.0\n        ],\n        \"semantic_type\": \"\",\n        \"description\": \"\"\n      }\n    },\n    {\n      \"column\": \"Acceleration\",\n      \"properties\": {\n        \"dtype\": \"number\",\n        \"std\": 2.757688929812676,\n        \"min\": 8.0,\n        \"max\": 24.8,\n        \"num_unique_values\": 95,\n        \"samples\": [\n          14.7,\n          18.0,\n          14.3\n        ],\n        \"semantic_type\": \"\",\n        \"description\": \"\"\n      }\n    },\n    {\n      \"column\": \"Model Year\",\n      \"properties\": {\n        \"dtype\": \"number\",\n        \"std\": 3,\n        \"min\": 70,\n        \"max\": 82,\n        \"num_unique_values\": 13,\n        \"samples\": [\n          81,\n          79,\n          70\n        ],\n        \"semantic_type\": \"\",\n        \"description\": \"\"\n      }\n    },\n    {\n      \"column\": \"Origin\",\n      \"properties\": {\n        \"dtype\": \"number\",\n        \"std\": 0,\n        \"min\": 1,\n        \"max\": 3,\n        \"num_unique_values\": 3,\n        \"samples\": [\n          1,\n          3,\n          2\n        ],\n        \"semantic_type\": \"\",\n        \"description\": \"\"\n      }\n    },\n    {\n      \"column\": \"Car Name\",\n      \"properties\": {\n        \"dtype\": \"string\",\n        \"num_unique_values\": 305,\n        \"samples\": [\n          \"mazda rx-4\",\n          \"ford f108\",\n          \"buick century luxus (sw)\"\n        ],\n        \"semantic_type\": \"\",\n        \"description\": \"\"\n      }\n    }\n  ]\n}"
            }
          },
          "metadata": {},
          "execution_count": 5
        }
      ],
      "source": [
        "df.head()"
      ]
    },
    {
      "cell_type": "markdown",
      "metadata": {
        "id": "av7DC9YfS4wj"
      },
      "source": [
        "これら9個の属性について欠損値が無いか、データフレームの`.info()`でチェックしてみます："
      ]
    },
    {
      "cell_type": "code",
      "execution_count": null,
      "metadata": {
        "colab": {
          "base_uri": "https://localhost:8080/"
        },
        "id": "TqZNuhguglaS",
        "outputId": "3b1e4e0b-e888-4f92-eed1-5c36df44a68d"
      },
      "outputs": [
        {
          "output_type": "stream",
          "name": "stdout",
          "text": [
            "<class 'pandas.core.frame.DataFrame'>\n",
            "RangeIndex: 398 entries, 0 to 397\n",
            "Data columns (total 9 columns):\n",
            " #   Column        Non-Null Count  Dtype  \n",
            "---  ------        --------------  -----  \n",
            " 0   MPG           398 non-null    float64\n",
            " 1   Cylinders     398 non-null    int64  \n",
            " 2   Displacement  398 non-null    float64\n",
            " 3   Horsepower    392 non-null    float64\n",
            " 4   Weight        398 non-null    float64\n",
            " 5   Acceleration  398 non-null    float64\n",
            " 6   Model Year    398 non-null    int64  \n",
            " 7   Origin        398 non-null    int64  \n",
            " 8   Car Name      398 non-null    object \n",
            "dtypes: float64(5), int64(3), object(1)\n",
            "memory usage: 28.1+ KB\n"
          ]
        }
      ],
      "source": [
        "df.info()"
      ]
    },
    {
      "cell_type": "markdown",
      "metadata": {
        "id": "RwwZ_C0bFKHD"
      },
      "source": [
        "398個のインスタンスがありますが、Horsepowerには6個の欠損が見られます。"
      ]
    },
    {
      "cell_type": "markdown",
      "metadata": {
        "id": "Otg8JzC_glaS"
      },
      "source": [
        "## 1.2 データの前処理"
      ]
    },
    {
      "cell_type": "markdown",
      "metadata": {
        "id": "WiPyJicCglaS"
      },
      "source": [
        "### ① Car Name 属性の処理\n",
        "\n",
        "簡単な言語処理や外部データを使って、同じ会社の製品・似た車名のインスタンスには、類似の属性を与えることも可能でしょう。\n",
        "ただここではそれは本題ではないので、Car Nameの列は単純に削除します："
      ]
    },
    {
      "cell_type": "code",
      "execution_count": null,
      "metadata": {
        "collapsed": true,
        "id": "CPnJkrL0glaS"
      },
      "outputs": [],
      "source": [
        "df = df.drop('Car Name', axis=1)"
      ]
    },
    {
      "cell_type": "markdown",
      "metadata": {
        "id": "Np21D0iKglaT"
      },
      "source": [
        "\n",
        "\n",
        "---\n",
        "\n",
        "\n",
        "## 自由研究\n",
        "\n",
        "Car Name属性をうまく使う方法を考えてみましょう。\n",
        "\n",
        "\n",
        "---\n",
        "\n"
      ]
    },
    {
      "cell_type": "markdown",
      "metadata": {
        "id": "6o6ep-ARavN2"
      },
      "source": [
        "### ② 欠損値の処理\n",
        "\n",
        "先ほど見つけた欠損値は、次のようにカウントすることもできます："
      ]
    },
    {
      "cell_type": "code",
      "execution_count": null,
      "metadata": {
        "colab": {
          "base_uri": "https://localhost:8080/"
        },
        "id": "Ed2S-ik0glaT",
        "outputId": "fd30b06c-4673-4e25-eaf1-ef5578082ea6"
      },
      "outputs": [
        {
          "output_type": "execute_result",
          "data": {
            "text/plain": [
              "MPG             0\n",
              "Cylinders       0\n",
              "Displacement    0\n",
              "Horsepower      6\n",
              "Weight          0\n",
              "Acceleration    0\n",
              "Model Year      0\n",
              "Origin          0\n",
              "dtype: int64"
            ]
          },
          "metadata": {},
          "execution_count": 8
        }
      ],
      "source": [
        "df.isna().sum()"
      ]
    },
    {
      "cell_type": "markdown",
      "metadata": {
        "collapsed": true,
        "id": "eGa6Y2ZeglaT"
      },
      "source": [
        "このHorsepower属性の欠損値6個の処理を考えてみます。"
      ]
    },
    {
      "cell_type": "code",
      "execution_count": null,
      "metadata": {
        "colab": {
          "base_uri": "https://localhost:8080/"
        },
        "id": "F1aNb2KJglaT",
        "outputId": "cc3b8d6e-3a75-4eb6-9483-72f9d9f7fc52"
      },
      "outputs": [
        {
          "output_type": "execute_result",
          "data": {
            "text/plain": [
              "count    392.000000\n",
              "mean     104.469388\n",
              "std       38.491160\n",
              "min       46.000000\n",
              "25%       75.000000\n",
              "50%       93.500000\n",
              "75%      126.000000\n",
              "max      230.000000\n",
              "Name: Horsepower, dtype: float64"
            ]
          },
          "metadata": {},
          "execution_count": 9
        }
      ],
      "source": [
        "df.describe()['Horsepower']"
      ]
    },
    {
      "cell_type": "code",
      "execution_count": null,
      "metadata": {
        "colab": {
          "base_uri": "https://localhost:8080/",
          "height": 430
        },
        "id": "jxTiIaNUcSGY",
        "outputId": "b968a1ff-ab2e-4cb8-8d50-247482e33c3a"
      },
      "outputs": [
        {
          "output_type": "display_data",
          "data": {
            "text/plain": [
              "<Figure size 640x480 with 1 Axes>"
            ],
            "image/png": "[encoded data removed]"
          },
          "metadata": {}
        }
      ],
      "source": [
        "hp = df['Horsepower'] # Horsepower属性だけを取り出す\n",
        "hp = hp.dropna() # 欠損値nanを除外\n",
        "hp = hp.tolist() # DataFrameをリストに変換\n",
        "\n",
        "plt.hist(hp)\n",
        "plt.show()"
      ]
    },
    {
      "cell_type": "markdown",
      "metadata": {
        "id": "lpBERrb-glaU"
      },
      "source": [
        "tailが長い分布であることが若干気になるが、多くの値は平均値周りに集まっている。そこで今回は単純に、欠損値を<b>属性平均値で埋める</b>ことにする。\n"
      ]
    },
    {
      "cell_type": "markdown",
      "metadata": {
        "id": "kQLNrs3lglaU"
      },
      "source": [
        "DataFrameを使って欠損値を埋めるには`fillna()`メソッドを用いる："
      ]
    },
    {
      "cell_type": "code",
      "execution_count": null,
      "metadata": {
        "collapsed": true,
        "id": "IkkK85ckglaU"
      },
      "outputs": [],
      "source": [
        "df_mean = df.mean() # 各属性の平均値\n",
        "\n",
        "df_filled = df.fillna(df_mean) # 各属性をそれぞれの平均値で埋める"
      ]
    },
    {
      "cell_type": "code",
      "source": [
        "df_mean"
      ],
      "metadata": {
        "colab": {
          "base_uri": "https://localhost:8080/"
        },
        "id": "NOEitIO7HwB6",
        "outputId": "9536ef03-e8c3-4745-d582-e3b424f500eb"
      },
      "execution_count": null,
      "outputs": [
        {
          "output_type": "execute_result",
          "data": {
            "text/plain": [
              "MPG               23.514573\n",
              "Cylinders          5.454774\n",
              "Displacement     193.425879\n",
              "Horsepower       104.469388\n",
              "Weight          2970.424623\n",
              "Acceleration      15.568090\n",
              "Model Year        76.010050\n",
              "Origin             1.572864\n",
              "dtype: float64"
            ]
          },
          "metadata": {},
          "execution_count": 12
        }
      ]
    },
    {
      "cell_type": "markdown",
      "metadata": {
        "id": "6VBH9DOyHqYT"
      },
      "source": [
        "### 欠損に関する補遺＊\n",
        "\n",
        "一応、欠損を含むインスタンスの分布に偏りがないかをざっと確認する。ランダムに生じていない欠損値の処理には特別の注意が必要だからである。\n",
        "\n",
        "欠損値を含む6行だけ取り出すと、その統計量は"
      ]
    },
    {
      "cell_type": "code",
      "execution_count": null,
      "metadata": {
        "colab": {
          "base_uri": "https://localhost:8080/",
          "height": 340
        },
        "id": "2J1a0yo2FwOW",
        "outputId": "494bcc7a-57db-489b-c7a0-3e05a6636982"
      },
      "outputs": [
        {
          "output_type": "execute_result",
          "data": {
            "text/plain": [
              "             MPG  Cylinders  Displacement  Horsepower       Weight  \\\n",
              "count   6.000000   6.000000       6.00000         0.0     6.000000   \n",
              "mean   28.000000   4.333333     129.00000         NaN  2502.666667   \n",
              "std     7.886951   0.816497      43.32205         NaN   504.296209   \n",
              "min    21.000000   4.000000      85.00000         NaN  1835.000000   \n",
              "25%    23.150000   4.000000      98.50000         NaN  2114.500000   \n",
              "50%    24.300000   4.000000     120.00000         NaN  2597.500000   \n",
              "75%    32.125000   4.000000     148.25000         NaN  2897.500000   \n",
              "max    40.900000   6.000000     200.00000         NaN  3035.000000   \n",
              "\n",
              "       Acceleration  Model Year    Origin  \n",
              "count      6.000000    6.000000  6.000000  \n",
              "mean      17.316667   78.000000  1.333333  \n",
              "std        2.212163    4.427189  0.516398  \n",
              "min       14.300000   71.000000  1.000000  \n",
              "25%       16.100000   75.500000  1.000000  \n",
              "50%       17.150000   80.000000  1.000000  \n",
              "75%       18.575000   80.750000  1.750000  \n",
              "max       20.500000   82.000000  2.000000  "
            ],
            "text/html": [
              "\n",
              "  <div id=\"df-4d6a3f0a-d256-4991-aa17-201f85c52d76\" class=\"colab-df-container\">\n",
              "    <div>\n",
              "<style scoped>\n",
              "    .dataframe tbody tr th:only-of-type {\n",
              "        vertical-align: middle;\n",
              "    }\n",
              "\n",
              "    .dataframe tbody tr th {\n",
              "        vertical-align: top;\n",
              "    }\n",
              "\n",
              "    .dataframe thead th {\n",
              "        text-align: right;\n",
              "    }\n",
              "</style>\n",
              "<table border=\"1\" class=\"dataframe\">\n",
              "  <thead>\n",
              "    <tr style=\"text-align: right;\">\n",
              "      <th></th>\n",
              "      <th>MPG</th>\n",
              "      <th>Cylinders</th>\n",
              "      <th>Displacement</th>\n",
              "      <th>Horsepower</th>\n",
              "      <th>Weight</th>\n",
              "      <th>Acceleration</th>\n",
              "      <th>Model Year</th>\n",
              "      <th>Origin</th>\n",
              "    </tr>\n",
              "  </thead>\n",
              "  <tbody>\n",
              "    <tr>\n",
              "      <th>count</th>\n",
              "      <td>6.000000</td>\n",
              "      <td>6.000000</td>\n",
              "      <td>6.00000</td>\n",
              "      <td>0.0</td>\n",
              "      <td>6.000000</td>\n",
              "      <td>6.000000</td>\n",
              "      <td>6.000000</td>\n",
              "      <td>6.000000</td>\n",
              "    </tr>\n",
              "    <tr>\n",
              "      <th>mean</th>\n",
              "      <td>28.000000</td>\n",
              "      <td>4.333333</td>\n",
              "      <td>129.00000</td>\n",
              "      <td>NaN</td>\n",
              "      <td>2502.666667</td>\n",
              "      <td>17.316667</td>\n",
              "      <td>78.000000</td>\n",
              "      <td>1.333333</td>\n",
              "    </tr>\n",
              "    <tr>\n",
              "      <th>std</th>\n",
              "      <td>7.886951</td>\n",
              "      <td>0.816497</td>\n",
              "      <td>43.32205</td>\n",
              "      <td>NaN</td>\n",
              "      <td>504.296209</td>\n",
              "      <td>2.212163</td>\n",
              "      <td>4.427189</td>\n",
              "      <td>0.516398</td>\n",
              "    </tr>\n",
              "    <tr>\n",
              "      <th>min</th>\n",
              "      <td>21.000000</td>\n",
              "      <td>4.000000</td>\n",
              "      <td>85.00000</td>\n",
              "      <td>NaN</td>\n",
              "      <td>1835.000000</td>\n",
              "      <td>14.300000</td>\n",
              "      <td>71.000000</td>\n",
              "      <td>1.000000</td>\n",
              "    </tr>\n",
              "    <tr>\n",
              "      <th>25%</th>\n",
              "      <td>23.150000</td>\n",
              "      <td>4.000000</td>\n",
              "      <td>98.50000</td>\n",
              "      <td>NaN</td>\n",
              "      <td>2114.500000</td>\n",
              "      <td>16.100000</td>\n",
              "      <td>75.500000</td>\n",
              "      <td>1.000000</td>\n",
              "    </tr>\n",
              "    <tr>\n",
              "      <th>50%</th>\n",
              "      <td>24.300000</td>\n",
              "      <td>4.000000</td>\n",
              "      <td>120.00000</td>\n",
              "      <td>NaN</td>\n",
              "      <td>2597.500000</td>\n",
              "      <td>17.150000</td>\n",
              "      <td>80.000000</td>\n",
              "      <td>1.000000</td>\n",
              "    </tr>\n",
              "    <tr>\n",
              "      <th>75%</th>\n",
              "      <td>32.125000</td>\n",
              "      <td>4.000000</td>\n",
              "      <td>148.25000</td>\n",
              "      <td>NaN</td>\n",
              "      <td>2897.500000</td>\n",
              "      <td>18.575000</td>\n",
              "      <td>80.750000</td>\n",
              "      <td>1.750000</td>\n",
              "    </tr>\n",
              "    <tr>\n",
              "      <th>max</th>\n",
              "      <td>40.900000</td>\n",
              "      <td>6.000000</td>\n",
              "      <td>200.00000</td>\n",
              "      <td>NaN</td>\n",
              "      <td>3035.000000</td>\n",
              "      <td>20.500000</td>\n",
              "      <td>82.000000</td>\n",
              "      <td>2.000000</td>\n",
              "    </tr>\n",
              "  </tbody>\n",
              "</table>\n",
              "</div>\n",
              "    <div class=\"colab-df-buttons\">\n",
              "\n",
              "  <div class=\"colab-df-container\">\n",
              "    <button class=\"colab-df-convert\" onclick=\"convertToInteractive('df-4d6a3f0a-d256-4991-aa17-201f85c52d76')\"\n",
              "            title=\"Convert this dataframe to an interactive table.\"\n",
              "            style=\"display:none;\">\n",
              "\n",
              "  <svg xmlns=\"http://www.w3.org/2000/svg\" height=\"24px\" viewBox=\"0 -960 960 960\">\n",
              "    <path d=\"M120-120v-720h720v720H120Zm60-500h600v-160H180v160Zm220 220h160v-160H400v160Zm0 220h160v-160H400v160ZM180-400h160v-160H180v160Zm440 0h160v-160H620v160ZM180-180h160v-160H180v160Zm440 0h160v-160H620v160Z\"/>\n",
              "  </svg>\n",
              "    </button>\n",
              "\n",
              "  <style>\n",
              "    .colab-df-container {\n",
              "      display:flex;\n",
              "      gap: 12px;\n",
              "    }\n",
              "\n",
              "    .colab-df-convert {\n",
              "      background-color: #E8F0FE;\n",
              "      border: none;\n",
              "      border-radius: 50%;\n",
              "      cursor: pointer;\n",
              "      display: none;\n",
              "      fill: #1967D2;\n",
              "      height: 32px;\n",
              "      padding: 0 0 0 0;\n",
              "      width: 32px;\n",
              "    }\n",
              "\n",
              "    .colab-df-convert:hover {\n",
              "      background-color: #E2EBFA;\n",
              "      box-shadow: 0px 1px 2px rgba(60, 64, 67, 0.3), 0px 1px 3px 1px rgba(60, 64, 67, 0.15);\n",
              "      fill: #174EA6;\n",
              "    }\n",
              "\n",
              "    .colab-df-buttons div {\n",
              "      margin-bottom: 4px;\n",
              "    }\n",
              "\n",
              "    [theme=dark] .colab-df-convert {\n",
              "      background-color: #3B4455;\n",
              "      fill: #D2E3FC;\n",
              "    }\n",
              "\n",
              "    [theme=dark] .colab-df-convert:hover {\n",
              "      background-color: #434B5C;\n",
              "      box-shadow: 0px 1px 3px 1px rgba(0, 0, 0, 0.15);\n",
              "      filter: drop-shadow(0px 1px 2px rgba(0, 0, 0, 0.3));\n",
              "      fill: #FFFFFF;\n",
              "    }\n",
              "  </style>\n",
              "\n",
              "    <script>\n",
              "      const buttonEl =\n",
              "        document.querySelector('#df-4d6a3f0a-d256-4991-aa17-201f85c52d76 button.colab-df-convert');\n",
              "      buttonEl.style.display =\n",
              "        google.colab.kernel.accessAllowed ? 'block' : 'none';\n",
              "\n",
              "      async function convertToInteractive(key) {\n",
              "        const element = document.querySelector('#df-4d6a3f0a-d256-4991-aa17-201f85c52d76');\n",
              "        const dataTable =\n",
              "          await google.colab.kernel.invokeFunction('convertToInteractive',\n",
              "                                                    [key], {});\n",
              "        if (!dataTable) return;\n",
              "\n",
              "        const docLinkHtml = 'Like what you see? Visit the ' +\n",
              "          '<a target=\"_blank\" href=https://colab.research.google.com/notebooks/data_table.ipynb>data table notebook</a>'\n",
              "          + ' to learn more about interactive tables.';\n",
              "        element.innerHTML = '';\n",
              "        dataTable['output_type'] = 'display_data';\n",
              "        await google.colab.output.renderOutput(dataTable, element);\n",
              "        const docLink = document.createElement('div');\n",
              "        docLink.innerHTML = docLinkHtml;\n",
              "        element.appendChild(docLink);\n",
              "      }\n",
              "    </script>\n",
              "  </div>\n",
              "\n",
              "\n",
              "<div id=\"df-2237720d-30d8-493f-8ef0-26ea3ee94005\">\n",
              "  <button class=\"colab-df-quickchart\" onclick=\"quickchart('df-2237720d-30d8-493f-8ef0-26ea3ee94005')\"\n",
              "            title=\"Suggest charts\"\n",
              "            style=\"display:none;\">\n",
              "\n",
              "<svg xmlns=\"http://www.w3.org/2000/svg\" height=\"24px\"viewBox=\"0 0 24 24\"\n",
              "     width=\"24px\">\n",
              "    <g>\n",
              "        <path d=\"M19 3H5c-1.1 0-2 .9-2 2v14c0 1.1.9 2 2 2h14c1.1 0 2-.9 2-2V5c0-1.1-.9-2-2-2zM9 17H7v-7h2v7zm4 0h-2V7h2v10zm4 0h-2v-4h2v4z\"/>\n",
              "    </g>\n",
              "</svg>\n",
              "  </button>\n",
              "\n",
              "<style>\n",
              "  .colab-df-quickchart {\n",
              "      --bg-color: #E8F0FE;\n",
              "      --fill-color: #1967D2;\n",
              "      --hover-bg-color: #E2EBFA;\n",
              "      --hover-fill-color: #174EA6;\n",
              "      --disabled-fill-color: #AAA;\n",
              "      --disabled-bg-color: #DDD;\n",
              "  }\n",
              "\n",
              "  [theme=dark] .colab-df-quickchart {\n",
              "      --bg-color: #3B4455;\n",
              "      --fill-color: #D2E3FC;\n",
              "      --hover-bg-color: #434B5C;\n",
              "      --hover-fill-color: #FFFFFF;\n",
              "      --disabled-bg-color: #3B4455;\n",
              "      --disabled-fill-color: #666;\n",
              "  }\n",
              "\n",
              "  .colab-df-quickchart {\n",
              "    background-color: var(--bg-color);\n",
              "    border: none;\n",
              "    border-radius: 50%;\n",
              "    cursor: pointer;\n",
              "    display: none;\n",
              "    fill: var(--fill-color);\n",
              "    height: 32px;\n",
              "    padding: 0;\n",
              "    width: 32px;\n",
              "  }\n",
              "\n",
              "  .colab-df-quickchart:hover {\n",
              "    background-color: var(--hover-bg-color);\n",
              "    box-shadow: 0 1px 2px rgba(60, 64, 67, 0.3), 0 1px 3px 1px rgba(60, 64, 67, 0.15);\n",
              "    fill: var(--button-hover-fill-color);\n",
              "  }\n",
              "\n",
              "  .colab-df-quickchart-complete:disabled,\n",
              "  .colab-df-quickchart-complete:disabled:hover {\n",
              "    background-color: var(--disabled-bg-color);\n",
              "    fill: var(--disabled-fill-color);\n",
              "    box-shadow: none;\n",
              "  }\n",
              "\n",
              "  .colab-df-spinner {\n",
              "    border: 2px solid var(--fill-color);\n",
              "    border-color: transparent;\n",
              "    border-bottom-color: var(--fill-color);\n",
              "    animation:\n",
              "      spin 1s steps(1) infinite;\n",
              "  }\n",
              "\n",
              "  @keyframes spin {\n",
              "    0% {\n",
              "      border-color: transparent;\n",
              "      border-bottom-color: var(--fill-color);\n",
              "      border-left-color: var(--fill-color);\n",
              "    }\n",
              "    20% {\n",
              "      border-color: transparent;\n",
              "      border-left-color: var(--fill-color);\n",
              "      border-top-color: var(--fill-color);\n",
              "    }\n",
              "    30% {\n",
              "      border-color: transparent;\n",
              "      border-left-color: var(--fill-color);\n",
              "      border-top-color: var(--fill-color);\n",
              "      border-right-color: var(--fill-color);\n",
              "    }\n",
              "    40% {\n",
              "      border-color: transparent;\n",
              "      border-right-color: var(--fill-color);\n",
              "      border-top-color: var(--fill-color);\n",
              "    }\n",
              "    60% {\n",
              "      border-color: transparent;\n",
              "      border-right-color: var(--fill-color);\n",
              "    }\n",
              "    80% {\n",
              "      border-color: transparent;\n",
              "      border-right-color: var(--fill-color);\n",
              "      border-bottom-color: var(--fill-color);\n",
              "    }\n",
              "    90% {\n",
              "      border-color: transparent;\n",
              "      border-bottom-color: var(--fill-color);\n",
              "    }\n",
              "  }\n",
              "</style>\n",
              "\n",
              "  <script>\n",
              "    async function quickchart(key) {\n",
              "      const quickchartButtonEl =\n",
              "        document.querySelector('#' + key + ' button');\n",
              "      quickchartButtonEl.disabled = true;  // To prevent multiple clicks.\n",
              "      quickchartButtonEl.classList.add('colab-df-spinner');\n",
              "      try {\n",
              "        const charts = await google.colab.kernel.invokeFunction(\n",
              "            'suggestCharts', [key], {});\n",
              "      } catch (error) {\n",
              "        console.error('Error during call to suggestCharts:', error);\n",
              "      }\n",
              "      quickchartButtonEl.classList.remove('colab-df-spinner');\n",
              "      quickchartButtonEl.classList.add('colab-df-quickchart-complete');\n",
              "    }\n",
              "    (() => {\n",
              "      let quickchartButtonEl =\n",
              "        document.querySelector('#df-2237720d-30d8-493f-8ef0-26ea3ee94005 button');\n",
              "      quickchartButtonEl.style.display =\n",
              "        google.colab.kernel.accessAllowed ? 'block' : 'none';\n",
              "    })();\n",
              "  </script>\n",
              "</div>\n",
              "    </div>\n",
              "  </div>\n"
            ],
            "application/vnd.google.colaboratory.intrinsic+json": {
              "type": "dataframe",
              "summary": "{\n  \"name\": \"dfna\",\n  \"rows\": 8,\n  \"fields\": [\n    {\n      \"column\": \"MPG\",\n      \"properties\": {\n        \"dtype\": \"number\",\n        \"std\": 11.66032025584351,\n        \"min\": 6.0,\n        \"max\": 40.9,\n        \"num_unique_values\": 8,\n        \"samples\": [\n          28.0,\n          24.3,\n          6.0\n        ],\n        \"semantic_type\": \"\",\n        \"description\": \"\"\n      }\n    },\n    {\n      \"column\": \"Cylinders\",\n      \"properties\": {\n        \"dtype\": \"number\",\n        \"std\": 1.607151051945637,\n        \"min\": 0.8164965809277259,\n        \"max\": 6.0,\n        \"num_unique_values\": 4,\n        \"samples\": [\n          4.333333333333333,\n          4.0,\n          6.0\n        ],\n        \"semantic_type\": \"\",\n        \"description\": \"\"\n      }\n    },\n    {\n      \"column\": \"Displacement\",\n      \"properties\": {\n        \"dtype\": \"number\",\n        \"std\": 60.62962679240675,\n        \"min\": 6.0,\n        \"max\": 200.0,\n        \"num_unique_values\": 8,\n        \"samples\": [\n          129.0,\n          120.0,\n          6.0\n        ],\n        \"semantic_type\": \"\",\n        \"description\": \"\"\n      }\n    },\n    {\n      \"column\": \"Horsepower\",\n      \"properties\": {\n        \"dtype\": \"number\",\n        \"std\": null,\n        \"min\": 0.0,\n        \"max\": 0.0,\n        \"num_unique_values\": 1,\n        \"samples\": [\n          0.0\n        ],\n        \"semantic_type\": \"\",\n        \"description\": \"\"\n      }\n    },\n    {\n      \"column\": \"Weight\",\n      \"properties\": {\n        \"dtype\": \"number\",\n        \"std\": 1115.3291068362832,\n        \"min\": 6.0,\n        \"max\": 3035.0,\n        \"num_unique_values\": 8,\n        \"samples\": [\n          2502.6666666666665\n        ],\n        \"semantic_type\": \"\",\n        \"description\": \"\"\n      }\n    },\n    {\n      \"column\": \"Acceleration\",\n      \"properties\": {\n        \"dtype\": \"number\",\n        \"std\": 6.453720276095217,\n        \"min\": 2.212163345385387,\n        \"max\": 20.5,\n        \"num_unique_values\": 8,\n        \"samples\": [\n          17.316666666666666\n        ],\n        \"semantic_type\": \"\",\n        \"description\": \"\"\n      }\n    },\n    {\n      \"column\": \"Model Year\",\n      \"properties\": {\n        \"dtype\": \"number\",\n        \"std\": 33.813512560099106,\n        \"min\": 4.427188724235731,\n        \"max\": 82.0,\n        \"num_unique_values\": 8,\n        \"samples\": [\n          78.0\n        ],\n        \"semantic_type\": \"\",\n        \"description\": \"\"\n      }\n    },\n    {\n      \"column\": \"Origin\",\n      \"properties\": {\n        \"dtype\": \"number\",\n        \"std\": 1.7510374832239137,\n        \"min\": 0.5163977794943223,\n        \"max\": 6.0,\n        \"num_unique_values\": 6,\n        \"samples\": [\n          6.0\n        ],\n        \"semantic_type\": \"\",\n        \"description\": \"\"\n      }\n    }\n  ]\n}"
            }
          },
          "metadata": {},
          "execution_count": 13
        }
      ],
      "source": [
        "dfna = df.loc[df.isna().any(axis=1)==True,:]\n",
        "dfna.describe()"
      ]
    },
    {
      "cell_type": "markdown",
      "metadata": {
        "id": "imAchi9jIAAV"
      },
      "source": [
        "であり、データ全体と比べてもそこまで気になるズレは見当たらない"
      ]
    },
    {
      "cell_type": "code",
      "execution_count": null,
      "metadata": {
        "colab": {
          "base_uri": "https://localhost:8080/",
          "height": 340
        },
        "id": "hZjbqEBsHdIn",
        "outputId": "a63dd886-6a5a-45b9-899b-087d27749e4c"
      },
      "outputs": [
        {
          "output_type": "execute_result",
          "data": {
            "text/plain": [
              "              MPG   Cylinders  Displacement  Horsepower       Weight  \\\n",
              "count  398.000000  398.000000    398.000000  392.000000   398.000000   \n",
              "mean    23.514573    5.454774    193.425879  104.469388  2970.424623   \n",
              "std      7.815984    1.701004    104.269838   38.491160   846.841774   \n",
              "min      9.000000    3.000000     68.000000   46.000000  1613.000000   \n",
              "25%     17.500000    4.000000    104.250000   75.000000  2223.750000   \n",
              "50%     23.000000    4.000000    148.500000   93.500000  2803.500000   \n",
              "75%     29.000000    8.000000    262.000000  126.000000  3608.000000   \n",
              "max     46.600000    8.000000    455.000000  230.000000  5140.000000   \n",
              "\n",
              "       Acceleration  Model Year      Origin  \n",
              "count    398.000000  398.000000  398.000000  \n",
              "mean      15.568090   76.010050    1.572864  \n",
              "std        2.757689    3.697627    0.802055  \n",
              "min        8.000000   70.000000    1.000000  \n",
              "25%       13.825000   73.000000    1.000000  \n",
              "50%       15.500000   76.000000    1.000000  \n",
              "75%       17.175000   79.000000    2.000000  \n",
              "max       24.800000   82.000000    3.000000  "
            ],
            "text/html": [
              "\n",
              "  <div id=\"df-4a6956b8-cde8-41eb-9595-1300abea6087\" class=\"colab-df-container\">\n",
              "    <div>\n",
              "<style scoped>\n",
              "    .dataframe tbody tr th:only-of-type {\n",
              "        vertical-align: middle;\n",
              "    }\n",
              "\n",
              "    .dataframe tbody tr th {\n",
              "        vertical-align: top;\n",
              "    }\n",
              "\n",
              "    .dataframe thead th {\n",
              "        text-align: right;\n",
              "    }\n",
              "</style>\n",
              "<table border=\"1\" class=\"dataframe\">\n",
              "  <thead>\n",
              "    <tr style=\"text-align: right;\">\n",
              "      <th></th>\n",
              "      <th>MPG</th>\n",
              "      <th>Cylinders</th>\n",
              "      <th>Displacement</th>\n",
              "      <th>Horsepower</th>\n",
              "      <th>Weight</th>\n",
              "      <th>Acceleration</th>\n",
              "      <th>Model Year</th>\n",
              "      <th>Origin</th>\n",
              "    </tr>\n",
              "  </thead>\n",
              "  <tbody>\n",
              "    <tr>\n",
              "      <th>count</th>\n",
              "      <td>398.000000</td>\n",
              "      <td>398.000000</td>\n",
              "      <td>398.000000</td>\n",
              "      <td>392.000000</td>\n",
              "      <td>398.000000</td>\n",
              "      <td>398.000000</td>\n",
              "      <td>398.000000</td>\n",
              "      <td>398.000000</td>\n",
              "    </tr>\n",
              "    <tr>\n",
              "      <th>mean</th>\n",
              "      <td>23.514573</td>\n",
              "      <td>5.454774</td>\n",
              "      <td>193.425879</td>\n",
              "      <td>104.469388</td>\n",
              "      <td>2970.424623</td>\n",
              "      <td>15.568090</td>\n",
              "      <td>76.010050</td>\n",
              "      <td>1.572864</td>\n",
              "    </tr>\n",
              "    <tr>\n",
              "      <th>std</th>\n",
              "      <td>7.815984</td>\n",
              "      <td>1.701004</td>\n",
              "      <td>104.269838</td>\n",
              "      <td>38.491160</td>\n",
              "      <td>846.841774</td>\n",
              "      <td>2.757689</td>\n",
              "      <td>3.697627</td>\n",
              "      <td>0.802055</td>\n",
              "    </tr>\n",
              "    <tr>\n",
              "      <th>min</th>\n",
              "      <td>9.000000</td>\n",
              "      <td>3.000000</td>\n",
              "      <td>68.000000</td>\n",
              "      <td>46.000000</td>\n",
              "      <td>1613.000000</td>\n",
              "      <td>8.000000</td>\n",
              "      <td>70.000000</td>\n",
              "      <td>1.000000</td>\n",
              "    </tr>\n",
              "    <tr>\n",
              "      <th>25%</th>\n",
              "      <td>17.500000</td>\n",
              "      <td>4.000000</td>\n",
              "      <td>104.250000</td>\n",
              "      <td>75.000000</td>\n",
              "      <td>2223.750000</td>\n",
              "      <td>13.825000</td>\n",
              "      <td>73.000000</td>\n",
              "      <td>1.000000</td>\n",
              "    </tr>\n",
              "    <tr>\n",
              "      <th>50%</th>\n",
              "      <td>23.000000</td>\n",
              "      <td>4.000000</td>\n",
              "      <td>148.500000</td>\n",
              "      <td>93.500000</td>\n",
              "      <td>2803.500000</td>\n",
              "      <td>15.500000</td>\n",
              "      <td>76.000000</td>\n",
              "      <td>1.000000</td>\n",
              "    </tr>\n",
              "    <tr>\n",
              "      <th>75%</th>\n",
              "      <td>29.000000</td>\n",
              "      <td>8.000000</td>\n",
              "      <td>262.000000</td>\n",
              "      <td>126.000000</td>\n",
              "      <td>3608.000000</td>\n",
              "      <td>17.175000</td>\n",
              "      <td>79.000000</td>\n",
              "      <td>2.000000</td>\n",
              "    </tr>\n",
              "    <tr>\n",
              "      <th>max</th>\n",
              "      <td>46.600000</td>\n",
              "      <td>8.000000</td>\n",
              "      <td>455.000000</td>\n",
              "      <td>230.000000</td>\n",
              "      <td>5140.000000</td>\n",
              "      <td>24.800000</td>\n",
              "      <td>82.000000</td>\n",
              "      <td>3.000000</td>\n",
              "    </tr>\n",
              "  </tbody>\n",
              "</table>\n",
              "</div>\n",
              "    <div class=\"colab-df-buttons\">\n",
              "\n",
              "  <div class=\"colab-df-container\">\n",
              "    <button class=\"colab-df-convert\" onclick=\"convertToInteractive('df-4a6956b8-cde8-41eb-9595-1300abea6087')\"\n",
              "            title=\"Convert this dataframe to an interactive table.\"\n",
              "            style=\"display:none;\">\n",
              "\n",
              "  <svg xmlns=\"http://www.w3.org/2000/svg\" height=\"24px\" viewBox=\"0 -960 960 960\">\n",
              "    <path d=\"M120-120v-720h720v720H120Zm60-500h600v-160H180v160Zm220 220h160v-160H400v160Zm0 220h160v-160H400v160ZM180-400h160v-160H180v160Zm440 0h160v-160H620v160ZM180-180h160v-160H180v160Zm440 0h160v-160H620v160Z\"/>\n",
              "  </svg>\n",
              "    </button>\n",
              "\n",
              "  <style>\n",
              "    .colab-df-container {\n",
              "      display:flex;\n",
              "      gap: 12px;\n",
              "    }\n",
              "\n",
              "    .colab-df-convert {\n",
              "      background-color: #E8F0FE;\n",
              "      border: none;\n",
              "      border-radius: 50%;\n",
              "      cursor: pointer;\n",
              "      display: none;\n",
              "      fill: #1967D2;\n",
              "      height: 32px;\n",
              "      padding: 0 0 0 0;\n",
              "      width: 32px;\n",
              "    }\n",
              "\n",
              "    .colab-df-convert:hover {\n",
              "      background-color: #E2EBFA;\n",
              "      box-shadow: 0px 1px 2px rgba(60, 64, 67, 0.3), 0px 1px 3px 1px rgba(60, 64, 67, 0.15);\n",
              "      fill: #174EA6;\n",
              "    }\n",
              "\n",
              "    .colab-df-buttons div {\n",
              "      margin-bottom: 4px;\n",
              "    }\n",
              "\n",
              "    [theme=dark] .colab-df-convert {\n",
              "      background-color: #3B4455;\n",
              "      fill: #D2E3FC;\n",
              "    }\n",
              "\n",
              "    [theme=dark] .colab-df-convert:hover {\n",
              "      background-color: #434B5C;\n",
              "      box-shadow: 0px 1px 3px 1px rgba(0, 0, 0, 0.15);\n",
              "      filter: drop-shadow(0px 1px 2px rgba(0, 0, 0, 0.3));\n",
              "      fill: #FFFFFF;\n",
              "    }\n",
              "  </style>\n",
              "\n",
              "    <script>\n",
              "      const buttonEl =\n",
              "        document.querySelector('#df-4a6956b8-cde8-41eb-9595-1300abea6087 button.colab-df-convert');\n",
              "      buttonEl.style.display =\n",
              "        google.colab.kernel.accessAllowed ? 'block' : 'none';\n",
              "\n",
              "      async function convertToInteractive(key) {\n",
              "        const element = document.querySelector('#df-4a6956b8-cde8-41eb-9595-1300abea6087');\n",
              "        const dataTable =\n",
              "          await google.colab.kernel.invokeFunction('convertToInteractive',\n",
              "                                                    [key], {});\n",
              "        if (!dataTable) return;\n",
              "\n",
              "        const docLinkHtml = 'Like what you see? Visit the ' +\n",
              "          '<a target=\"_blank\" href=https://colab.research.google.com/notebooks/data_table.ipynb>data table notebook</a>'\n",
              "          + ' to learn more about interactive tables.';\n",
              "        element.innerHTML = '';\n",
              "        dataTable['output_type'] = 'display_data';\n",
              "        await google.colab.output.renderOutput(dataTable, element);\n",
              "        const docLink = document.createElement('div');\n",
              "        docLink.innerHTML = docLinkHtml;\n",
              "        element.appendChild(docLink);\n",
              "      }\n",
              "    </script>\n",
              "  </div>\n",
              "\n",
              "\n",
              "<div id=\"df-d2c9c0a0-6d4f-4b13-b991-e04a9c537c56\">\n",
              "  <button class=\"colab-df-quickchart\" onclick=\"quickchart('df-d2c9c0a0-6d4f-4b13-b991-e04a9c537c56')\"\n",
              "            title=\"Suggest charts\"\n",
              "            style=\"display:none;\">\n",
              "\n",
              "<svg xmlns=\"http://www.w3.org/2000/svg\" height=\"24px\"viewBox=\"0 0 24 24\"\n",
              "     width=\"24px\">\n",
              "    <g>\n",
              "        <path d=\"M19 3H5c-1.1 0-2 .9-2 2v14c0 1.1.9 2 2 2h14c1.1 0 2-.9 2-2V5c0-1.1-.9-2-2-2zM9 17H7v-7h2v7zm4 0h-2V7h2v10zm4 0h-2v-4h2v4z\"/>\n",
              "    </g>\n",
              "</svg>\n",
              "  </button>\n",
              "\n",
              "<style>\n",
              "  .colab-df-quickchart {\n",
              "      --bg-color: #E8F0FE;\n",
              "      --fill-color: #1967D2;\n",
              "      --hover-bg-color: #E2EBFA;\n",
              "      --hover-fill-color: #174EA6;\n",
              "      --disabled-fill-color: #AAA;\n",
              "      --disabled-bg-color: #DDD;\n",
              "  }\n",
              "\n",
              "  [theme=dark] .colab-df-quickchart {\n",
              "      --bg-color: #3B4455;\n",
              "      --fill-color: #D2E3FC;\n",
              "      --hover-bg-color: #434B5C;\n",
              "      --hover-fill-color: #FFFFFF;\n",
              "      --disabled-bg-color: #3B4455;\n",
              "      --disabled-fill-color: #666;\n",
              "  }\n",
              "\n",
              "  .colab-df-quickchart {\n",
              "    background-color: var(--bg-color);\n",
              "    border: none;\n",
              "    border-radius: 50%;\n",
              "    cursor: pointer;\n",
              "    display: none;\n",
              "    fill: var(--fill-color);\n",
              "    height: 32px;\n",
              "    padding: 0;\n",
              "    width: 32px;\n",
              "  }\n",
              "\n",
              "  .colab-df-quickchart:hover {\n",
              "    background-color: var(--hover-bg-color);\n",
              "    box-shadow: 0 1px 2px rgba(60, 64, 67, 0.3), 0 1px 3px 1px rgba(60, 64, 67, 0.15);\n",
              "    fill: var(--button-hover-fill-color);\n",
              "  }\n",
              "\n",
              "  .colab-df-quickchart-complete:disabled,\n",
              "  .colab-df-quickchart-complete:disabled:hover {\n",
              "    background-color: var(--disabled-bg-color);\n",
              "    fill: var(--disabled-fill-color);\n",
              "    box-shadow: none;\n",
              "  }\n",
              "\n",
              "  .colab-df-spinner {\n",
              "    border: 2px solid var(--fill-color);\n",
              "    border-color: transparent;\n",
              "    border-bottom-color: var(--fill-color);\n",
              "    animation:\n",
              "      spin 1s steps(1) infinite;\n",
              "  }\n",
              "\n",
              "  @keyframes spin {\n",
              "    0% {\n",
              "      border-color: transparent;\n",
              "      border-bottom-color: var(--fill-color);\n",
              "      border-left-color: var(--fill-color);\n",
              "    }\n",
              "    20% {\n",
              "      border-color: transparent;\n",
              "      border-left-color: var(--fill-color);\n",
              "      border-top-color: var(--fill-color);\n",
              "    }\n",
              "    30% {\n",
              "      border-color: transparent;\n",
              "      border-left-color: var(--fill-color);\n",
              "      border-top-color: var(--fill-color);\n",
              "      border-right-color: var(--fill-color);\n",
              "    }\n",
              "    40% {\n",
              "      border-color: transparent;\n",
              "      border-right-color: var(--fill-color);\n",
              "      border-top-color: var(--fill-color);\n",
              "    }\n",
              "    60% {\n",
              "      border-color: transparent;\n",
              "      border-right-color: var(--fill-color);\n",
              "    }\n",
              "    80% {\n",
              "      border-color: transparent;\n",
              "      border-right-color: var(--fill-color);\n",
              "      border-bottom-color: var(--fill-color);\n",
              "    }\n",
              "    90% {\n",
              "      border-color: transparent;\n",
              "      border-bottom-color: var(--fill-color);\n",
              "    }\n",
              "  }\n",
              "</style>\n",
              "\n",
              "  <script>\n",
              "    async function quickchart(key) {\n",
              "      const quickchartButtonEl =\n",
              "        document.querySelector('#' + key + ' button');\n",
              "      quickchartButtonEl.disabled = true;  // To prevent multiple clicks.\n",
              "      quickchartButtonEl.classList.add('colab-df-spinner');\n",
              "      try {\n",
              "        const charts = await google.colab.kernel.invokeFunction(\n",
              "            'suggestCharts', [key], {});\n",
              "      } catch (error) {\n",
              "        console.error('Error during call to suggestCharts:', error);\n",
              "      }\n",
              "      quickchartButtonEl.classList.remove('colab-df-spinner');\n",
              "      quickchartButtonEl.classList.add('colab-df-quickchart-complete');\n",
              "    }\n",
              "    (() => {\n",
              "      let quickchartButtonEl =\n",
              "        document.querySelector('#df-d2c9c0a0-6d4f-4b13-b991-e04a9c537c56 button');\n",
              "      quickchartButtonEl.style.display =\n",
              "        google.colab.kernel.accessAllowed ? 'block' : 'none';\n",
              "    })();\n",
              "  </script>\n",
              "</div>\n",
              "    </div>\n",
              "  </div>\n"
            ],
            "application/vnd.google.colaboratory.intrinsic+json": {
              "type": "dataframe",
              "summary": "{\n  \"name\": \"df\",\n  \"rows\": 8,\n  \"fields\": [\n    {\n      \"column\": \"MPG\",\n      \"properties\": {\n        \"dtype\": \"number\",\n        \"std\": 133.37523833494922,\n        \"min\": 7.815984312565782,\n        \"max\": 398.0,\n        \"num_unique_values\": 8,\n        \"samples\": [\n          23.514572864321607,\n          23.0,\n          398.0\n        ],\n        \"semantic_type\": \"\",\n        \"description\": \"\"\n      }\n    },\n    {\n      \"column\": \"Cylinders\",\n      \"properties\": {\n        \"dtype\": \"number\",\n        \"std\": 139.0071020301553,\n        \"min\": 1.7010042445332119,\n        \"max\": 398.0,\n        \"num_unique_values\": 6,\n        \"samples\": [\n          398.0,\n          5.454773869346734,\n          8.0\n        ],\n        \"semantic_type\": \"\",\n        \"description\": \"\"\n      }\n    },\n    {\n      \"column\": \"Displacement\",\n      \"properties\": {\n        \"dtype\": \"number\",\n        \"std\": 143.57617465667641,\n        \"min\": 68.0,\n        \"max\": 455.0,\n        \"num_unique_values\": 8,\n        \"samples\": [\n          193.42587939698493,\n          148.5,\n          398.0\n        ],\n        \"semantic_type\": \"\",\n        \"description\": \"\"\n      }\n    },\n    {\n      \"column\": \"Horsepower\",\n      \"properties\": {\n        \"dtype\": \"number\",\n        \"std\": 118.66115898346135,\n        \"min\": 38.49115993282849,\n        \"max\": 392.0,\n        \"num_unique_values\": 8,\n        \"samples\": [\n          104.46938775510205,\n          93.5,\n          392.0\n        ],\n        \"semantic_type\": \"\",\n        \"description\": \"\"\n      }\n    },\n    {\n      \"column\": \"Weight\",\n      \"properties\": {\n        \"dtype\": \"number\",\n        \"std\": 1535.5522437115258,\n        \"min\": 398.0,\n        \"max\": 5140.0,\n        \"num_unique_values\": 8,\n        \"samples\": [\n          2970.424623115578,\n          2803.5,\n          398.0\n        ],\n        \"semantic_type\": \"\",\n        \"description\": \"\"\n      }\n    },\n    {\n      \"column\": \"Acceleration\",\n      \"properties\": {\n        \"dtype\": \"number\",\n        \"std\": 135.93788360342714,\n        \"min\": 2.757688929812676,\n        \"max\": 398.0,\n        \"num_unique_values\": 8,\n        \"samples\": [\n          15.568090452261307,\n          15.5,\n          398.0\n        ],\n        \"semantic_type\": \"\",\n        \"description\": \"\"\n      }\n    },\n    {\n      \"column\": \"Model Year\",\n      \"properties\": {\n        \"dtype\": \"number\",\n        \"std\": 120.2422511942329,\n        \"min\": 3.697626646732623,\n        \"max\": 398.0,\n        \"num_unique_values\": 8,\n        \"samples\": [\n          76.01005025125629,\n          76.0,\n          398.0\n        ],\n        \"semantic_type\": \"\",\n        \"description\": \"\"\n      }\n    },\n    {\n      \"column\": \"Origin\",\n      \"properties\": {\n        \"dtype\": \"number\",\n        \"std\": 140.19214256834297,\n        \"min\": 0.8020548777266148,\n        \"max\": 398.0,\n        \"num_unique_values\": 6,\n        \"samples\": [\n          398.0,\n          1.5728643216080402,\n          3.0\n        ],\n        \"semantic_type\": \"\",\n        \"description\": \"\"\n      }\n    }\n  ]\n}"
            }
          },
          "metadata": {},
          "execution_count": 14
        }
      ],
      "source": [
        "df.describe()"
      ]
    },
    {
      "cell_type": "markdown",
      "metadata": {
        "id": "5lDA0iHNI3Iz"
      },
      "source": [
        "6個しかないしバイアスも大きくはないならば、行ごと捨てても良い。"
      ]
    },
    {
      "cell_type": "markdown",
      "metadata": {
        "id": "_QcatYPReASX"
      },
      "source": [
        "\n",
        "\n",
        "---\n",
        "\n",
        "\n",
        "## 必須事項\n",
        "\n",
        "テスト・訓練の分割前にこの処理をしていることに注意。<b>欠損値の処理は分割後の方が良いか</b>、など、色々考察してみましょう。\n",
        "\n",
        "\n",
        "---\n",
        "\n"
      ]
    },
    {
      "cell_type": "markdown",
      "metadata": {
        "id": "anYWreUlglaU"
      },
      "source": [
        "### ③ カテゴリカル属性の処理\n",
        "\n",
        "Originは**順序カテゴリカル変数ではない**。したがってダミー変数へのエンコーディングを行う。\n",
        "\n",
        "定番は**one-hotエンコーディング**である。one-hotでは、属性Origin=1,2,3から三つのバイナリ属性Origin_1, Origin_2, Origin_3を作る。これら新しい属性の値は、元の属性と次のように対応している：\n",
        "\n",
        "カテゴリ1　→　(1,0,0)\n",
        "\n",
        "カテゴリ2　→　(0,1,0)\n",
        "\n",
        "カテゴリ3　→　(0,0,1)\n",
        "\n",
        "ただしこのように作ったone-hotの3属性は、互いに強い相関を持つ変数だ（足したら必ず１）。\n",
        "\n",
        "そこで**多重共線性**が生じることを気にして、引数`drop_first=True`により三つの属性から始めのもの(Origin_1)を落として二個だけ使おう："
      ]
    },
    {
      "cell_type": "code",
      "execution_count": null,
      "metadata": {
        "colab": {
          "base_uri": "https://localhost:8080/",
          "height": 225
        },
        "collapsed": true,
        "id": "wRjtirFUglaU",
        "outputId": "18b1f746-82e0-44bc-e49c-38f4fbf14746"
      },
      "outputs": [
        {
          "output_type": "execute_result",
          "data": {
            "text/plain": [
              "    MPG  Cylinders  Displacement  Horsepower  Weight  Acceleration  \\\n",
              "0  18.0          8         307.0       130.0  3504.0          12.0   \n",
              "1  15.0          8         350.0       165.0  3693.0          11.5   \n",
              "2  18.0          8         318.0       150.0  3436.0          11.0   \n",
              "3  16.0          8         304.0       150.0  3433.0          12.0   \n",
              "4  17.0          8         302.0       140.0  3449.0          10.5   \n",
              "\n",
              "   Model Year  Origin_2  Origin_3  \n",
              "0          70     False     False  \n",
              "1          70     False     False  \n",
              "2          70     False     False  \n",
              "3          70     False     False  \n",
              "4          70     False     False  "
            ],
            "text/html": [
              "\n",
              "  <div id=\"df-1ed6a5bd-ae1e-436e-a89a-5960cc70a45d\" class=\"colab-df-container\">\n",
              "    <div>\n",
              "<style scoped>\n",
              "    .dataframe tbody tr th:only-of-type {\n",
              "        vertical-align: middle;\n",
              "    }\n",
              "\n",
              "    .dataframe tbody tr th {\n",
              "        vertical-align: top;\n",
              "    }\n",
              "\n",
              "    .dataframe thead th {\n",
              "        text-align: right;\n",
              "    }\n",
              "</style>\n",
              "<table border=\"1\" class=\"dataframe\">\n",
              "  <thead>\n",
              "    <tr style=\"text-align: right;\">\n",
              "      <th></th>\n",
              "      <th>MPG</th>\n",
              "      <th>Cylinders</th>\n",
              "      <th>Displacement</th>\n",
              "      <th>Horsepower</th>\n",
              "      <th>Weight</th>\n",
              "      <th>Acceleration</th>\n",
              "      <th>Model Year</th>\n",
              "      <th>Origin_2</th>\n",
              "      <th>Origin_3</th>\n",
              "    </tr>\n",
              "  </thead>\n",
              "  <tbody>\n",
              "    <tr>\n",
              "      <th>0</th>\n",
              "      <td>18.0</td>\n",
              "      <td>8</td>\n",
              "      <td>307.0</td>\n",
              "      <td>130.0</td>\n",
              "      <td>3504.0</td>\n",
              "      <td>12.0</td>\n",
              "      <td>70</td>\n",
              "      <td>False</td>\n",
              "      <td>False</td>\n",
              "    </tr>\n",
              "    <tr>\n",
              "      <th>1</th>\n",
              "      <td>15.0</td>\n",
              "      <td>8</td>\n",
              "      <td>350.0</td>\n",
              "      <td>165.0</td>\n",
              "      <td>3693.0</td>\n",
              "      <td>11.5</td>\n",
              "      <td>70</td>\n",
              "      <td>False</td>\n",
              "      <td>False</td>\n",
              "    </tr>\n",
              "    <tr>\n",
              "      <th>2</th>\n",
              "      <td>18.0</td>\n",
              "      <td>8</td>\n",
              "      <td>318.0</td>\n",
              "      <td>150.0</td>\n",
              "      <td>3436.0</td>\n",
              "      <td>11.0</td>\n",
              "      <td>70</td>\n",
              "      <td>False</td>\n",
              "      <td>False</td>\n",
              "    </tr>\n",
              "    <tr>\n",
              "      <th>3</th>\n",
              "      <td>16.0</td>\n",
              "      <td>8</td>\n",
              "      <td>304.0</td>\n",
              "      <td>150.0</td>\n",
              "      <td>3433.0</td>\n",
              "      <td>12.0</td>\n",
              "      <td>70</td>\n",
              "      <td>False</td>\n",
              "      <td>False</td>\n",
              "    </tr>\n",
              "    <tr>\n",
              "      <th>4</th>\n",
              "      <td>17.0</td>\n",
              "      <td>8</td>\n",
              "      <td>302.0</td>\n",
              "      <td>140.0</td>\n",
              "      <td>3449.0</td>\n",
              "      <td>10.5</td>\n",
              "      <td>70</td>\n",
              "      <td>False</td>\n",
              "      <td>False</td>\n",
              "    </tr>\n",
              "  </tbody>\n",
              "</table>\n",
              "</div>\n",
              "    <div class=\"colab-df-buttons\">\n",
              "\n",
              "  <div class=\"colab-df-container\">\n",
              "    <button class=\"colab-df-convert\" onclick=\"convertToInteractive('df-1ed6a5bd-ae1e-436e-a89a-5960cc70a45d')\"\n",
              "            title=\"Convert this dataframe to an interactive table.\"\n",
              "            style=\"display:none;\">\n",
              "\n",
              "  <svg xmlns=\"http://www.w3.org/2000/svg\" height=\"24px\" viewBox=\"0 -960 960 960\">\n",
              "    <path d=\"M120-120v-720h720v720H120Zm60-500h600v-160H180v160Zm220 220h160v-160H400v160Zm0 220h160v-160H400v160ZM180-400h160v-160H180v160Zm440 0h160v-160H620v160ZM180-180h160v-160H180v160Zm440 0h160v-160H620v160Z\"/>\n",
              "  </svg>\n",
              "    </button>\n",
              "\n",
              "  <style>\n",
              "    .colab-df-container {\n",
              "      display:flex;\n",
              "      gap: 12px;\n",
              "    }\n",
              "\n",
              "    .colab-df-convert {\n",
              "      background-color: #E8F0FE;\n",
              "      border: none;\n",
              "      border-radius: 50%;\n",
              "      cursor: pointer;\n",
              "      display: none;\n",
              "      fill: #1967D2;\n",
              "      height: 32px;\n",
              "      padding: 0 0 0 0;\n",
              "      width: 32px;\n",
              "    }\n",
              "\n",
              "    .colab-df-convert:hover {\n",
              "      background-color: #E2EBFA;\n",
              "      box-shadow: 0px 1px 2px rgba(60, 64, 67, 0.3), 0px 1px 3px 1px rgba(60, 64, 67, 0.15);\n",
              "      fill: #174EA6;\n",
              "    }\n",
              "\n",
              "    .colab-df-buttons div {\n",
              "      margin-bottom: 4px;\n",
              "    }\n",
              "\n",
              "    [theme=dark] .colab-df-convert {\n",
              "      background-color: #3B4455;\n",
              "      fill: #D2E3FC;\n",
              "    }\n",
              "\n",
              "    [theme=dark] .colab-df-convert:hover {\n",
              "      background-color: #434B5C;\n",
              "      box-shadow: 0px 1px 3px 1px rgba(0, 0, 0, 0.15);\n",
              "      filter: drop-shadow(0px 1px 2px rgba(0, 0, 0, 0.3));\n",
              "      fill: #FFFFFF;\n",
              "    }\n",
              "  </style>\n",
              "\n",
              "    <script>\n",
              "      const buttonEl =\n",
              "        document.querySelector('#df-1ed6a5bd-ae1e-436e-a89a-5960cc70a45d button.colab-df-convert');\n",
              "      buttonEl.style.display =\n",
              "        google.colab.kernel.accessAllowed ? 'block' : 'none';\n",
              "\n",
              "      async function convertToInteractive(key) {\n",
              "        const element = document.querySelector('#df-1ed6a5bd-ae1e-436e-a89a-5960cc70a45d');\n",
              "        const dataTable =\n",
              "          await google.colab.kernel.invokeFunction('convertToInteractive',\n",
              "                                                    [key], {});\n",
              "        if (!dataTable) return;\n",
              "\n",
              "        const docLinkHtml = 'Like what you see? Visit the ' +\n",
              "          '<a target=\"_blank\" href=https://colab.research.google.com/notebooks/data_table.ipynb>data table notebook</a>'\n",
              "          + ' to learn more about interactive tables.';\n",
              "        element.innerHTML = '';\n",
              "        dataTable['output_type'] = 'display_data';\n",
              "        await google.colab.output.renderOutput(dataTable, element);\n",
              "        const docLink = document.createElement('div');\n",
              "        docLink.innerHTML = docLinkHtml;\n",
              "        element.appendChild(docLink);\n",
              "      }\n",
              "    </script>\n",
              "  </div>\n",
              "\n",
              "\n",
              "<div id=\"df-3c709ff1-c79a-4df2-9a71-7d9be9139f27\">\n",
              "  <button class=\"colab-df-quickchart\" onclick=\"quickchart('df-3c709ff1-c79a-4df2-9a71-7d9be9139f27')\"\n",
              "            title=\"Suggest charts\"\n",
              "            style=\"display:none;\">\n",
              "\n",
              "<svg xmlns=\"http://www.w3.org/2000/svg\" height=\"24px\"viewBox=\"0 0 24 24\"\n",
              "     width=\"24px\">\n",
              "    <g>\n",
              "        <path d=\"M19 3H5c-1.1 0-2 .9-2 2v14c0 1.1.9 2 2 2h14c1.1 0 2-.9 2-2V5c0-1.1-.9-2-2-2zM9 17H7v-7h2v7zm4 0h-2V7h2v10zm4 0h-2v-4h2v4z\"/>\n",
              "    </g>\n",
              "</svg>\n",
              "  </button>\n",
              "\n",
              "<style>\n",
              "  .colab-df-quickchart {\n",
              "      --bg-color: #E8F0FE;\n",
              "      --fill-color: #1967D2;\n",
              "      --hover-bg-color: #E2EBFA;\n",
              "      --hover-fill-color: #174EA6;\n",
              "      --disabled-fill-color: #AAA;\n",
              "      --disabled-bg-color: #DDD;\n",
              "  }\n",
              "\n",
              "  [theme=dark] .colab-df-quickchart {\n",
              "      --bg-color: #3B4455;\n",
              "      --fill-color: #D2E3FC;\n",
              "      --hover-bg-color: #434B5C;\n",
              "      --hover-fill-color: #FFFFFF;\n",
              "      --disabled-bg-color: #3B4455;\n",
              "      --disabled-fill-color: #666;\n",
              "  }\n",
              "\n",
              "  .colab-df-quickchart {\n",
              "    background-color: var(--bg-color);\n",
              "    border: none;\n",
              "    border-radius: 50%;\n",
              "    cursor: pointer;\n",
              "    display: none;\n",
              "    fill: var(--fill-color);\n",
              "    height: 32px;\n",
              "    padding: 0;\n",
              "    width: 32px;\n",
              "  }\n",
              "\n",
              "  .colab-df-quickchart:hover {\n",
              "    background-color: var(--hover-bg-color);\n",
              "    box-shadow: 0 1px 2px rgba(60, 64, 67, 0.3), 0 1px 3px 1px rgba(60, 64, 67, 0.15);\n",
              "    fill: var(--button-hover-fill-color);\n",
              "  }\n",
              "\n",
              "  .colab-df-quickchart-complete:disabled,\n",
              "  .colab-df-quickchart-complete:disabled:hover {\n",
              "    background-color: var(--disabled-bg-color);\n",
              "    fill: var(--disabled-fill-color);\n",
              "    box-shadow: none;\n",
              "  }\n",
              "\n",
              "  .colab-df-spinner {\n",
              "    border: 2px solid var(--fill-color);\n",
              "    border-color: transparent;\n",
              "    border-bottom-color: var(--fill-color);\n",
              "    animation:\n",
              "      spin 1s steps(1) infinite;\n",
              "  }\n",
              "\n",
              "  @keyframes spin {\n",
              "    0% {\n",
              "      border-color: transparent;\n",
              "      border-bottom-color: var(--fill-color);\n",
              "      border-left-color: var(--fill-color);\n",
              "    }\n",
              "    20% {\n",
              "      border-color: transparent;\n",
              "      border-left-color: var(--fill-color);\n",
              "      border-top-color: var(--fill-color);\n",
              "    }\n",
              "    30% {\n",
              "      border-color: transparent;\n",
              "      border-left-color: var(--fill-color);\n",
              "      border-top-color: var(--fill-color);\n",
              "      border-right-color: var(--fill-color);\n",
              "    }\n",
              "    40% {\n",
              "      border-color: transparent;\n",
              "      border-right-color: var(--fill-color);\n",
              "      border-top-color: var(--fill-color);\n",
              "    }\n",
              "    60% {\n",
              "      border-color: transparent;\n",
              "      border-right-color: var(--fill-color);\n",
              "    }\n",
              "    80% {\n",
              "      border-color: transparent;\n",
              "      border-right-color: var(--fill-color);\n",
              "      border-bottom-color: var(--fill-color);\n",
              "    }\n",
              "    90% {\n",
              "      border-color: transparent;\n",
              "      border-bottom-color: var(--fill-color);\n",
              "    }\n",
              "  }\n",
              "</style>\n",
              "\n",
              "  <script>\n",
              "    async function quickchart(key) {\n",
              "      const quickchartButtonEl =\n",
              "        document.querySelector('#' + key + ' button');\n",
              "      quickchartButtonEl.disabled = true;  // To prevent multiple clicks.\n",
              "      quickchartButtonEl.classList.add('colab-df-spinner');\n",
              "      try {\n",
              "        const charts = await google.colab.kernel.invokeFunction(\n",
              "            'suggestCharts', [key], {});\n",
              "      } catch (error) {\n",
              "        console.error('Error during call to suggestCharts:', error);\n",
              "      }\n",
              "      quickchartButtonEl.classList.remove('colab-df-spinner');\n",
              "      quickchartButtonEl.classList.add('colab-df-quickchart-complete');\n",
              "    }\n",
              "    (() => {\n",
              "      let quickchartButtonEl =\n",
              "        document.querySelector('#df-3c709ff1-c79a-4df2-9a71-7d9be9139f27 button');\n",
              "      quickchartButtonEl.style.display =\n",
              "        google.colab.kernel.accessAllowed ? 'block' : 'none';\n",
              "    })();\n",
              "  </script>\n",
              "</div>\n",
              "    </div>\n",
              "  </div>\n"
            ],
            "application/vnd.google.colaboratory.intrinsic+json": {
              "type": "dataframe",
              "variable_name": "df_filled",
              "summary": "{\n  \"name\": \"df_filled\",\n  \"rows\": 398,\n  \"fields\": [\n    {\n      \"column\": \"MPG\",\n      \"properties\": {\n        \"dtype\": \"number\",\n        \"std\": 7.815984312565782,\n        \"min\": 9.0,\n        \"max\": 46.6,\n        \"num_unique_values\": 129,\n        \"samples\": [\n          17.7,\n          30.5,\n          30.0\n        ],\n        \"semantic_type\": \"\",\n        \"description\": \"\"\n      }\n    },\n    {\n      \"column\": \"Cylinders\",\n      \"properties\": {\n        \"dtype\": \"number\",\n        \"std\": 1,\n        \"min\": 3,\n        \"max\": 8,\n        \"num_unique_values\": 5,\n        \"samples\": [\n          4,\n          5,\n          6\n        ],\n        \"semantic_type\": \"\",\n        \"description\": \"\"\n      }\n    },\n    {\n      \"column\": \"Displacement\",\n      \"properties\": {\n        \"dtype\": \"number\",\n        \"std\": 104.26983817119591,\n        \"min\": 68.0,\n        \"max\": 455.0,\n        \"num_unique_values\": 82,\n        \"samples\": [\n          122.0,\n          307.0,\n          360.0\n        ],\n        \"semantic_type\": \"\",\n        \"description\": \"\"\n      }\n    },\n    {\n      \"column\": \"Horsepower\",\n      \"properties\": {\n        \"dtype\": \"number\",\n        \"std\": 38.19918737359046,\n        \"min\": 46.0,\n        \"max\": 230.0,\n        \"num_unique_values\": 94,\n        \"samples\": [\n          112.0,\n          104.46938775510205,\n          78.0\n        ],\n        \"semantic_type\": \"\",\n        \"description\": \"\"\n      }\n    },\n    {\n      \"column\": \"Weight\",\n      \"properties\": {\n        \"dtype\": \"number\",\n        \"std\": 846.8417741973268,\n        \"min\": 1613.0,\n        \"max\": 5140.0,\n        \"num_unique_values\": 351,\n        \"samples\": [\n          3730.0,\n          1995.0,\n          2215.0\n        ],\n        \"semantic_type\": \"\",\n        \"description\": \"\"\n      }\n    },\n    {\n      \"column\": \"Acceleration\",\n      \"properties\": {\n        \"dtype\": \"number\",\n        \"std\": 2.757688929812676,\n        \"min\": 8.0,\n        \"max\": 24.8,\n        \"num_unique_values\": 95,\n        \"samples\": [\n          14.7,\n          18.0,\n          14.3\n        ],\n        \"semantic_type\": \"\",\n        \"description\": \"\"\n      }\n    },\n    {\n      \"column\": \"Model Year\",\n      \"properties\": {\n        \"dtype\": \"number\",\n        \"std\": 3,\n        \"min\": 70,\n        \"max\": 82,\n        \"num_unique_values\": 13,\n        \"samples\": [\n          81,\n          79,\n          70\n        ],\n        \"semantic_type\": \"\",\n        \"description\": \"\"\n      }\n    },\n    {\n      \"column\": \"Origin_2\",\n      \"properties\": {\n        \"dtype\": \"boolean\",\n        \"num_unique_values\": 2,\n        \"samples\": [\n          true,\n          false\n        ],\n        \"semantic_type\": \"\",\n        \"description\": \"\"\n      }\n    },\n    {\n      \"column\": \"Origin_3\",\n      \"properties\": {\n        \"dtype\": \"boolean\",\n        \"num_unique_values\": 2,\n        \"samples\": [\n          true,\n          false\n        ],\n        \"semantic_type\": \"\",\n        \"description\": \"\"\n      }\n    }\n  ]\n}"
            }
          },
          "metadata": {},
          "execution_count": 15
        }
      ],
      "source": [
        "df_filled = pd.get_dummies(df_filled, columns=['Origin'], drop_first=True)\n",
        "\n",
        "df_filled.head()"
      ]
    },
    {
      "cell_type": "markdown",
      "metadata": {
        "id": "o0S3zg4xglaV"
      },
      "source": [
        "### ④ 入・出力データの準備とデータ分割\n",
        "\n",
        "さて前処理が大体終わったので、df_filledからデータなどを切り出そう。\n",
        "\n",
        "今回のタスクは燃費予測なので、'MPG'属性が出力変数yである。そこで始めの列と、'Cylinders'以降の列に分けて、それぞれをy, Xにする："
      ]
    },
    {
      "cell_type": "code",
      "execution_count": null,
      "metadata": {
        "collapsed": true,
        "id": "2Bne0cdqglaV"
      },
      "outputs": [],
      "source": [
        "X = df_filled.loc[:,'Cylinders':]\n",
        "y = df_filled.loc[:,'MPG']"
      ]
    },
    {
      "cell_type": "markdown",
      "metadata": {
        "id": "xo4-RHmFglaV"
      },
      "source": [
        "全体のうち、２割をテスト用に残すことにする："
      ]
    },
    {
      "cell_type": "code",
      "execution_count": null,
      "metadata": {
        "collapsed": true,
        "id": "3Ghlj1qIglaV"
      },
      "outputs": [],
      "source": [
        "from sklearn.model_selection import train_test_split\n",
        "\n",
        "X_train, X_test, y_train, y_test = train_test_split(X, y, test_size=0.2, random_state=42)"
      ]
    },
    {
      "cell_type": "markdown",
      "metadata": {
        "id": "qiSEjK_oglaW"
      },
      "source": [
        "## 1.3 データの可視化\n",
        "\n",
        "訓練データが切り出せたので、**訓練データを**可視化したり、その記述統計量を計算することで、学習前に事前分析を行う。それにより分析のヒントやデータの注意点について示唆が得られないかを考える。\n",
        "\n",
        "まずは<b>ペアプロット</b>を作る。そのためにSeabornというライブラリ（Matplotlibのラッパー）を使う。\n",
        "\n",
        "ペアプロットは、二つの特徴量の相関具合を見るための散布図の集合である。その対角線には、特徴量のヒストグラムが表示される。ここでは４つの属性に絞って可視化しましょう："
      ]
    },
    {
      "cell_type": "code",
      "execution_count": null,
      "metadata": {
        "colab": {
          "base_uri": "https://localhost:8080/",
          "height": 886
        },
        "id": "tG1OcpSaglaW",
        "outputId": "1d14d13a-e27c-45fa-b963-41fae214596e"
      },
      "outputs": [
        {
          "output_type": "execute_result",
          "data": {
            "text/plain": [
              "<seaborn.axisgrid.PairGrid at 0x7bd9cf0a9420>"
            ]
          },
          "metadata": {},
          "execution_count": 18
        },
        {
          "output_type": "display_data",
          "data": {
            "text/plain": [
              "<Figure size 1000x1000 with 20 Axes>"
            ],
            "image/png": "[encoded data removed]"
          },
          "metadata": {}
        }
      ],
      "source": [
        "import seaborn as sns\n",
        "\n",
        "sns.pairplot(X_train[['Displacement','Horsepower','Weight','Acceleration']], diag_kind=\"kde\")"
      ]
    },
    {
      "cell_type": "markdown",
      "metadata": {
        "id": "Y52r-1TVglaW"
      },
      "source": [
        "<b>相関が強い変数が多い</b>ので、学習後の結果の解釈では後々注意する必要がありそうだ。\n",
        "\n",
        "\n",
        "\n",
        "---\n",
        "\n",
        "\n",
        "## 自由研究（宿題として最後に再録）\n",
        "\n",
        "それぞれの属性の相関を計算し、共線性が気になる程度かどうか調べてみよ。場合によっては変数を削除せよ。\n",
        "\n",
        "多重共線性についてはどうか？分散拡大要因VIFについて調べて、評価してみよ。\n",
        "\n",
        "\n",
        "---\n",
        "\n",
        "\n"
      ]
    },
    {
      "cell_type": "markdown",
      "metadata": {
        "id": "CfW3EBF3yJnI"
      },
      "source": [
        "また分布が若干歪んでいるが、長いテールはないのでそのまま使うことにする\n",
        "（一般には<b>ボックス-コックス変換</b>を行う方が良い）。"
      ]
    },
    {
      "cell_type": "markdown",
      "metadata": {
        "id": "aPMPLnK8glaW"
      },
      "source": [
        "次に、各属性と出力変数との間の相関具合も確認しよう。それぞれの変数が、すでにある程度燃費を説明していることが見て取れる：\n"
      ]
    },
    {
      "cell_type": "code",
      "execution_count": null,
      "metadata": {
        "colab": {
          "base_uri": "https://localhost:8080/",
          "height": 214
        },
        "id": "QK5ze2sKglaX",
        "outputId": "9c4b3069-148d-43ff-debb-ce1382d87748"
      },
      "outputs": [
        {
          "data": {
            "text/plain": [
              "<seaborn.axisgrid.PairGrid at 0x7fac8a1c29d0>"
            ]
          },
          "execution_count": 17,
          "metadata": {},
          "output_type": "execute_result"
        },
        {
          "data": {
            "image/png": "[encoded data removed]",
            "text/plain": [
              "<Figure size 900x180 with 5 Axes>"
            ]
          },
          "metadata": {},
          "output_type": "display_data"
        }
      ],
      "source": [
        "sns.pairplot(data=pd.concat([y_train, X_train], axis=1), y_vars=['MPG'], x_vars=['Displacement','Horsepower','Weight','Acceleration','Model Year'])"
      ]
    },
    {
      "cell_type": "markdown",
      "metadata": {
        "id": "h8xghcEjilMY"
      },
      "source": [
        "# 2 線形重回帰モデルによる学習\n"
      ]
    },
    {
      "cell_type": "markdown",
      "metadata": {
        "id": "sigshb8PglaX"
      },
      "source": [
        "## 2.1 sklearnによる学習\n",
        "\n",
        "データのチェックが終わったので、検証データも切り出しておく："
      ]
    },
    {
      "cell_type": "code",
      "execution_count": null,
      "metadata": {
        "collapsed": true,
        "id": "r5ECAfVJglaY"
      },
      "outputs": [],
      "source": [
        "X_train, X_val, y_train, y_val = train_test_split(X_train, y_train, test_size=0.2, random_state=42)"
      ]
    },
    {
      "cell_type": "markdown",
      "metadata": {
        "id": "UHFsb8mXglaZ"
      },
      "source": [
        "あとは単回帰と全く同じ流れで重回帰できる。\n",
        "\n"
      ]
    },
    {
      "cell_type": "markdown",
      "metadata": {
        "id": "5Wd1LEtiWU4w"
      },
      "source": [
        "まずはデータのスケール変換を行う："
      ]
    },
    {
      "cell_type": "code",
      "execution_count": null,
      "metadata": {
        "collapsed": true,
        "id": "l7nZrz_iglaa"
      },
      "outputs": [],
      "source": [
        "from sklearn.preprocessing import MinMaxScaler\n",
        "\n",
        "scaler = MinMaxScaler()\n",
        "scaler.fit(X_train)\n",
        "X_train_scaled = scaler.transform(X_train)"
      ]
    },
    {
      "cell_type": "markdown",
      "metadata": {
        "id": "PXur_a-Kglaa"
      },
      "source": [
        "**単回帰と同じ`SGDRegressor`を使えば、重回帰も実装できる**！これは属性数$P$が幾つであろうと、重回帰のモデルは同じ配列の式でかけるから、$P=1$であろうと$P=9$であろうと、全て同じモデルであるためである。\n",
        "\n",
        "そこで`SGDRegressor`のインスタンスを作り、`fit()`で学習させよう："
      ]
    },
    {
      "cell_type": "code",
      "execution_count": null,
      "metadata": {
        "colab": {
          "base_uri": "https://localhost:8080/"
        },
        "id": "wW6C-lRHglaa",
        "outputId": "add8f16c-fa63-49e9-be9a-371b8033388a"
      },
      "outputs": [
        {
          "output_type": "stream",
          "name": "stdout",
          "text": [
            "train score: 0.8087933802759457\n"
          ]
        }
      ],
      "source": [
        "from sklearn.linear_model import SGDRegressor\n",
        "\n",
        "reg = SGDRegressor(max_iter=5000, eta0=0.1)\n",
        "reg.fit(X_train_scaled, y_train)\n",
        "\n",
        "print('train score:', reg.score(X_train_scaled, y_train))"
      ]
    },
    {
      "cell_type": "markdown",
      "metadata": {
        "id": "eiFK5T1Rglab"
      },
      "source": [
        "各属性の学習された係数は、"
      ]
    },
    {
      "cell_type": "code",
      "execution_count": null,
      "metadata": {
        "colab": {
          "base_uri": "https://localhost:8080/"
        },
        "id": "yppoft8Nglab",
        "outputId": "78c2a157-8268-4a59-e4f5-8a079acb9e70"
      },
      "outputs": [
        {
          "output_type": "stream",
          "name": "stdout",
          "text": [
            "coef of Cylinders : -0.1460\n",
            "coef of Displacement : -1.1726\n",
            "coef of Horsepower : -1.7384\n",
            "coef of Weight : -16.7396\n",
            "coef of Acceleration : 0.7429\n",
            "coef of Model Year : 9.9880\n",
            "coef of Origin2 : 2.4027\n",
            "coef of Origin3 : 2.0002\n"
          ]
        }
      ],
      "source": [
        "attributes = ['Cylinders','Displacement','Horsepower',\n",
        "              'Weight','Acceleration','Model Year',\n",
        "              'Origin2','Origin3']\n",
        "\n",
        "for a,c in zip(attributes, reg.coef_):\n",
        "    # cの小数点以下４桁目までprintする\n",
        "    print('coef of '+a,':', '{:.4f}'.format(c))"
      ]
    },
    {
      "cell_type": "markdown",
      "metadata": {
        "id": "VMaZmziIglab"
      },
      "source": [
        "この学習結果をある程度信じると、\n",
        "\n",
        "- Model Yearの係数は正で大きい → 新しいモデルほど燃費が良い（Model Yearが大きいほど、燃費も大きい）\n",
        "\n",
        "- Weightの係数は負で大きい → 重いほど燃費が悪い\n",
        "\n",
        "など、大雑把には自然な結果が得られている。各属性をスケーリングしていない時は、係数の大きさを比較してあれこれ議論できないことに注意しましょう。\n",
        "\n",
        "\n",
        "\n"
      ]
    },
    {
      "cell_type": "markdown",
      "metadata": {
        "id": "z1mHyV6kp2a_"
      },
      "source": [
        "---\n",
        "\n",
        "## Pythonクイズ\n",
        "\n",
        "上のコードの仕組みを調べて理解しましょう。\n",
        "\n",
        "- `zip`はどんな役割をしているでしょう？\n",
        "\n",
        "- 例えばprint('{:.4f}'.format(1.41421356))はどのような結果を与えるでしょう？\n",
        "\n",
        "\n",
        "---\n"
      ]
    },
    {
      "cell_type": "markdown",
      "metadata": {
        "id": "7T_ggUjlglab"
      },
      "source": [
        "## 2.2 学習率に関してグリッドサーチ\n",
        "\n",
        "学習率`eta0`として、$2^{-20},2^{-19},\\cdots,2^{-2},2^{-1},2^{0},2^{1},2^{2}$の範囲で学習させて調べ、ベストな学習率の選び方を探して見る。選択の基準は<b>検証スコア</b>である\n",
        "\n",
        "まず検証データもスケール変換しておく："
      ]
    },
    {
      "cell_type": "code",
      "execution_count": null,
      "metadata": {
        "collapsed": true,
        "id": "8OAlKMmXglac"
      },
      "outputs": [],
      "source": [
        "X_val_scaled = scaler.transform(X_val)"
      ]
    },
    {
      "cell_type": "code",
      "execution_count": null,
      "metadata": {
        "colab": {
          "base_uri": "https://localhost:8080/"
        },
        "collapsed": true,
        "id": "UcS5a7qTglac",
        "outputId": "bbcf8088-684d-45c6-edd0-d094497d8e06"
      },
      "outputs": [
        {
          "output_type": "stream",
          "name": "stderr",
          "text": [
            "/usr/local/lib/python3.10/dist-packages/sklearn/linear_model/_stochastic_gradient.py:1548: ConvergenceWarning: Maximum number of iteration reached before convergence. Consider increasing max_iter to improve the fit.\n",
            "  warnings.warn(\n",
            "/usr/local/lib/python3.10/dist-packages/sklearn/linear_model/_stochastic_gradient.py:1548: ConvergenceWarning: Maximum number of iteration reached before convergence. Consider increasing max_iter to improve the fit.\n",
            "  warnings.warn(\n",
            "/usr/local/lib/python3.10/dist-packages/sklearn/linear_model/_stochastic_gradient.py:1548: ConvergenceWarning: Maximum number of iteration reached before convergence. Consider increasing max_iter to improve the fit.\n",
            "  warnings.warn(\n",
            "/usr/local/lib/python3.10/dist-packages/sklearn/linear_model/_stochastic_gradient.py:1548: ConvergenceWarning: Maximum number of iteration reached before convergence. Consider increasing max_iter to improve the fit.\n",
            "  warnings.warn(\n",
            "/usr/local/lib/python3.10/dist-packages/sklearn/linear_model/_stochastic_gradient.py:1548: ConvergenceWarning: Maximum number of iteration reached before convergence. Consider increasing max_iter to improve the fit.\n",
            "  warnings.warn(\n",
            "/usr/local/lib/python3.10/dist-packages/sklearn/linear_model/_stochastic_gradient.py:1548: ConvergenceWarning: Maximum number of iteration reached before convergence. Consider increasing max_iter to improve the fit.\n",
            "  warnings.warn(\n"
          ]
        }
      ],
      "source": [
        "eta0s = [2**i for i in range(-20,3)] # 学習率のリスト。リスト内包表記を使用。\n",
        "best_score = -np.inf # ベストなスコア。初期値はマイナス無限大にしておく\n",
        "\n",
        "score_val_list = list() # 検証スコアを貯めるリスト\n",
        "best_eta0 = None # ベストな学習率\n",
        "\n",
        "for eta0 in eta0s:\n",
        "    # 毎回モデルを作り直し学習\n",
        "    reg = SGDRegressor(max_iter=10000, eta0=eta0)\n",
        "    reg.fit(X_train_scaled, y_train)\n",
        "    # 検証スコア\n",
        "    score_val = reg.score(X_val_scaled, y_val)\n",
        "    score_val_list.append(score_val)\n",
        "    # ベストを更新するかチェック\n",
        "    if best_score<score_val:\n",
        "        # ベストの記録を更新\n",
        "        best_score = score_val\n",
        "        best_eta0 = eta0"
      ]
    },
    {
      "cell_type": "markdown",
      "metadata": {
        "id": "F7GHd5ynl7YO"
      },
      "source": [
        "\n",
        "\n",
        "---\n",
        "## Pythonクイズ\n",
        "\n",
        "- リスト内包表記とは何か？（Pyhonicなコードを書くには必須）\n",
        "\n",
        "- 上のコードで`best_score`の初期値を$-\\infty$としている理由は？\n",
        "\n",
        "---\n",
        "\n",
        "\n"
      ]
    },
    {
      "cell_type": "markdown",
      "metadata": {
        "id": "-o7FV2_noHKX"
      },
      "source": [
        "学習率があまりに小さいと収束せず、検証性能も低い。ある程度大きな学習率ではそれほど性能は変わらない："
      ]
    },
    {
      "cell_type": "code",
      "execution_count": null,
      "metadata": {
        "colab": {
          "base_uri": "https://localhost:8080/",
          "height": 487
        },
        "id": "mVBifVyXglac",
        "outputId": "c23f551f-8433-4a86-d2b1-8a32b4098e85"
      },
      "outputs": [
        {
          "output_type": "execute_result",
          "data": {
            "text/plain": [
              "Text(0, 0.5, 'val score')"
            ]
          },
          "metadata": {},
          "execution_count": 24
        },
        {
          "output_type": "display_data",
          "data": {
            "text/plain": [
              "<Figure size 640x480 with 1 Axes>"
            ],
            "image/png": "[encoded data removed]"
          },
          "metadata": {}
        }
      ],
      "source": [
        "plt.plot(np.log2(eta0s), score_val_list)\n",
        "plt.xlabel('log2 of eta0')\n",
        "plt.ylabel('val score')"
      ]
    },
    {
      "cell_type": "code",
      "execution_count": null,
      "metadata": {
        "colab": {
          "base_uri": "https://localhost:8080/"
        },
        "id": "uRjsSIMfglad",
        "outputId": "033fd969-9b8a-48df-ea68-cc804974dd35"
      },
      "outputs": [
        {
          "output_type": "stream",
          "name": "stdout",
          "text": [
            "best val score: 0.8143784357831068\n",
            "best eta: 0.25\n"
          ]
        }
      ],
      "source": [
        "print('best val score:', best_score)\n",
        "print('best eta:', best_eta0)"
      ]
    },
    {
      "cell_type": "markdown",
      "metadata": {
        "id": "mbxsoE86glad"
      },
      "source": [
        "- グリッドサーチをよりよく行うための`sklearn.model_selection.GridSearchCV`の使い方も後に学ぶ\n",
        "\n",
        "- 早期終了による正則化を使うことも考えるといい"
      ]
    },
    {
      "cell_type": "markdown",
      "metadata": {
        "id": "Ay9vxSL1glad"
      },
      "source": [
        "## 2.3 残差プロット\n",
        "\n",
        "とりあえず学習率0.5のモデルを考えよう："
      ]
    },
    {
      "cell_type": "code",
      "execution_count": null,
      "metadata": {
        "colab": {
          "base_uri": "https://localhost:8080/",
          "height": 94
        },
        "id": "dsxqD0Saglad",
        "outputId": "1dd63aac-d301-4128-bfc8-23ce84172e05"
      },
      "outputs": [
        {
          "output_type": "execute_result",
          "data": {
            "text/plain": [
              "SGDRegressor(eta0=0.5, max_iter=5000)"
            ],
            "text/html": [
              "<style>#sk-container-id-1 {color: black;background-color: white;}#sk-container-id-1 pre{padding: 0;}#sk-container-id-1 div.sk-toggleable {background-color: white;}#sk-container-id-1 label.sk-toggleable__label {cursor: pointer;display: block;width: 100%;margin-bottom: 0;padding: 0.3em;box-sizing: border-box;text-align: center;}#sk-container-id-1 label.sk-toggleable__label-arrow:before {content: \"▸\";float: left;margin-right: 0.25em;color: #696969;}#sk-container-id-1 label.sk-toggleable__label-arrow:hover:before {color: black;}#sk-container-id-1 div.sk-estimator:hover label.sk-toggleable__label-arrow:before {color: black;}#sk-container-id-1 div.sk-toggleable__content {max-height: 0;max-width: 0;overflow: hidden;text-align: left;background-color: #f0f8ff;}#sk-container-id-1 div.sk-toggleable__content pre {margin: 0.2em;color: black;border-radius: 0.25em;background-color: #f0f8ff;}#sk-container-id-1 input.sk-toggleable__control:checked~div.sk-toggleable__content {max-height: 200px;max-width: 100%;overflow: auto;}#sk-container-id-1 input.sk-toggleable__control:checked~label.sk-toggleable__label-arrow:before {content: \"▾\";}#sk-container-id-1 div.sk-estimator input.sk-toggleable__control:checked~label.sk-toggleable__label {background-color: #d4ebff;}#sk-container-id-1 div.sk-label input.sk-toggleable__control:checked~label.sk-toggleable__label {background-color: #d4ebff;}#sk-container-id-1 input.sk-hidden--visually {border: 0;clip: rect(1px 1px 1px 1px);clip: rect(1px, 1px, 1px, 1px);height: 1px;margin: -1px;overflow: hidden;padding: 0;position: absolute;width: 1px;}#sk-container-id-1 div.sk-estimator {font-family: monospace;background-color: #f0f8ff;border: 1px dotted black;border-radius: 0.25em;box-sizing: border-box;margin-bottom: 0.5em;}#sk-container-id-1 div.sk-estimator:hover {background-color: #d4ebff;}#sk-container-id-1 div.sk-parallel-item::after {content: \"\";width: 100%;border-bottom: 1px solid gray;flex-grow: 1;}#sk-container-id-1 div.sk-label:hover label.sk-toggleable__label {background-color: #d4ebff;}#sk-container-id-1 div.sk-serial::before {content: \"\";position: absolute;border-left: 1px solid gray;box-sizing: border-box;top: 0;bottom: 0;left: 50%;z-index: 0;}#sk-container-id-1 div.sk-serial {display: flex;flex-direction: column;align-items: center;background-color: white;padding-right: 0.2em;padding-left: 0.2em;position: relative;}#sk-container-id-1 div.sk-item {position: relative;z-index: 1;}#sk-container-id-1 div.sk-parallel {display: flex;align-items: stretch;justify-content: center;background-color: white;position: relative;}#sk-container-id-1 div.sk-item::before, #sk-container-id-1 div.sk-parallel-item::before {content: \"\";position: absolute;border-left: 1px solid gray;box-sizing: border-box;top: 0;bottom: 0;left: 50%;z-index: -1;}#sk-container-id-1 div.sk-parallel-item {display: flex;flex-direction: column;z-index: 1;position: relative;background-color: white;}#sk-container-id-1 div.sk-parallel-item:first-child::after {align-self: flex-end;width: 50%;}#sk-container-id-1 div.sk-parallel-item:last-child::after {align-self: flex-start;width: 50%;}#sk-container-id-1 div.sk-parallel-item:only-child::after {width: 0;}#sk-container-id-1 div.sk-dashed-wrapped {border: 1px dashed gray;margin: 0 0.4em 0.5em 0.4em;box-sizing: border-box;padding-bottom: 0.4em;background-color: white;}#sk-container-id-1 div.sk-label label {font-family: monospace;font-weight: bold;display: inline-block;line-height: 1.2em;}#sk-container-id-1 div.sk-label-container {text-align: center;}#sk-container-id-1 div.sk-container {/* jupyter's `normalize.less` sets `[hidden] { display: none; }` but bootstrap.min.css set `[hidden] { display: none !important; }` so we also need the `!important` here to be able to override the default hidden behavior on the sphinx rendered scikit-learn.org. See: https://github.com/scikit-learn/scikit-learn/issues/21755 */display: inline-block !important;position: relative;}#sk-container-id-1 div.sk-text-repr-fallback {display: none;}</style><div id=\"sk-container-id-1\" class=\"sk-top-container\"><div class=\"sk-text-repr-fallback\"><pre>SGDRegressor(eta0=0.5, max_iter=5000)</pre><b>In a Jupyter environment, please rerun this cell to show the HTML representation or trust the notebook. <br />On GitHub, the HTML representation is unable to render, please try loading this page with nbviewer.org.</b></div><div class=\"sk-container\" hidden><div class=\"sk-item\"><div class=\"sk-estimator sk-toggleable\"><input class=\"sk-toggleable__control sk-hidden--visually\" id=\"sk-estimator-id-1\" type=\"checkbox\" checked><label for=\"sk-estimator-id-1\" class=\"sk-toggleable__label sk-toggleable__label-arrow\">SGDRegressor</label><div class=\"sk-toggleable__content\"><pre>SGDRegressor(eta0=0.5, max_iter=5000)</pre></div></div></div></div></div>"
            ]
          },
          "metadata": {},
          "execution_count": 26
        }
      ],
      "source": [
        "reg = SGDRegressor(max_iter=5000, eta0=0.5)\n",
        "reg.fit(X_train_scaled, y_train)"
      ]
    },
    {
      "cell_type": "markdown",
      "metadata": {
        "id": "uaiTdH0pglad"
      },
      "source": [
        "デフォルトで、すでに$L_2$正則化が入っている（`penalty='l2'`）ことに注意しましょう。"
      ]
    },
    {
      "cell_type": "markdown",
      "metadata": {
        "id": "hsJ2Z-K8glad"
      },
      "source": [
        "実際の出力と予測の差を**残差**といいます（インスタンスごとの誤差）\n",
        "\n",
        "$$\n",
        "e_n=y_n-{\\hat{y}}(x_n)\n",
        "$$\n",
        "\n",
        "これをプロットすることで、どれほどモデルが当てはまっていないかがわかる。"
      ]
    },
    {
      "cell_type": "markdown",
      "metadata": {
        "id": "YTQ4yusjglae"
      },
      "source": [
        "横軸に予測値、縦軸に残差をとって実際にプロットして見る"
      ]
    },
    {
      "cell_type": "code",
      "execution_count": null,
      "metadata": {
        "colab": {
          "base_uri": "https://localhost:8080/",
          "height": 470
        },
        "id": "F-1KFETeglae",
        "outputId": "4d6db334-5acc-4b16-ff05-753ff4dbfdc1"
      },
      "outputs": [
        {
          "output_type": "display_data",
          "data": {
            "text/plain": [
              "<Figure size 640x480 with 1 Axes>"
            ],
            "image/png": "[encoded data removed]"
          },
          "metadata": {}
        }
      ],
      "source": [
        "y_hat = reg.predict(X_train_scaled)\n",
        "residual = y_train - y_hat\n",
        "\n",
        "plt.scatter(y_hat, residual, c='dimgray', s=10)\n",
        "plt.hlines([0], np.min(y_hat)-5, np.max(y_hat)+5, 'darkslateblue', linewidths=3, linestyles='dashed')\n",
        "plt.xlabel('y hat')\n",
        "plt.ylabel('residual')\n",
        "plt.show()"
      ]
    },
    {
      "cell_type": "markdown",
      "metadata": {
        "id": "5iAqOtJFglae"
      },
      "source": [
        "残差は0を中心に自然に分布しているわけではなく、属性の値により分布の様子が大きく変わってしまう（平均も分散も）。これはモデルの当てはまりの良さ・悪さが属性軸に対して均一なわけではなく、属性の数値スケールによって当てはまり具合が変化してしまっていることを意味する。\n"
      ]
    },
    {
      "cell_type": "markdown",
      "metadata": {
        "id": "NVMvKd5PwumK"
      },
      "source": [
        "![スクリーンショット 2021-05-30 23.51.45.png](data:image/png;base64,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)"
      ]
    },
    {
      "cell_type": "markdown",
      "metadata": {
        "id": "pOKO_XE1wqiO"
      },
      "source": [
        "つまり、残差に強い非線型性がある。言い換えると線形回帰では捉えきれない非直線的な構造があり、**多項式回帰を使った方が良いであろう**と考えられる。\n",
        "\n",
        "以下で属性ごとの残差プロットも見ておく。\n",
        "\n",
        "\n",
        "残差プロットにおいては横軸は属性$x_{ni}$に選ぶが、縦軸には残差ではなく\n",
        "$e_n+{\\hat{a}}{}_ix_{ni}$の値をとった<b>偏残差プロット</b>を使う場合もある。"
      ]
    },
    {
      "cell_type": "markdown",
      "metadata": {
        "id": "p0QanYc_glae"
      },
      "source": [
        "### Displacement属性の残差プロット"
      ]
    },
    {
      "cell_type": "code",
      "execution_count": null,
      "metadata": {
        "colab": {
          "base_uri": "https://localhost:8080/",
          "height": 296
        },
        "id": "VIKhQxOIglae",
        "outputId": "19069a36-4522-4fda-e558-ab2853d26685"
      },
      "outputs": [
        {
          "data": {
            "text/plain": [
              "Text(0, 0.5, 'residual')"
            ]
          },
          "execution_count": 28,
          "metadata": {},
          "output_type": "execute_result"
        },
        {
          "data": {
            "image/png": "[encoded data removed]",
            "text/plain": [
              "<Figure size 432x288 with 1 Axes>"
            ]
          },
          "metadata": {},
          "output_type": "display_data"
        }
      ],
      "source": [
        "idx = 1\n",
        "plt.scatter(X_train_scaled[:,idx],residual, c='dimgray', s=10)\n",
        "plt.hlines([0], np.min(X_train_scaled[:,idx]), np.max(X_train_scaled[:,idx]), 'darkslateblue', linewidths=3, linestyles='dashed')\n",
        "plt.xlabel(attributes[idx])\n",
        "plt.ylabel('residual')"
      ]
    },
    {
      "cell_type": "markdown",
      "metadata": {
        "id": "RD-LNKS_glae"
      },
      "source": [
        "### Horsepower属性の残差プロット"
      ]
    },
    {
      "cell_type": "code",
      "execution_count": null,
      "metadata": {
        "colab": {
          "base_uri": "https://localhost:8080/",
          "height": 296
        },
        "id": "QuZIKaviglae",
        "outputId": "59053d61-fa83-49e6-a526-534d9160ea9c"
      },
      "outputs": [
        {
          "data": {
            "text/plain": [
              "Text(0, 0.5, 'residual')"
            ]
          },
          "execution_count": 29,
          "metadata": {},
          "output_type": "execute_result"
        },
        {
          "data": {
            "image/png": "[encoded data removed]",
            "text/plain": [
              "<Figure size 432x288 with 1 Axes>"
            ]
          },
          "metadata": {},
          "output_type": "display_data"
        }
      ],
      "source": [
        "idx = 2\n",
        "plt.scatter(X_train_scaled[:,idx],residual, c='dimgray', s=10)\n",
        "plt.hlines([0], np.min(X_train_scaled[:,idx]), np.max(X_train_scaled[:,idx]), 'darkslateblue', linewidths=3, linestyles='dashed')\n",
        "plt.xlabel(attributes[idx])\n",
        "plt.ylabel('residual')"
      ]
    },
    {
      "cell_type": "markdown",
      "metadata": {
        "id": "OKXwAdRtglae"
      },
      "source": [
        "### Weight属性の残差プロット"
      ]
    },
    {
      "cell_type": "code",
      "execution_count": null,
      "metadata": {
        "colab": {
          "base_uri": "https://localhost:8080/",
          "height": 296
        },
        "id": "SoUfnkjFglae",
        "outputId": "70c81418-1d53-489c-87c7-943aecf3c512"
      },
      "outputs": [
        {
          "data": {
            "text/plain": [
              "Text(0, 0.5, 'residual')"
            ]
          },
          "execution_count": 30,
          "metadata": {},
          "output_type": "execute_result"
        },
        {
          "data": {
            "image/png": "[encoded data removed]",
            "text/plain": [
              "<Figure size 432x288 with 1 Axes>"
            ]
          },
          "metadata": {},
          "output_type": "display_data"
        }
      ],
      "source": [
        "idx = 3\n",
        "plt.scatter(X_train_scaled[:,idx],residual, c='dimgray', s=10)\n",
        "plt.hlines([0], np.min(X_train_scaled[:,idx]), np.max(X_train_scaled[:,idx]), 'darkslateblue', linewidths=3, linestyles='dashed')\n",
        "plt.xlabel(attributes[idx])\n",
        "plt.ylabel('residual')"
      ]
    },
    {
      "cell_type": "markdown",
      "metadata": {
        "id": "gT8yVXfBglaf"
      },
      "source": [
        "### Acceleration属性の残差プロット"
      ]
    },
    {
      "cell_type": "code",
      "execution_count": null,
      "metadata": {
        "colab": {
          "base_uri": "https://localhost:8080/",
          "height": 296
        },
        "id": "S91t_xIIglaf",
        "outputId": "66da9edc-19ea-4bcd-ccf0-b955da1d4434"
      },
      "outputs": [
        {
          "data": {
            "text/plain": [
              "Text(0, 0.5, 'residual')"
            ]
          },
          "execution_count": 31,
          "metadata": {},
          "output_type": "execute_result"
        },
        {
          "data": {
            "image/png": "[encoded data removed]",
            "text/plain": [
              "<Figure size 432x288 with 1 Axes>"
            ]
          },
          "metadata": {},
          "output_type": "display_data"
        }
      ],
      "source": [
        "idx = 4\n",
        "plt.scatter(X_train_scaled[:,idx],residual, c='dimgray', s=10)\n",
        "plt.hlines([0], np.min(X_train_scaled[:,idx]), np.max(X_train_scaled[:,idx]), 'darkslateblue', linewidths=3, linestyles='dashed')\n",
        "plt.xlabel(attributes[idx])\n",
        "plt.ylabel('residual')"
      ]
    },
    {
      "cell_type": "markdown",
      "metadata": {
        "id": "8Wr5dDw8glaf"
      },
      "source": [
        "## 2.4 Q-Qプロット＊\n",
        "\n",
        "残差が正規分布している、という**回帰分析・検定に関する仮定**を確認しよう（通常はデータサイエンスの分析項目はこの仮定に依拠したものを使うことは少ない、と言われるが。しかし普通の統計分析も行う場合は注意）。この辺りの正規性に関しては、回帰分析ユーザーでも理解していない・勘違いしている人が多いので、関心のある人は自分できちんと勉強してみよう（統計学）。\n",
        "\n",
        "Q-Qプロットというグラフは、残差の分布が正規分布に近いほど点が直線上に乗るようなプロットである。実際に今回の結果のQ-Qプロットを見てみよう："
      ]
    },
    {
      "cell_type": "code",
      "execution_count": null,
      "metadata": {
        "id": "ZHlqTFnwglaf"
      },
      "outputs": [],
      "source": [
        "import scipy.stats as stats\n",
        "\n",
        "stats.probplot(residual, dist=\"norm\", plot=plt)\n",
        "plt.show()"
      ]
    },
    {
      "cell_type": "markdown",
      "metadata": {
        "id": "8I9p7uXIglaf"
      },
      "source": [
        "## たまにある間違った理解＊\n",
        "\n",
        "以上は残差の話である。しばしば誤って解説されているが、**属性自体は正規分布している必要はない**！\n",
        "\n",
        "属性を**Box-Cox変換**等で綺麗な分布に近づけるのは、\n",
        "残差を分散均一性に近づけるためである。\n",
        "また学習においてロングテールは悪さをするため、分布のテールを縮小する役割もある。\n",
        "\n",
        "しつこいが、これらは属性自体の正規性とは別の話である。"
      ]
    },
    {
      "cell_type": "markdown",
      "metadata": {
        "id": "AdjpygvRqtIu"
      },
      "source": [
        "# 3 多項式回帰"
      ]
    },
    {
      "cell_type": "markdown",
      "metadata": {
        "id": "h61F57wFglaf"
      },
      "source": [
        "## 3.1 ２次多項式特徴量の作成\n",
        "\n",
        "`PolynomialFeatures`を使って、多項式特徴量の計画行列`X_train_poly`へまずは変換："
      ]
    },
    {
      "cell_type": "code",
      "execution_count": null,
      "metadata": {
        "collapsed": true,
        "id": "gJB1cXYvglaf"
      },
      "outputs": [],
      "source": [
        "from sklearn.preprocessing import PolynomialFeatures\n",
        "\n",
        "poly = PolynomialFeatures(degree=2, include_bias=False).fit(X_train_scaled)\n",
        "X_train_poly = poly.transform(X_train_scaled)"
      ]
    },
    {
      "cell_type": "markdown",
      "metadata": {
        "id": "RzW171Jqglaf"
      },
      "source": [
        "$x_1,x_2,\\cdots,x_8$の８属性からなる計画行列から、$x_1,(x_1)^2,x_1x_2,x_2,\\cdots,(x_8)^2$とたくさんの属性を持つ計画行列が得られた:\n",
        "\n",
        "\n",
        "$$\n",
        "X=\n",
        "\\begin{pmatrix}\n",
        "x_1&x_2&\\cdots&x_8\\\\\n",
        "\\vdots&\\vdots&&\\vdots\n",
        "\\end{pmatrix}\n",
        "\\longrightarrow\n",
        "\\begin{pmatrix}\n",
        "x_1&x_2&\\cdots&x_8\n",
        "&(x_1)^2&x_1x_2&\\cdots&(x_8)^2\n",
        "\\\\\n",
        "\\vdots&\\vdots&&&&&&\\vdots\n",
        "\\end{pmatrix}\n",
        "$$\n",
        "\n"
      ]
    },
    {
      "cell_type": "markdown",
      "metadata": {
        "id": "UesjByO-1ejN"
      },
      "source": [
        "この多項式属性を含んだ新しい計画行列を重回帰することで、多項式回帰を実装しよう："
      ]
    },
    {
      "cell_type": "code",
      "execution_count": null,
      "metadata": {
        "colab": {
          "base_uri": "https://localhost:8080/"
        },
        "id": "s4l3ykySglaf",
        "outputId": "ca3a586c-9c10-4ab4-e56b-c474db73dbcc"
      },
      "outputs": [
        {
          "output_type": "stream",
          "name": "stdout",
          "text": [
            "train score: 0.8647153410504982\n"
          ]
        }
      ],
      "source": [
        "reg = SGDRegressor(max_iter=5000, eta0=0.1)\n",
        "reg.fit(X_train_poly, y_train)\n",
        "\n",
        "print('train score:', reg.score(X_train_poly, y_train))"
      ]
    },
    {
      "cell_type": "markdown",
      "metadata": {
        "id": "wSSrfiZdglag"
      },
      "source": [
        "検証スコアは"
      ]
    },
    {
      "cell_type": "code",
      "execution_count": null,
      "metadata": {
        "colab": {
          "base_uri": "https://localhost:8080/"
        },
        "id": "fdFnzf8mglag",
        "outputId": "4a6a83a7-fb4a-4ba6-80c6-c585d07c1267"
      },
      "outputs": [
        {
          "output_type": "stream",
          "name": "stdout",
          "text": [
            "val score: 0.8446635482575535\n"
          ]
        }
      ],
      "source": [
        "X_val_poly = poly.transform(X_val_scaled)\n",
        "print('val score:', reg.score(X_val_poly, y_val))"
      ]
    },
    {
      "cell_type": "markdown",
      "metadata": {
        "id": "Uw2LTC72glag"
      },
      "source": [
        "先ほどよりもスコアが向上。"
      ]
    },
    {
      "cell_type": "markdown",
      "metadata": {
        "id": "IleQ_0_b8mC3"
      },
      "source": [
        "次の関数を使って、**寄与の大きいtop10の属性とその係数を表示**して見る："
      ]
    },
    {
      "cell_type": "code",
      "execution_count": null,
      "metadata": {
        "collapsed": true,
        "id": "Iws-ezw4glah"
      },
      "outputs": [],
      "source": [
        "def power2attribute(pows, attribs):\n",
        "    str_list = []\n",
        "    for i, p in enumerate(pows):\n",
        "        if p!=0:\n",
        "            str_list.append('('+attribs[i]+')**'+str(p))\n",
        "    return ' * '.join(str_list)\n",
        "\n",
        "def get_top10_feature_names(pows, attribs, model):\n",
        "    print('feature name',':','coefficient')\n",
        "    print('-'*50)\n",
        "    idxs = np.argsort(np.abs(model.coef_))[-10:][::-1]\n",
        "    for idx in idxs:\n",
        "        name = power2attribute(pows[idx], attribs)\n",
        "        print(name,':','{:.4f}'.format(model.coef_[idx]))"
      ]
    },
    {
      "cell_type": "code",
      "execution_count": null,
      "metadata": {
        "colab": {
          "base_uri": "https://localhost:8080/"
        },
        "id": "OM9VLHoR8S7x",
        "outputId": "445c77ce-ace4-4c73-c03a-d4a3a13e1faa"
      },
      "outputs": [
        {
          "output_type": "stream",
          "name": "stdout",
          "text": [
            "feature name : coefficient\n",
            "--------------------------------------------------\n",
            "(Model Year)**1 : 7.3267\n",
            "(Model Year)**2 : 6.9045\n",
            "(Weight)**1 * (Acceleration)**1 : -6.8764\n",
            "(Weight)**1 : -6.6028\n",
            "(Weight)**1 * (Model Year)**1 : -6.5343\n",
            "(Acceleration)**1 : 5.2167\n",
            "(Weight)**1 * (Origin2)**1 : -4.7206\n",
            "(Horsepower)**1 * (Model Year)**1 : -3.7736\n",
            "(Displacement)**1 * (Acceleration)**1 : -3.4698\n",
            "(Acceleration)**1 * (Origin3)**1 : 3.0970\n"
          ]
        }
      ],
      "source": [
        "get_top10_feature_names(poly.powers_, attributes, reg)"
      ]
    },
    {
      "cell_type": "markdown",
      "metadata": {
        "id": "T8yXYOXZ80P5"
      },
      "source": [
        "Model YearやModel Year${}^2$は燃費に\n",
        "大きな正の寄与、\n",
        "Weight \\* AccelerationやWeight \\* Model Yearという交互作用、Weight自体などは大きな負の寄与をしている。自然な結果だと思われる。\n",
        "\n",
        "一方で興味深い項もある。Weight \\* Origin2は負の寄与をしているが、このOrigin2はヨーロッパ車の場合のみ1になるバイナリ変数であった。したがってヨーロッパ車に関しては、車重Weightの負の寄与にさらに積み上げされる寄与がある、ということである。\n",
        "\n",
        "ただし多量の変数を使って得た結果にどれほど解釈性があるのかは定かでは無い。"
      ]
    },
    {
      "cell_type": "markdown",
      "metadata": {
        "id": "-Mr5FAiZyy67"
      },
      "source": [
        "# 4 正則化とLASSO回帰"
      ]
    },
    {
      "cell_type": "markdown",
      "metadata": {
        "id": "NekbkUmzglag"
      },
      "source": [
        "## 4.1 LASSO回帰での特徴量選択\n",
        "\n",
        "全ての特徴量に関して2次多項式へ拡張したことで、特徴量が8個から$8+8+8\\times7/2=44$個へ増えた。これでは多すぎる。\n",
        "\n",
        "そこで$L_1$正則化（LASSO回帰）を利用して、不要な特徴量（パラメータ）を削除する。"
      ]
    },
    {
      "cell_type": "code",
      "execution_count": null,
      "metadata": {
        "colab": {
          "base_uri": "https://localhost:8080/"
        },
        "id": "m02XexDSglag",
        "outputId": "ef0aeb7d-ce21-43e1-97b2-70670a0c188d"
      },
      "outputs": [
        {
          "output_type": "stream",
          "name": "stdout",
          "text": [
            "val score: 0.844967898056726\n"
          ]
        }
      ],
      "source": [
        "from sklearn.linear_model import Lasso\n",
        "\n",
        "lasso = Lasso(max_iter=50000, alpha=0.001)\n",
        "lasso.fit(X_train_poly, y_train)\n",
        "\n",
        "print('val score:', lasso.score(X_val_poly, y_val))"
      ]
    },
    {
      "cell_type": "markdown",
      "metadata": {
        "id": "bS4QBCiJglag"
      },
      "source": [
        "ゼロになった係数の個数は"
      ]
    },
    {
      "cell_type": "code",
      "execution_count": null,
      "metadata": {
        "colab": {
          "base_uri": "https://localhost:8080/"
        },
        "id": "lL_IWkaJglag",
        "outputId": "9678ba0d-1750-4912-dac1-7b61723e93c3"
      },
      "outputs": [
        {
          "output_type": "execute_result",
          "data": {
            "text/plain": [
              "13"
            ]
          },
          "metadata": {},
          "execution_count": 34
        }
      ],
      "source": [
        "np.sum(lasso.coef_==0)"
      ]
    },
    {
      "cell_type": "markdown",
      "metadata": {
        "id": "-ZpF_ggQglag"
      },
      "source": [
        "いくつもの係数がゼロになっているのは、L1正則化の効果である。"
      ]
    },
    {
      "cell_type": "markdown",
      "metadata": {
        "id": "8hJyZ69jglah"
      },
      "source": [
        "係数の大きさに関する棒グラフ"
      ]
    },
    {
      "cell_type": "code",
      "execution_count": null,
      "metadata": {
        "colab": {
          "base_uri": "https://localhost:8080/",
          "height": 487
        },
        "id": "8mCuF9p4glah",
        "outputId": "e47f6937-f2ae-49b3-ec32-3c2d12d7428d"
      },
      "outputs": [
        {
          "output_type": "execute_result",
          "data": {
            "text/plain": [
              "Text(0, 0.5, 'sorted order')"
            ]
          },
          "metadata": {},
          "execution_count": 35
        },
        {
          "output_type": "display_data",
          "data": {
            "text/plain": [
              "<Figure size 640x480 with 1 Axes>"
            ],
            "image/png": "[encoded data removed]"
          },
          "metadata": {}
        }
      ],
      "source": [
        "plt.barh(range(len(lasso.coef_)), np.sort(lasso.coef_))\n",
        "plt.xlabel('coefficient')\n",
        "plt.ylabel('sorted order')"
      ]
    },
    {
      "cell_type": "markdown",
      "metadata": {
        "id": "HiWiUrLGglah"
      },
      "source": [
        "一部が大きい値になっている。"
      ]
    },
    {
      "cell_type": "markdown",
      "metadata": {
        "id": "IhBwAAvYglah"
      },
      "source": [
        "寄与の大きいtop10の特徴量とその係数を表示して見る。"
      ]
    },
    {
      "cell_type": "code",
      "execution_count": null,
      "metadata": {
        "colab": {
          "base_uri": "https://localhost:8080/"
        },
        "id": "BcG6NQCFglah",
        "outputId": "b933e549-1079-47e6-a533-8e88227e151a"
      },
      "outputs": [
        {
          "output_type": "stream",
          "name": "stdout",
          "text": [
            "feature name : coefficient\n",
            "--------------------------------------------------\n",
            "(Displacement)**1 : -23.2824\n",
            "(Displacement)**1 * (Model Year)**1 : 19.4147\n",
            "(Weight)**1 * (Model Year)**1 : -18.5102\n",
            "(Cylinders)**1 * (Weight)**1 : 18.2060\n",
            "(Acceleration)**1 : -15.0481\n",
            "(Weight)**1 : -14.4693\n",
            "(Acceleration)**1 * (Model Year)**1 : 13.7492\n",
            "(Cylinders)**1 * (Acceleration)**1 : 13.0941\n",
            "(Acceleration)**1 * (Origin2)**1 : 13.0751\n",
            "(Horsepower)**1 * (Origin3)**1 : -12.4082\n"
          ]
        }
      ],
      "source": [
        "get_top10_feature_names(poly.powers_, attributes, lasso)"
      ]
    },
    {
      "cell_type": "markdown",
      "metadata": {
        "id": "_gF0MWk_glah"
      },
      "source": [
        "Displacementが最も大きな寄与になるなど、様子が変わった。"
      ]
    },
    {
      "cell_type": "markdown",
      "metadata": {
        "id": "vbIEDm7iglah"
      },
      "source": [
        "## 4.2 LASSOモデルの選択\n",
        "\n",
        "LASSOの正則化パラメータ$\\alpha$に関してモデルを選択する。これはつまり、44個の多項式特徴量のうち**何個の特徴量を選択するのが一番良いか**、という特徴量選択を行うことに他ならない。なぜならばL1正則化の強さにより、残る特徴量の数は変わるからである。"
      ]
    },
    {
      "cell_type": "code",
      "execution_count": null,
      "metadata": {
        "colab": {
          "base_uri": "https://localhost:8080/"
        },
        "id": "7V9KQUSKglah",
        "outputId": "423a1cd2-81c8-452a-e1ad-d557f24bd663"
      },
      "outputs": [
        {
          "output_type": "stream",
          "name": "stdout",
          "text": [
            "best alpha: 0.015625\n"
          ]
        }
      ],
      "source": [
        "alphas = [2**i for i in range(-14,1)]\n",
        "\n",
        "best_score = -np.inf # ベストなスコア。初期値はマイナス無限大にしておく\n",
        "score_val_list = list()\n",
        "best_model = None\n",
        "\n",
        "for alpha in alphas:\n",
        "    lasso = Lasso(max_iter=100000, alpha=alpha)\n",
        "    lasso.fit(X_train_poly, y_train)\n",
        "    score_val = lasso.score(X_val_poly, y_val)\n",
        "    score_val_list.append(score_val)\n",
        "    if best_score<score_val:\n",
        "        best_score = score_val\n",
        "        best_alpha = alpha\n",
        "        best_model = lasso\n",
        "\n",
        "print('best alpha:', best_alpha)"
      ]
    },
    {
      "cell_type": "markdown",
      "metadata": {
        "id": "Je66djd9glah"
      },
      "source": [
        "$log_{2}\\alpha$ごとの検証スコア"
      ]
    },
    {
      "cell_type": "code",
      "execution_count": null,
      "metadata": {
        "colab": {
          "base_uri": "https://localhost:8080/",
          "height": 487
        },
        "id": "ZQCD6TA6glai",
        "outputId": "84e32807-dee9-487f-bd5c-e84c00acce72"
      },
      "outputs": [
        {
          "output_type": "execute_result",
          "data": {
            "text/plain": [
              "Text(0, 0.5, 'val score')"
            ]
          },
          "metadata": {},
          "execution_count": 38
        },
        {
          "output_type": "display_data",
          "data": {
            "text/plain": [
              "<Figure size 640x480 with 1 Axes>"
            ],
            "image/png": "[encoded data removed]"
          },
          "metadata": {}
        }
      ],
      "source": [
        "plt.plot(np.log2(alphas), score_val_list)\n",
        "plt.xlabel('log2 of alpha')\n",
        "plt.ylabel('val score')"
      ]
    },
    {
      "cell_type": "markdown",
      "metadata": {
        "id": "MIewSCfyglai"
      },
      "source": [
        "ベストモデルにおいてゼロになった係数の個数は、先ほどより増えれて"
      ]
    },
    {
      "cell_type": "code",
      "execution_count": null,
      "metadata": {
        "colab": {
          "base_uri": "https://localhost:8080/"
        },
        "id": "OTXYU5zAglai",
        "outputId": "30d435f1-4e0b-41e6-c656-6bd288d937f2"
      },
      "outputs": [
        {
          "output_type": "execute_result",
          "data": {
            "text/plain": [
              "29"
            ]
          },
          "metadata": {},
          "execution_count": 39
        }
      ],
      "source": [
        "np.sum(best_model.coef_==0)"
      ]
    },
    {
      "cell_type": "markdown",
      "metadata": {
        "id": "QyHBTqAaglai"
      },
      "source": [
        "ベスト検証スコアは"
      ]
    },
    {
      "cell_type": "code",
      "execution_count": null,
      "metadata": {
        "colab": {
          "base_uri": "https://localhost:8080/"
        },
        "id": "WYyzItJ7glai",
        "outputId": "fd90a04d-8fd7-4b0d-de51-32ce590221a5"
      },
      "outputs": [
        {
          "output_type": "execute_result",
          "data": {
            "text/plain": [
              "0.8584967420813752"
            ]
          },
          "metadata": {},
          "execution_count": 40
        }
      ],
      "source": [
        "best_score"
      ]
    },
    {
      "cell_type": "markdown",
      "metadata": {
        "id": "iG4uTDX-Px6G"
      },
      "source": [
        "大きな係数を持つ特徴量トップ１０は"
      ]
    },
    {
      "cell_type": "code",
      "execution_count": null,
      "metadata": {
        "colab": {
          "base_uri": "https://localhost:8080/"
        },
        "id": "bXBSuTg2Aqw-",
        "outputId": "9eb46c82-7152-4a95-f13e-70dd6f7ba935"
      },
      "outputs": [
        {
          "output_type": "stream",
          "name": "stdout",
          "text": [
            "feature name : coefficient\n",
            "--------------------------------------------------\n",
            "(Weight)**1 : -21.2152\n",
            "(Model Year)**2 : 10.3291\n",
            "(Weight)**2 : 7.6943\n",
            "(Horsepower)**1 : -7.2701\n",
            "(Weight)**1 * (Acceleration)**1 : -7.1186\n",
            "(Weight)**1 * (Model Year)**1 : -4.5316\n",
            "(Acceleration)**1 * (Origin3)**1 : 3.5388\n",
            "(Displacement)**1 * (Weight)**1 : 3.5137\n",
            "(Horsepower)**1 * (Model Year)**1 : -2.9773\n",
            "(Acceleration)**1 * (Model Year)**1 : 2.7918\n"
          ]
        }
      ],
      "source": [
        "get_top10_feature_names(poly.powers_, attributes, best_model)"
      ]
    },
    {
      "cell_type": "markdown",
      "metadata": {
        "id": "Pa2lYJ84glai"
      },
      "source": [
        "## 4.3 残差プロット\n",
        "\n",
        "残差はゼロ周りに分布。しかしまだ改善の余地は残っている。\n",
        "特に<b>分散の均一性</b>がまだ悪い。"
      ]
    },
    {
      "cell_type": "code",
      "execution_count": null,
      "metadata": {
        "colab": {
          "base_uri": "https://localhost:8080/",
          "height": 470
        },
        "id": "JKOZqlGTglai",
        "outputId": "de2f3f38-1f60-49cf-99ea-b0785aa26bd4"
      },
      "outputs": [
        {
          "output_type": "display_data",
          "data": {
            "text/plain": [
              "<Figure size 640x480 with 1 Axes>"
            ],
            "image/png": "[encoded data removed]"
          },
          "metadata": {}
        }
      ],
      "source": [
        "y_hat = best_model.predict(X_train_poly)\n",
        "residual = y_train-y_hat\n",
        "\n",
        "plt.scatter(y_hat, residual, c='dimgray', s=10)\n",
        "plt.hlines([0], np.min(y_hat)-5, np.max(y_hat)+5, 'darkslateblue', linewidths=3, linestyles='dashed')\n",
        "plt.xlabel('y hat')\n",
        "plt.ylabel('residual')\n",
        "plt.show()"
      ]
    },
    {
      "cell_type": "markdown",
      "metadata": {
        "id": "igiDL1sJglai"
      },
      "source": [
        "## テクニック\n",
        "\n",
        "`train_test_split`の前に出力属性を`log`、あるいは一般にはBox-Cox変換\n",
        "\n",
        "$$\n",
        "y\\to y' =\n",
        "\\left\\{\\begin{array}{1}\n",
        "\\frac{y^{\\lambda}-1}{\\lambda}\\quad(\\lambda\\neq0) \\\\\n",
        "\\log y\\quad(\\lambda=0)\n",
        "\\end{array}\\right.\n",
        "$$\n",
        "\n",
        "で変換しておくと、均一性が改善することがある($\\lambda$はハイパーパラメータ)。SciPyでは\n",
        "```python\n",
        "scipy.stats.boxcox\n",
        "```\n",
        "`log`なので、引数の属性を正にしておかねばならないことに注意。"
      ]
    },
    {
      "cell_type": "markdown",
      "metadata": {
        "id": "NheIC9xGglai"
      },
      "source": [
        "# 5 ベストなモデルのテスト評価"
      ]
    },
    {
      "cell_type": "code",
      "execution_count": null,
      "metadata": {
        "colab": {
          "base_uri": "https://localhost:8080/"
        },
        "id": "SqfbknAiglai",
        "outputId": "ddd07ee9-4e0b-4818-ed09-832334ffa3f0"
      },
      "outputs": [
        {
          "output_type": "stream",
          "name": "stdout",
          "text": [
            "test score: 0.8900910192723023\n"
          ]
        }
      ],
      "source": [
        "X_test_scaled = scaler.transform(X_test)\n",
        "X_test_poly = poly.transform(X_test_scaled)\n",
        "\n",
        "print('test score:', best_model.score(X_test_poly, y_test))"
      ]
    },
    {
      "cell_type": "markdown",
      "metadata": {
        "id": "vFsCG2EDglaj"
      },
      "source": [
        "\n",
        "\n",
        "テスト二乗誤差は"
      ]
    },
    {
      "cell_type": "code",
      "execution_count": null,
      "metadata": {
        "colab": {
          "base_uri": "https://localhost:8080/"
        },
        "id": "-1OM0zwYglaj",
        "outputId": "74f78ca7-4e02-442d-910c-65dff187f6ee"
      },
      "outputs": [
        {
          "output_type": "stream",
          "name": "stdout",
          "text": [
            "test mse: 5.9094150299155945\n"
          ]
        }
      ],
      "source": [
        "print('test mse:', np.mean((best_model.predict(X_test_poly)-y_test)**2))"
      ]
    },
    {
      "cell_type": "markdown",
      "metadata": {
        "id": "o9kCRvICglaj"
      },
      "source": [
        "ちなみにニューラルネットを使ったチュートリアルではもう少しだけ良い結果が得られます\n",
        "\n",
        "https://www.tensorflow.org/tutorials/keras/regression?hl=ja\n",
        "\n",
        "しかしニューラルネットを使わずとも、そんなに悪くない結果が得られますね！"
      ]
    },
    {
      "cell_type": "markdown",
      "metadata": {
        "id": "h-YU6GlSglaj"
      },
      "source": [
        "# 6 重回帰のスクラッチ実装＊\n",
        "\n",
        "単回帰の実装からほとんど変わらない。"
      ]
    },
    {
      "cell_type": "code",
      "execution_count": null,
      "metadata": {
        "collapsed": true,
        "id": "8de5R1Ziglaj"
      },
      "outputs": [],
      "source": [
        "class MyLinearRegression():\n",
        "    def __init__(self, eta0, n_iter):\n",
        "        self.eta = eta0\n",
        "        self.n_iter = n_iter\n",
        "\n",
        "    def predict(self, x):\n",
        "        y =  x @ self.a + self.b\n",
        "        return y\n",
        "\n",
        "    def grad_a(self, X, y):\n",
        "        N = X.shape[0]\n",
        "        da = 2/N * X.T @ (self.predict(X) - y[:,np.newaxis])\n",
        "        return da\n",
        "\n",
        "    def grad_b(self, X, y):\n",
        "        db = 2*np.mean(self.predict(X) - y[:,np.newaxis])\n",
        "        return db\n",
        "\n",
        "    def fit(self, X, y):\n",
        "        P = X.shape[1]\n",
        "        self.a = 2 * np.random.rand(P,1) - 1.\n",
        "        self.b = 2 * np.random.rand(1,1) - 1.\n",
        "        for _ in range(self.n_iter):\n",
        "            self.a, self.b  = self.a - self.eta*self.grad_a(X, y),\\\n",
        "                              self.b - self.eta*self.grad_b(X, y)\n",
        "        return self"
      ]
    },
    {
      "cell_type": "markdown",
      "metadata": {
        "id": "-rkyEoG9glaj"
      },
      "source": [
        "## テクニカルなコメント\n",
        "\n",
        "前回からの仕様変更：\n",
        "\n",
        "どんな`P`が来ても対応できるように、パラメータ（`a`のサイズは`P`で決まる）の初期化は`fit()`の中で行うようになった。\n",
        "→ 代償に`fit`を繰り返し連続して行えなくなった（毎回初期化されてしまう）。\n",
        "\n",
        "yはshape(N,)のベクトルのままで入力できるようになった。`.predict()`の返り値は(N,1)になることに注意。"
      ]
    },
    {
      "cell_type": "markdown",
      "metadata": {
        "id": "NvaG7fXzglaj"
      },
      "source": [
        "動作確認して見る："
      ]
    },
    {
      "cell_type": "code",
      "execution_count": null,
      "metadata": {
        "collapsed": true,
        "id": "OU8N6Wgjglaj"
      },
      "outputs": [],
      "source": [
        "reg = MyLinearRegression(eta0=0.01, n_iter=5000)"
      ]
    },
    {
      "cell_type": "code",
      "execution_count": null,
      "metadata": {
        "colab": {
          "base_uri": "https://localhost:8080/"
        },
        "id": "NKsyZmX7glak",
        "outputId": "b100ad84-0f8e-400a-e2c3-45c3d281bef4"
      },
      "outputs": [
        {
          "output_type": "execute_result",
          "data": {
            "text/plain": [
              "<__main__.MyLinearRegression at 0x7bd9c9e080a0>"
            ]
          },
          "metadata": {},
          "execution_count": 24
        }
      ],
      "source": [
        "y_train_array = np.array(y_train)\n",
        "reg.fit(X_train_poly, y_train_array)"
      ]
    },
    {
      "cell_type": "code",
      "execution_count": null,
      "metadata": {
        "colab": {
          "base_uri": "https://localhost:8080/",
          "height": 452
        },
        "id": "d0ZBIPnsglak",
        "outputId": "e5aff71f-f5bf-4595-a0f5-8f86765da490"
      },
      "outputs": [
        {
          "output_type": "display_data",
          "data": {
            "text/plain": [
              "<Figure size 640x480 with 1 Axes>"
            ],
            "image/png": "[encoded data removed]"
          },
          "metadata": {}
        }
      ],
      "source": [
        "y_hat = reg.predict(X_train_poly)\n",
        "residual = y_train_array[:,np.newaxis]-y_hat\n",
        "\n",
        "plt.scatter(y_hat, residual, c='dimgray', s=10)\n",
        "plt.hlines([0], np.min(y_hat)-5, np.max(y_hat)+5, 'darkslateblue', linewidths=3, linestyles='dashed')\n",
        "plt.xlabel('y hat')\n",
        "plt.ylabel('residual')\n",
        "plt.show()"
      ]
    },
    {
      "cell_type": "markdown",
      "source": [
        "# 7 オブジェクト指向とプライベート変数＊\n",
        "\n",
        "オブジェクト指向言語としてのPythonの特徴的な点について、スクラッチ実装を題材に解説しましょう。ここで紹介する話はエンジニアにとっては一般常識の範疇ですので、将来コードを扱う仕事をするならばぜひ理解しましょう。"
      ],
      "metadata": {
        "id": "kVB_tnCfH5sM"
      }
    },
    {
      "cell_type": "markdown",
      "source": [
        "## 7.1 プライベート変数による「隠蔽」"
      ],
      "metadata": {
        "id": "dT9EiBhqIHHY"
      }
    },
    {
      "cell_type": "markdown",
      "source": [
        "オブジェクト指向言語の特徴は諸説ありますが、\n",
        "その一つにカプセル化による隠蔽があります。\n",
        "\n",
        "Pythonのクラスから作られたオブジェクトの属性（データ、フィールド）は、"
      ],
      "metadata": {
        "id": "uzMqs0coP8ff"
      }
    },
    {
      "cell_type": "code",
      "source": [
        "reg.a"
      ],
      "metadata": {
        "colab": {
          "base_uri": "https://localhost:8080/"
        },
        "id": "EVoMfFBmIHwy",
        "outputId": "4c26d670-7526-4e31-d2f0-4264f77ab0ff"
      },
      "execution_count": null,
      "outputs": [
        {
          "output_type": "execute_result",
          "data": {
            "text/plain": [
              "array([[ 1.92919836],\n",
              "       [-1.49455371],\n",
              "       [-2.05877439],\n",
              "       [-6.04055722],\n",
              "       [ 5.56979581],\n",
              "       [ 7.59728804],\n",
              "       [ 2.67627039],\n",
              "       [ 1.23893175],\n",
              "       [-0.46500994],\n",
              "       [ 0.53688904],\n",
              "       [ 0.71522357],\n",
              "       [ 0.47166288],\n",
              "       [-2.06568605],\n",
              "       [-1.48172691],\n",
              "       [-1.77972424],\n",
              "       [-0.03727244],\n",
              "       [ 1.85960902],\n",
              "       [ 0.89503152],\n",
              "       [ 0.54138127],\n",
              "       [-2.4236429 ],\n",
              "       [-2.73842948],\n",
              "       [-2.00703575],\n",
              "       [-1.80910435],\n",
              "       [-1.27055243],\n",
              "       [-1.88795865],\n",
              "       [-3.29556856],\n",
              "       [-2.97999921],\n",
              "       [-2.12162724],\n",
              "       [-3.62021271],\n",
              "       [-2.85149633],\n",
              "       [-6.83810507],\n",
              "       [-7.07630421],\n",
              "       [-4.37735792],\n",
              "       [-2.04725355],\n",
              "       [-0.56050764],\n",
              "       [ 1.4098621 ],\n",
              "       [ 0.22610925],\n",
              "       [ 3.83812917],\n",
              "       [ 6.76586808],\n",
              "       [ 1.0372173 ],\n",
              "       [-1.01612709],\n",
              "       [ 1.56778522],\n",
              "       [-0.80553376],\n",
              "       [ 0.49903788]])"
            ]
          },
          "metadata": {},
          "execution_count": 26
        }
      ]
    },
    {
      "cell_type": "markdown",
      "source": [
        "という形で直接取得することができます。そればかりか"
      ],
      "metadata": {
        "id": "PLmuTWlCysnr"
      }
    },
    {
      "cell_type": "code",
      "source": [
        "reg.a = 0"
      ],
      "metadata": {
        "id": "CK8MlD5IMzVz"
      },
      "execution_count": null,
      "outputs": []
    },
    {
      "cell_type": "markdown",
      "source": [
        "というように書き換えてしまうこともできます。実際改めて同じ属性を見ると"
      ],
      "metadata": {
        "id": "67_-H6Qxyy-a"
      }
    },
    {
      "cell_type": "code",
      "source": [
        "reg.a"
      ],
      "metadata": {
        "colab": {
          "base_uri": "https://localhost:8080/"
        },
        "id": "6rxZcx9NM3_8",
        "outputId": "b56daba6-f20a-46ba-e780-fdf0585b3e9b"
      },
      "execution_count": null,
      "outputs": [
        {
          "output_type": "execute_result",
          "data": {
            "text/plain": [
              "0"
            ]
          },
          "metadata": {},
          "execution_count": 28
        }
      ]
    },
    {
      "cell_type": "markdown",
      "source": [
        "と、外側から大事な属性が書き換えられてしまいます。この実装の問題点はscikitlearnと同じです。"
      ],
      "metadata": {
        "id": "e33gehw3y5nt"
      }
    },
    {
      "cell_type": "markdown",
      "source": [
        "そこで`a`や`b`は内部だけで使うもので、オブジェクトの外から操作させたくない時には`__a`、`__b`のようにダンダーをつけるのがPythonの仕様です："
      ],
      "metadata": {
        "id": "sEEHr8LqzLCb"
      }
    },
    {
      "cell_type": "code",
      "source": [
        "class MyLinearRegression():\n",
        "    def __init__(self, eta0, n_iter):\n",
        "        self.eta = eta0\n",
        "        self.n_iter = n_iter\n",
        "\n",
        "    def predict(self, x):\n",
        "        y =  x @ self.__a + self.__b\n",
        "        return y\n",
        "\n",
        "    def grad_a(self, X, y):\n",
        "        N = X.shape[0]\n",
        "        da = 2/N * X.T @ (self.predict(X) - y[:,np.newaxis])\n",
        "        return da\n",
        "\n",
        "    def grad_b(self, X, y):\n",
        "        db = 2*np.mean(self.predict(X) - y[:,np.newaxis])\n",
        "        return db\n",
        "\n",
        "    def fit(self, X, y):\n",
        "        P = X.shape[1]\n",
        "        self.__a = 2 * np.random.rand(P,1) - 1.\n",
        "        self.__b = 2 * np.random.rand(1,1) - 1.\n",
        "        for _ in range(self.n_iter):\n",
        "            self.__a, self.__b  = self.__a - self.eta*self.grad_a(X, y),\\\n",
        "                                  self.__b - self.eta*self.grad_b(X, y)\n",
        "        return self"
      ],
      "metadata": {
        "id": "R2o6DGyYM8ym"
      },
      "execution_count": null,
      "outputs": []
    },
    {
      "cell_type": "code",
      "source": [
        "reg = MyLinearRegression(eta0=0.01, n_iter=5000)\n",
        "reg.fit(X_train_scaled, y_train_array)"
      ],
      "metadata": {
        "colab": {
          "base_uri": "https://localhost:8080/"
        },
        "id": "akcQWWLoNehb",
        "outputId": "8995f833-daa4-4573-868a-8e29b753f9b4"
      },
      "execution_count": null,
      "outputs": [
        {
          "output_type": "execute_result",
          "data": {
            "text/plain": [
              "<__main__.MyLinearRegression at 0x7bd9c5eae7a0>"
            ]
          },
          "metadata": {},
          "execution_count": 43
        }
      ]
    },
    {
      "cell_type": "markdown",
      "source": [
        "こうすると、ダンダーをつけた属性は外からアクセスできなくなります（正確なことは7.3参照）："
      ],
      "metadata": {
        "id": "DTbItVTfNsUD"
      }
    },
    {
      "cell_type": "code",
      "source": [
        "reg.__a"
      ],
      "metadata": {
        "colab": {
          "base_uri": "https://localhost:8080/",
          "height": 143
        },
        "id": "FSwjYZ0bNmo8",
        "outputId": "39e01d1a-1d80-4214-ad48-7a421b96a12d"
      },
      "execution_count": null,
      "outputs": [
        {
          "output_type": "error",
          "ename": "AttributeError",
          "evalue": "'MyLinearRegression' object has no attribute '__a'",
          "traceback": [
            "\u001b[0;31m---------------------------------------------------------------------------\u001b[0m",
            "\u001b[0;31mAttributeError\u001b[0m                            Traceback (most recent call last)",
            "\u001b[0;32m<ipython-input-44-e7fd34df8234>\u001b[0m in \u001b[0;36m<cell line: 1>\u001b[0;34m()\u001b[0m\n\u001b[0;32m----> 1\u001b[0;31m \u001b[0mreg\u001b[0m\u001b[0;34m.\u001b[0m\u001b[0m__a\u001b[0m\u001b[0;34m\u001b[0m\u001b[0;34m\u001b[0m\u001b[0m\n\u001b[0m",
            "\u001b[0;31mAttributeError\u001b[0m: 'MyLinearRegression' object has no attribute '__a'"
          ]
        }
      ]
    },
    {
      "cell_type": "markdown",
      "source": [
        "`__a`は外からアクセスできないプライベートな変数になりました。これにより属性を誤って書き換える恐れがなくなりました。"
      ],
      "metadata": {
        "id": "dhNcbrkGN41g"
      }
    },
    {
      "cell_type": "markdown",
      "source": [
        "## 7.2 セッター・ゲッターとプロパティー"
      ],
      "metadata": {
        "id": "YpwjmBw8IPY0"
      }
    },
    {
      "cell_type": "markdown",
      "source": [
        "先ほどのやり方では、属性を書き換えることを不可能にできましたが、同時に見ることもできなくなってしまいました。これでは不便です。そこでみることだけは可能にする方法を考えてみましょう。"
      ],
      "metadata": {
        "id": "hr2-GpPGOJ2B"
      }
    },
    {
      "cell_type": "markdown",
      "source": [
        "そこで重みを見る専用の関数（ゲッター、getter）を定義してみましょう"
      ],
      "metadata": {
        "id": "IIty0YjiOb4x"
      }
    },
    {
      "cell_type": "code",
      "source": [
        "class MyLinearRegression():\n",
        "    def __init__(self, eta0, n_iter):\n",
        "        self.eta = eta0\n",
        "        self.n_iter = n_iter\n",
        "\n",
        "    def predict(self, x):\n",
        "        y =  x @ self.__a + self.__b\n",
        "        return y\n",
        "\n",
        "    def grad_a(self, X, y):\n",
        "        N = X.shape[0]\n",
        "        da = 2/N * X.T @ (self.predict(X) - y[:,np.newaxis])\n",
        "        return da\n",
        "\n",
        "    def grad_b(self, X, y):\n",
        "        db = 2*np.mean(self.predict(X) - y[:,np.newaxis])\n",
        "        return db\n",
        "\n",
        "    def fit(self, X, y):\n",
        "        P = X.shape[1]\n",
        "        self.__a = 2 * np.random.rand(P,1) - 1.\n",
        "        self.__b = 2 * np.random.rand(1,1) - 1.\n",
        "        for _ in range(self.n_iter):\n",
        "            self.__a, self.__b  = self.__a - self.eta*self.grad_a(X, y),\\\n",
        "                                  self.__b - self.eta*self.grad_b(X, y)\n",
        "        return self\n",
        "\n",
        "    def get_a(self):\n",
        "        return self.__a\n",
        "\n",
        "    def get_b(self):\n",
        "        return self.__b"
      ],
      "metadata": {
        "id": "CPm9_JQpOgRr"
      },
      "execution_count": null,
      "outputs": []
    },
    {
      "cell_type": "code",
      "source": [
        "reg = MyLinearRegression(eta0=0.01, n_iter=5000)\n",
        "reg.fit(X_train_scaled, y_train_array)"
      ],
      "metadata": {
        "colab": {
          "base_uri": "https://localhost:8080/"
        },
        "id": "1RRqXypLOrYF",
        "outputId": "f2729376-1d34-4108-b67a-0381988a641c"
      },
      "execution_count": null,
      "outputs": [
        {
          "output_type": "execute_result",
          "data": {
            "text/plain": [
              "<__main__.MyLinearRegression at 0x7bd9c5eae6e0>"
            ]
          },
          "metadata": {},
          "execution_count": 57
        }
      ]
    },
    {
      "cell_type": "markdown",
      "source": [
        "こうすると"
      ],
      "metadata": {
        "id": "AHOFTOB6zzIn"
      }
    },
    {
      "cell_type": "code",
      "source": [
        "reg.__a"
      ],
      "metadata": {
        "colab": {
          "base_uri": "https://localhost:8080/",
          "height": 143
        },
        "id": "_1xaAMBXOuH9",
        "outputId": "de3be667-cabc-4d38-9d27-5ca9b4084193"
      },
      "execution_count": null,
      "outputs": [
        {
          "output_type": "error",
          "ename": "AttributeError",
          "evalue": "'MyLinearRegression' object has no attribute '__a'",
          "traceback": [
            "\u001b[0;31m---------------------------------------------------------------------------\u001b[0m",
            "\u001b[0;31mAttributeError\u001b[0m                            Traceback (most recent call last)",
            "\u001b[0;32m<ipython-input-47-e7fd34df8234>\u001b[0m in \u001b[0;36m<cell line: 1>\u001b[0;34m()\u001b[0m\n\u001b[0;32m----> 1\u001b[0;31m \u001b[0mreg\u001b[0m\u001b[0;34m.\u001b[0m\u001b[0m__a\u001b[0m\u001b[0;34m\u001b[0m\u001b[0;34m\u001b[0m\u001b[0m\n\u001b[0m",
            "\u001b[0;31mAttributeError\u001b[0m: 'MyLinearRegression' object has no attribute '__a'"
          ]
        }
      ]
    },
    {
      "cell_type": "markdown",
      "source": [
        "というやり方では属性にアクセスできないものの、ゲッターを通じて"
      ],
      "metadata": {
        "id": "086dwbhaz1DZ"
      }
    },
    {
      "cell_type": "code",
      "source": [
        "reg.get_a()"
      ],
      "metadata": {
        "colab": {
          "base_uri": "https://localhost:8080/"
        },
        "id": "4lQDsWb7OwSA",
        "outputId": "3b204653-1299-4f6c-b0d6-04255fc8096d"
      },
      "execution_count": null,
      "outputs": [
        {
          "output_type": "execute_result",
          "data": {
            "text/plain": [
              "array([[ -1.36806104],\n",
              "       [ -1.48874738],\n",
              "       [ -1.48434033],\n",
              "       [-14.06582876],\n",
              "       [  1.86043006],\n",
              "       [  9.92892884],\n",
              "       [  2.59180136],\n",
              "       [  2.34060295]])"
            ]
          },
          "metadata": {},
          "execution_count": 58
        }
      ]
    },
    {
      "cell_type": "markdown",
      "source": [
        "により重みを見ることができます。"
      ],
      "metadata": {
        "id": "YkZnv0V0z9mR"
      }
    },
    {
      "cell_type": "markdown",
      "source": [
        "（データを`X_train_scaled`に変えたので変数が減っています。）"
      ],
      "metadata": {
        "id": "4EhhDX4DQfoh"
      }
    },
    {
      "cell_type": "markdown",
      "source": [
        "（他の言語を知っていると）このようなgetter（、setter）という発想が自然に見えるかもしれませんが、実際はPythonではこうはしません。getterの代わりにプロパティというものを用います："
      ],
      "metadata": {
        "id": "1hK-0J9fRLrg"
      }
    },
    {
      "cell_type": "code",
      "source": [
        "class MyLinearRegression():\n",
        "    def __init__(self, eta0, n_iter):\n",
        "        self.eta = eta0\n",
        "        self.n_iter = n_iter\n",
        "\n",
        "    def predict(self, x):\n",
        "        y =  x @ self.__a + self.__b\n",
        "        return y\n",
        "\n",
        "    def grad_a(self, X, y):\n",
        "        N = X.shape[0]\n",
        "        da = 2/N * X.T @ (self.predict(X) - y[:,np.newaxis])\n",
        "        return da\n",
        "\n",
        "    def grad_b(self, X, y):\n",
        "        db = 2*np.mean(self.predict(X) - y[:,np.newaxis])\n",
        "        return db\n",
        "\n",
        "    def fit(self, X, y):\n",
        "        P = X.shape[1]\n",
        "        self.__a = 2 * np.random.rand(P,1) - 1.\n",
        "        self.__b = 2 * np.random.rand(1,1) - 1.\n",
        "        for _ in range(self.n_iter):\n",
        "            self.__a, self.__b  = self.__a - self.eta*self.grad_a(X, y),\\\n",
        "                                  self.__b - self.eta*self.grad_b(X, y)\n",
        "        return self\n",
        "\n",
        "    @property\n",
        "    def a(self):\n",
        "        return self.__a\n",
        "\n",
        "    @property\n",
        "    def b(self):\n",
        "        return self.__b"
      ],
      "metadata": {
        "id": "T1eRcWqFO0Ut"
      },
      "execution_count": null,
      "outputs": []
    },
    {
      "cell_type": "code",
      "source": [
        "reg = MyLinearRegression(eta0=0.01, n_iter=5000)\n",
        "reg.fit(X_train_scaled, y_train_array)"
      ],
      "metadata": {
        "colab": {
          "base_uri": "https://localhost:8080/"
        },
        "id": "p2wPqv-1PAx-",
        "outputId": "371b6d9a-4efa-4a02-994b-7b28b7a36555"
      },
      "execution_count": null,
      "outputs": [
        {
          "output_type": "execute_result",
          "data": {
            "text/plain": [
              "<__main__.MyLinearRegression at 0x7bd9c9d80430>"
            ]
          },
          "metadata": {},
          "execution_count": 50
        }
      ]
    },
    {
      "cell_type": "markdown",
      "source": [
        "こうするとゲッターを使わなくても今まで通り"
      ],
      "metadata": {
        "id": "V_97foVX0IUw"
      }
    },
    {
      "cell_type": "code",
      "source": [
        "reg.a"
      ],
      "metadata": {
        "colab": {
          "base_uri": "https://localhost:8080/"
        },
        "id": "YGvJxLx4PEjl",
        "outputId": "c71f8459-176e-4068-a7dc-ebcd0385359e"
      },
      "execution_count": null,
      "outputs": [
        {
          "output_type": "execute_result",
          "data": {
            "text/plain": [
              "array([[ -1.32874652],\n",
              "       [ -1.41677076],\n",
              "       [ -1.61765998],\n",
              "       [-14.01495954],\n",
              "       [  1.92623659],\n",
              "       [  9.93436051],\n",
              "       [  2.61802629],\n",
              "       [  2.37257889]])"
            ]
          },
          "metadata": {},
          "execution_count": 51
        }
      ]
    },
    {
      "cell_type": "markdown",
      "source": [
        "とすることで値が見える一方、"
      ],
      "metadata": {
        "id": "lE-wC18U0K96"
      }
    },
    {
      "cell_type": "code",
      "source": [
        "reg.a = 0"
      ],
      "metadata": {
        "colab": {
          "base_uri": "https://localhost:8080/",
          "height": 143
        },
        "id": "HIoBVTovPIeX",
        "outputId": "67aca80c-9773-493b-80df-441b0d1d4882"
      },
      "execution_count": null,
      "outputs": [
        {
          "output_type": "error",
          "ename": "AttributeError",
          "evalue": "can't set attribute 'a'",
          "traceback": [
            "\u001b[0;31m---------------------------------------------------------------------------\u001b[0m",
            "\u001b[0;31mAttributeError\u001b[0m                            Traceback (most recent call last)",
            "\u001b[0;32m<ipython-input-52-1d380ed69490>\u001b[0m in \u001b[0;36m<cell line: 1>\u001b[0;34m()\u001b[0m\n\u001b[0;32m----> 1\u001b[0;31m \u001b[0mreg\u001b[0m\u001b[0;34m.\u001b[0m\u001b[0ma\u001b[0m \u001b[0;34m=\u001b[0m \u001b[0;36m0\u001b[0m\u001b[0;34m\u001b[0m\u001b[0;34m\u001b[0m\u001b[0m\n\u001b[0m",
            "\u001b[0;31mAttributeError\u001b[0m: can't set attribute 'a'"
          ]
        }
      ]
    },
    {
      "cell_type": "markdown",
      "source": [
        "のような書き換えは禁止されます。こちらの方がPythonicなコードです（https://www.oreilly.co.jp/books/9784873119175/）。\n",
        "セッターについても同様なので調べてみてください。"
      ],
      "metadata": {
        "id": "iAXgsnoF0MwW"
      }
    },
    {
      "cell_type": "markdown",
      "source": [
        "## 7.3 Pythonにおける隠蔽"
      ],
      "metadata": {
        "id": "6vnVV5E4IahT"
      }
    },
    {
      "cell_type": "markdown",
      "source": [
        "さてダンダーにしろプロパティにしろ、変数を完全に隠すことができるものではありません。dirを使って"
      ],
      "metadata": {
        "id": "hnGrOtmi0RQe"
      }
    },
    {
      "cell_type": "code",
      "source": [
        "dir(reg)"
      ],
      "metadata": {
        "colab": {
          "base_uri": "https://localhost:8080/"
        },
        "id": "qa-oEB43PKXv",
        "outputId": "44bdb20a-6df1-42ed-cdeb-61c8c69ff944"
      },
      "execution_count": null,
      "outputs": [
        {
          "output_type": "execute_result",
          "data": {
            "text/plain": [
              "['_MyLinearRegression__a',\n",
              " '_MyLinearRegression__b',\n",
              " '__class__',\n",
              " '__delattr__',\n",
              " '__dict__',\n",
              " '__dir__',\n",
              " '__doc__',\n",
              " '__eq__',\n",
              " '__format__',\n",
              " '__ge__',\n",
              " '__getattribute__',\n",
              " '__gt__',\n",
              " '__hash__',\n",
              " '__init__',\n",
              " '__init_subclass__',\n",
              " '__le__',\n",
              " '__lt__',\n",
              " '__module__',\n",
              " '__ne__',\n",
              " '__new__',\n",
              " '__reduce__',\n",
              " '__reduce_ex__',\n",
              " '__repr__',\n",
              " '__setattr__',\n",
              " '__sizeof__',\n",
              " '__str__',\n",
              " '__subclasshook__',\n",
              " '__weakref__',\n",
              " 'a',\n",
              " 'b',\n",
              " 'eta',\n",
              " 'fit',\n",
              " 'grad_a',\n",
              " 'grad_b',\n",
              " 'n_iter',\n",
              " 'predict']"
            ]
          },
          "metadata": {},
          "execution_count": 53
        }
      ]
    },
    {
      "cell_type": "markdown",
      "source": [
        "とモデルの属性一覧を見てみてください。`a`がなくなった代わりに`_MyLinearRegression__a`という名前の修正された属性ができています。これによりうっかりミスにより大事な属性を変更する恐れがなくなった一方、この`_MyLinearRegression__a`属性には通常通りのアクセスができます。実際"
      ],
      "metadata": {
        "id": "2BFCLUnR0pUr"
      }
    },
    {
      "cell_type": "code",
      "source": [
        "reg._MyLinearRegression__a = 0"
      ],
      "metadata": {
        "id": "52KRilEiQmae"
      },
      "execution_count": null,
      "outputs": []
    },
    {
      "cell_type": "markdown",
      "source": [
        "とすれば、次のようになります："
      ],
      "metadata": {
        "id": "AbjNUgOx0sw4"
      }
    },
    {
      "cell_type": "code",
      "source": [
        "reg.a"
      ],
      "metadata": {
        "colab": {
          "base_uri": "https://localhost:8080/"
        },
        "id": "kMFKoGG6QowH",
        "outputId": "0d546d36-df25-4486-9b6f-80726ec6a02c"
      },
      "execution_count": null,
      "outputs": [
        {
          "output_type": "execute_result",
          "data": {
            "text/plain": [
              "0"
            ]
          },
          "metadata": {},
          "execution_count": 55
        }
      ]
    },
    {
      "cell_type": "markdown",
      "source": [
        "ですので依然として書き換える余地は残されていることに注意です。"
      ],
      "metadata": {
        "id": "iQhvprdj0wKB"
      }
    },
    {
      "cell_type": "markdown",
      "source": [
        "ぜひ人為的ミスの起こりにくい（フールプルーフされた）安全性の高いコードを書く習慣をつけてくださいね。"
      ],
      "metadata": {
        "id": "iO1gGM_cR_hn"
      }
    },
    {
      "cell_type": "markdown",
      "metadata": {
        "id": "Re1i1XDUglak"
      },
      "source": [
        "# <center>5/23 宿題</center>\n",
        "\n",
        "## 問題１ (重回帰の練習)\n",
        "今回説明した手法を使って、重回帰の練習をしましょう。まず自分で何らかのデータセットを用意します（webから回帰向きのデータを検索）。そして、そのデータの前処理、重回帰モデルの学習、モデルの改善、ベストなモデルの選択、テスト性能の評価までを一通り行い、得られた結果について考察を加えてください。LASSOだけではなく、Ridgeも試してみましょう。モデルの学習結果から、データに関する何らかの仮説が立てられたり洞察が得られるとベストです。\n",
        "\n",
        "\n",
        "\n",
        "## 問題２ (多重共線性)＊\n",
        "\n",
        "それぞれの属性間の相関を計算し、共線性が気になる程度かどうか調べてみよ。場合によっては変数を削除せよ。\n",
        "\n",
        "また多重共線性についてはどうか？分散拡大要因VIFについて調べて、評価してみよ。\n",
        "\n",
        "多重共線性の考慮を加えた上で重回帰分析を行い、結果について比較検討せよ。\n",
        "\n",
        "\n",
        "\n",
        "\n",
        "## 問題３ (スクラッチ実装)＊\n",
        "ミニバッチ学習の仕組みについて調べて、それを実装しなさい。上のスクラッチ実装のコードをベースにして構いません。その上で、ミニバッチ学習を実際に行い、その効果や特性について調べてみましょう。"
      ]
    },
    {
      "cell_type": "code",
      "execution_count": null,
      "metadata": {
        "id": "ALBVwfYxeCw1"
      },
      "outputs": [],
      "source": []
    }
  ],
  "metadata": {
    "anaconda-cloud": {},
    "colab": {
      "provenance": []
    },
    "kernelspec": {
      "display_name": "Python [conda root]",
      "language": "python",
      "name": "conda-root-py"
    },
    "language_info": {
      "codemirror_mode": {
        "name": "ipython",
        "version": 3
      },
      "file_extension": ".py",
      "mimetype": "text/x-python",
      "name": "python",
      "nbconvert_exporter": "python",
      "pygments_lexer": "ipython3",
      "version": "3.5.2"
    }
  },
  "nbformat": 4,
  "nbformat_minor": 0
}