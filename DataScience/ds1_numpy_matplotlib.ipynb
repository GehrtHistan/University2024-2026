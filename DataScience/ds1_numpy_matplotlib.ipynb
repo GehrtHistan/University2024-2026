{
 "cells": [
  {
   "cell_type": "markdown",
   "metadata": {
    "id": "rzilyRAF87sP"
   },
   "source": [
    "# numpy 最初の一歩\n",
    "まずは、numpy の基本となる型の多次元配列 N-dimensional array (**ndarray**)に慣れよう。\n",
    "numpy モジュールをインポートし、1, 2, 3, 4, 5 という５つの整数の集合を表す ndarray 型の変数aを定義する。"
   ]
  },
  {
   "cell_type": "code",
   "execution_count": 4,
   "metadata": {
    "colab": {
     "base_uri": "https://localhost:8080/"
    },
    "executionInfo": {
     "elapsed": 5,
     "status": "ok",
     "timestamp": 1713504714854,
     "user": {
      "displayName": "YASUNOBU UCHIYAMA",
      "userId": "17060898117176457414"
     },
     "user_tz": -540
    },
    "id": "k8Fu4pmzA6JM",
    "outputId": "33334ea5-9f16-4a05-9048-8c8f3f8b96f7"
   },
   "outputs": [
    {
     "name": "stdout",
     "output_type": "stream",
     "text": [
      "最初の一歩\n",
      "[1 2 3 4 5]\n"
     ]
    }
   ],
   "source": [
    "import numpy as np\n",
    "a = np.array([1, 2, 3, 4, 5])\n",
    "#type(a) #型名の表示\n",
    "#a.dtype #要素の型名\n",
    "\n",
    "print(\"最初の一歩\")\n",
    "print(a)"
   ]
  },
  {
   "cell_type": "code",
   "execution_count": 5,
   "metadata": {
    "colab": {
     "base_uri": "https://localhost:8080/"
    },
    "executionInfo": {
     "elapsed": 5,
     "status": "ok",
     "timestamp": 1713504992021,
     "user": {
      "displayName": "YASUNOBU UCHIYAMA",
      "userId": "17060898117176457414"
     },
     "user_tz": -540
    },
    "id": "IP_DuwxD2Azj",
    "outputId": "a5b1d0b8-4195-4b57-b783-e631dcd019ba"
   },
   "outputs": [
    {
     "data": {
      "text/plain": [
       "array([1, 2, 3, 4, 5])"
      ]
     },
     "execution_count": 5,
     "metadata": {},
     "output_type": "execute_result"
    }
   ],
   "source": [
    "# print() を使わなくても、jupyter notebook ならダイレクトに変数を打っても表示はされる。\n",
    "a"
   ]
  },
  {
   "cell_type": "code",
   "execution_count": 6,
   "metadata": {
    "colab": {
     "base_uri": "https://localhost:8080/"
    },
    "executionInfo": {
     "elapsed": 4,
     "status": "ok",
     "timestamp": 1713505065509,
     "user": {
      "displayName": "YASUNOBU UCHIYAMA",
      "userId": "17060898117176457414"
     },
     "user_tz": -540
    },
    "id": "gk42ttEaFOhM",
    "outputId": "cee4545f-f612-4a49-f195-4d579745a9c3"
   },
   "outputs": [
    {
     "data": {
      "text/plain": [
       "3.0"
      ]
     },
     "execution_count": 6,
     "metadata": {},
     "output_type": "execute_result"
    }
   ],
   "source": [
    "# 要素の平均を計算するには、numpy の.mean()メソッドを使う\n",
    "a.mean()"
   ]
  },
  {
   "cell_type": "code",
   "execution_count": 7,
   "metadata": {
    "colab": {
     "base_uri": "https://localhost:8080/"
    },
    "executionInfo": {
     "elapsed": 324,
     "status": "ok",
     "timestamp": 1713505070417,
     "user": {
      "displayName": "YASUNOBU UCHIYAMA",
      "userId": "17060898117176457414"
     },
     "user_tz": -540
    },
    "id": "389F5gcElu_l",
    "outputId": "2f03e444-0cd2-41e5-f7dd-2fc28a1af9b3"
   },
   "outputs": [
    {
     "name": "stdout",
     "output_type": "stream",
     "text": [
      "15\n",
      "3.0\n",
      "5\n"
     ]
    }
   ],
   "source": [
    "#要素の合計、平均、最大値\n",
    "print(a.sum())\n",
    "print(a.mean())\n",
    "print(a.max())\n"
   ]
  },
  {
   "cell_type": "markdown",
   "metadata": {
    "id": "ri4d2nJZDakM"
   },
   "source": [
    "リストと同様の方法で、各要素を編集できる。たとえば、３番目の要素を整数10にして、\n",
    "４番目の要素を1000にするには："
   ]
  },
  {
   "cell_type": "code",
   "execution_count": 8,
   "metadata": {
    "colab": {
     "base_uri": "https://localhost:8080/"
    },
    "executionInfo": {
     "elapsed": 268,
     "status": "ok",
     "timestamp": 1713505090968,
     "user": {
      "displayName": "YASUNOBU UCHIYAMA",
      "userId": "17060898117176457414"
     },
     "user_tz": -540
    },
    "id": "y0TqgbxTDjX9",
    "outputId": "948cc8a7-8e2d-4ba5-b2f6-37966694edc8"
   },
   "outputs": [
    {
     "name": "stdout",
     "output_type": "stream",
     "text": [
      "[   1    2   10 1000    5]\n"
     ]
    }
   ],
   "source": [
    "a[2]=10\n",
    "a[3]=1000\n",
    "print(a)"
   ]
  },
  {
   "cell_type": "markdown",
   "metadata": {
    "id": "5b45H6FLD-qR"
   },
   "source": [
    "要素の追加は次のように行う。たとえば、[100, 200] を追加しよう。"
   ]
  },
  {
   "cell_type": "code",
   "execution_count": 9,
   "metadata": {
    "colab": {
     "base_uri": "https://localhost:8080/"
    },
    "executionInfo": {
     "elapsed": 319,
     "status": "ok",
     "timestamp": 1713505115439,
     "user": {
      "displayName": "YASUNOBU UCHIYAMA",
      "userId": "17060898117176457414"
     },
     "user_tz": -540
    },
    "id": "PdXZHueREJVd",
    "outputId": "fb2221fc-e823-464d-da8d-370abff7aa48"
   },
   "outputs": [
    {
     "name": "stdout",
     "output_type": "stream",
     "text": [
      "[   1    2   10 1000    5  100  200]\n"
     ]
    }
   ],
   "source": [
    "a = np.append(a, [100, 200])\n",
    "print(a)\n"
   ]
  },
  {
   "cell_type": "markdown",
   "metadata": {
    "id": "mzqdom6tFB96"
   },
   "source": [
    "range() と同様に arange() で自然数の数列が生成できる。"
   ]
  },
  {
   "cell_type": "code",
   "execution_count": 10,
   "metadata": {
    "colab": {
     "base_uri": "https://localhost:8080/"
    },
    "executionInfo": {
     "elapsed": 413,
     "status": "ok",
     "timestamp": 1713505127490,
     "user": {
      "displayName": "YASUNOBU UCHIYAMA",
      "userId": "17060898117176457414"
     },
     "user_tz": -540
    },
    "id": "QHpAtS4GE7bO",
    "outputId": "9b36b30a-aa6f-440f-90d5-fbb3e2c8e78d"
   },
   "outputs": [
    {
     "name": "stdout",
     "output_type": "stream",
     "text": [
      "[ 0  1  2  3  4  5  6  7  8  9 10 11 12 13 14 15 16 17 18 19 20 21 22 23\n",
      " 24 25 26 27 28 29 30 31 32 33 34 35 36 37 38 39 40 41 42 43 44 45 46 47\n",
      " 48 49 50 51 52 53 54 55 56 57 58 59 60 61 62 63 64 65 66 67 68 69 70 71\n",
      " 72 73 74 75 76 77 78 79 80 81 82 83 84 85 86 87 88 89 90 91 92 93 94 95\n",
      " 96 97 98 99]\n"
     ]
    }
   ],
   "source": [
    "b = np.arange(100)\n",
    "print(b)"
   ]
  },
  {
   "cell_type": "markdown",
   "metadata": {
    "id": "nTAkTiYBFViM"
   },
   "source": [
    "linspace() --- グラフ作成で頻出のテクニック：　3 と 10　の間を4等分した**等差数列**を作る"
   ]
  },
  {
   "cell_type": "code",
   "execution_count": 11,
   "metadata": {
    "colab": {
     "base_uri": "https://localhost:8080/"
    },
    "executionInfo": {
     "elapsed": 279,
     "status": "ok",
     "timestamp": 1713505148442,
     "user": {
      "displayName": "YASUNOBU UCHIYAMA",
      "userId": "17060898117176457414"
     },
     "user_tz": -540
    },
    "id": "mrRU6kvAFg-P",
    "outputId": "3e639c6e-3ea9-428b-c978-36568c8453ad"
   },
   "outputs": [
    {
     "name": "stdout",
     "output_type": "stream",
     "text": [
      "[ 2.   6.5 11.  15.5 20. ]\n"
     ]
    }
   ],
   "source": [
    "c = np.linspace(2, 20, 5)\n",
    "print(c)"
   ]
  },
  {
   "cell_type": "markdown",
   "metadata": {
    "id": "198Dn3f9F4oV"
   },
   "source": [
    "logspace() -- 対数グラフ作成で頻出のテクニック：　10の3乗と８乗の間を対数で４等分した**等比数列を作**る。４等分の場合、５つの数値で区切るので、num=5 とする。"
   ]
  },
  {
   "cell_type": "code",
   "execution_count": 12,
   "metadata": {
    "colab": {
     "base_uri": "https://localhost:8080/"
    },
    "executionInfo": {
     "elapsed": 247,
     "status": "ok",
     "timestamp": 1713505151940,
     "user": {
      "displayName": "YASUNOBU UCHIYAMA",
      "userId": "17060898117176457414"
     },
     "user_tz": -540
    },
    "id": "FXw5YMZIGYJ_",
    "outputId": "2cff5c24-09d2-4ca5-cdfe-1c874893f029"
   },
   "outputs": [
    {
     "name": "stdout",
     "output_type": "stream",
     "text": [
      "[1.00000000e+03 1.77827941e+04 3.16227766e+05 5.62341325e+06\n",
      " 1.00000000e+08]\n"
     ]
    }
   ],
   "source": [
    "d = np.logspace(3, 8, num=5, base=10.0)\n",
    "print(d)\n"
   ]
  },
  {
   "cell_type": "markdown",
   "metadata": {
    "id": "RIpXshTF5xHa"
   },
   "source": [
    "マジックコマンド **whos** を使って、どんな変数が机に乗っているか、見ておこう。\n"
   ]
  },
  {
   "cell_type": "code",
   "execution_count": 13,
   "metadata": {
    "colab": {
     "base_uri": "https://localhost:8080/"
    },
    "executionInfo": {
     "elapsed": 3,
     "status": "ok",
     "timestamp": 1713505790968,
     "user": {
      "displayName": "YASUNOBU UCHIYAMA",
      "userId": "17060898117176457414"
     },
     "user_tz": -540
    },
    "id": "ItsUokrD508t",
    "outputId": "a3a3f1e5-fcaa-47cc-8e4d-e6050e441e37"
   },
   "outputs": [
    {
     "name": "stdout",
     "output_type": "stream",
     "text": [
      "Variable   Type       Data/Info\n",
      "-------------------------------\n",
      "a          ndarray    7: 7 elems, type `int32`, 28 bytes\n",
      "b          ndarray    100: 100 elems, type `int32`, 400 bytes\n",
      "c          ndarray    5: 5 elems, type `float64`, 40 bytes\n",
      "d          ndarray    5: 5 elems, type `float64`, 40 bytes\n",
      "np         module     <module 'numpy' from 'C:\\<...>ges\\\\numpy\\\\__init__.py'>\n"
     ]
    }
   ],
   "source": [
    "%whos"
   ]
  },
  {
   "cell_type": "code",
   "execution_count": 14,
   "metadata": {
    "colab": {
     "base_uri": "https://localhost:8080/"
    },
    "executionInfo": {
     "elapsed": 245,
     "status": "ok",
     "timestamp": 1713505270775,
     "user": {
      "displayName": "YASUNOBU UCHIYAMA",
      "userId": "17060898117176457414"
     },
     "user_tz": -540
    },
    "id": "wR4Jaq-uRhqU",
    "outputId": "fd648aff-3910-4ba3-ed8f-b0f61cc8bdd4"
   },
   "outputs": [
    {
     "name": "stdout",
     "output_type": "stream",
     "text": [
      "The Zen of Python, by Tim Peters\n",
      "\n",
      "Beautiful is better than ugly.\n",
      "Explicit is better than implicit.\n",
      "Simple is better than complex.\n",
      "Complex is better than complicated.\n",
      "Flat is better than nested.\n",
      "Sparse is better than dense.\n",
      "Readability counts.\n",
      "Special cases aren't special enough to break the rules.\n",
      "Although practicality beats purity.\n",
      "Errors should never pass silently.\n",
      "Unless explicitly silenced.\n",
      "In the face of ambiguity, refuse the temptation to guess.\n",
      "There should be one-- and preferably only one --obvious way to do it.\n",
      "Although that way may not be obvious at first unless you're Dutch.\n",
      "Now is better than never.\n",
      "Although never is often better than *right* now.\n",
      "If the implementation is hard to explain, it's a bad idea.\n",
      "If the implementation is easy to explain, it may be a good idea.\n",
      "Namespaces are one honking great idea -- let's do more of those!\n"
     ]
    }
   ],
   "source": [
    "import this\n"
   ]
  },
  {
   "cell_type": "markdown",
   "metadata": {
    "id": "_-OHS46TLtSN"
   },
   "source": [
    "# ２次元配列、３次元配列\n",
    "\n",
    "Numpy の配列は、1次元配列(ベクトル)、2次元配列(行列) 、3次元配列、、、というように、高次元の配列を作ることができる。"
   ]
  },
  {
   "cell_type": "code",
   "execution_count": 15,
   "metadata": {
    "colab": {
     "base_uri": "https://localhost:8080/"
    },
    "executionInfo": {
     "elapsed": 268,
     "status": "ok",
     "timestamp": 1713505275179,
     "user": {
      "displayName": "YASUNOBU UCHIYAMA",
      "userId": "17060898117176457414"
     },
     "user_tz": -540
    },
    "id": "v5zotESxHeO1",
    "outputId": "2073f6ac-e45e-4d5b-c860-90fc9bb63df1"
   },
   "outputs": [
    {
     "name": "stdout",
     "output_type": "stream",
     "text": [
      "[[ 50  80  45]\n",
      " [ 55 100  95]]\n"
     ]
    }
   ],
   "source": [
    "# ２次元配列\n",
    "e = np.array([[50, 80, 45], [55, 100, 95]])\n",
    "print(e)"
   ]
  },
  {
   "cell_type": "markdown",
   "metadata": {
    "id": "H4l1xT-mO-7-"
   },
   "source": [
    "2次元配列は、１次元配列を並べて作る、と考えられる。\n",
    "まずは、ある生徒についての教科の点数を並べたベクトル（１次元配列）を作り、\n",
    "それをいろいろな生徒について並べて行列（２次元配列）にするというイメージの例を示そう。"
   ]
  },
  {
   "cell_type": "code",
   "execution_count": 16,
   "metadata": {
    "colab": {
     "base_uri": "https://localhost:8080/"
    },
    "executionInfo": {
     "elapsed": 469,
     "status": "ok",
     "timestamp": 1713505315461,
     "user": {
      "displayName": "YASUNOBU UCHIYAMA",
      "userId": "17060898117176457414"
     },
     "user_tz": -540
    },
    "id": "BAdz6h9xNb1-",
    "outputId": "147e0a27-635f-4f8a-c918-b9fb9f891532"
   },
   "outputs": [
    {
     "data": {
      "text/plain": [
       "array([[ 50,  80,  45],\n",
       "       [ 55, 100,  95]])"
      ]
     },
     "execution_count": 16,
     "metadata": {},
     "output_type": "execute_result"
    }
   ],
   "source": [
    "s0 = np.array([50, 80, 45]) ## 数学５０，　英語80, 国語　45\n",
    "s1 = np.array([55, 100, 95]) ## 数学５5，　英語100, 国語　95\n",
    "group1 = np.array([s0, s1])\n",
    "group1"
   ]
  },
  {
   "cell_type": "code",
   "execution_count": 17,
   "metadata": {
    "colab": {
     "base_uri": "https://localhost:8080/"
    },
    "executionInfo": {
     "elapsed": 298,
     "status": "ok",
     "timestamp": 1713505318274,
     "user": {
      "displayName": "YASUNOBU UCHIYAMA",
      "userId": "17060898117176457414"
     },
     "user_tz": -540
    },
    "id": "y-ju7DeIIImF",
    "outputId": "07341882-f3ba-4322-8949-fabffd254be4"
   },
   "outputs": [
    {
     "data": {
      "text/plain": [
       "2"
      ]
     },
     "execution_count": 17,
     "metadata": {},
     "output_type": "execute_result"
    }
   ],
   "source": [
    "group1.ndim"
   ]
  },
  {
   "cell_type": "code",
   "execution_count": 18,
   "metadata": {
    "colab": {
     "base_uri": "https://localhost:8080/"
    },
    "executionInfo": {
     "elapsed": 256,
     "status": "ok",
     "timestamp": 1713505320631,
     "user": {
      "displayName": "YASUNOBU UCHIYAMA",
      "userId": "17060898117176457414"
     },
     "user_tz": -540
    },
    "id": "o3kpz-6zQguh",
    "outputId": "61e40bca-1e6f-4a6a-e289-11433332c5cb"
   },
   "outputs": [
    {
     "data": {
      "text/plain": [
       "(1, 2)"
      ]
     },
     "execution_count": 18,
     "metadata": {},
     "output_type": "execute_result"
    }
   ],
   "source": [
    "s0.ndim,  group1.ndim  ## .ndim で次元数が調べられる。次元数２ということは、axisが２つある"
   ]
  },
  {
   "cell_type": "code",
   "execution_count": 19,
   "metadata": {
    "colab": {
     "base_uri": "https://localhost:8080/"
    },
    "executionInfo": {
     "elapsed": 295,
     "status": "ok",
     "timestamp": 1713505329973,
     "user": {
      "displayName": "YASUNOBU UCHIYAMA",
      "userId": "17060898117176457414"
     },
     "user_tz": -540
    },
    "id": "p3jm53k_RgM2",
    "outputId": "8a6f579f-2410-42f9-929b-de3961a59a80"
   },
   "outputs": [
    {
     "data": {
      "text/plain": [
       "(2, 3)"
      ]
     },
     "execution_count": 19,
     "metadata": {},
     "output_type": "execute_result"
    }
   ],
   "source": [
    "group1.shape  ## .shape で各軸の要素数がわかる  (axis0の要素数、axis1の要素数、、、)"
   ]
  },
  {
   "cell_type": "code",
   "execution_count": 20,
   "metadata": {
    "colab": {
     "base_uri": "https://localhost:8080/"
    },
    "executionInfo": {
     "elapsed": 2,
     "status": "ok",
     "timestamp": 1682670042142,
     "user": {
      "displayName": "YASUNOBU UCHIYAMA",
      "userId": "17060898117176457414"
     },
     "user_tz": -540
    },
    "id": "1oNYdMyJTxYN",
    "outputId": "b4bd7305-1ced-4210-f2d1-6ec54241d698"
   },
   "outputs": [
    {
     "data": {
      "text/plain": [
       "array([105, 180, 140])"
      ]
     },
     "execution_count": 20,
     "metadata": {},
     "output_type": "execute_result"
    }
   ],
   "source": [
    "group1.sum(axis=0) ##教科ごと合計点(axis=0は生徒の並びベクトル)"
   ]
  },
  {
   "cell_type": "code",
   "execution_count": 21,
   "metadata": {
    "colab": {
     "base_uri": "https://localhost:8080/"
    },
    "executionInfo": {
     "elapsed": 272,
     "status": "ok",
     "timestamp": 1713505448114,
     "user": {
      "displayName": "YASUNOBU UCHIYAMA",
      "userId": "17060898117176457414"
     },
     "user_tz": -540
    },
    "id": "NEIP7dBGT1Wi",
    "outputId": "2d4a40e0-ff25-4511-83f4-4af765232dd9"
   },
   "outputs": [
    {
     "data": {
      "text/plain": [
       "array([175, 250])"
      ]
     },
     "execution_count": 21,
     "metadata": {},
     "output_type": "execute_result"
    }
   ],
   "source": [
    "group1.sum(axis=1)  ##それぞれの生徒について、３教科の合計点を出す（axis=1は教科の並びベクトル）"
   ]
  },
  {
   "cell_type": "code",
   "execution_count": 22,
   "metadata": {
    "colab": {
     "base_uri": "https://localhost:8080/"
    },
    "executionInfo": {
     "elapsed": 277,
     "status": "ok",
     "timestamp": 1713505464580,
     "user": {
      "displayName": "YASUNOBU UCHIYAMA",
      "userId": "17060898117176457414"
     },
     "user_tz": -540
    },
    "id": "NjjWlit5VtPy",
    "outputId": "328c0757-4564-492b-df54-6e33f9db3d14"
   },
   "outputs": [
    {
     "data": {
      "text/plain": [
       "array([[50, 50, 50],\n",
       "       [40, 50, 70]])"
      ]
     },
     "execution_count": 22,
     "metadata": {},
     "output_type": "execute_result"
    }
   ],
   "source": [
    "s3 = np.array([50, 50, 50])\n",
    "s4 = np.array([40, 50, 70])\n",
    "group2 = np.array([s3, s4])\n",
    "group2"
   ]
  },
  {
   "cell_type": "code",
   "execution_count": 23,
   "metadata": {
    "colab": {
     "base_uri": "https://localhost:8080/"
    },
    "executionInfo": {
     "elapsed": 248,
     "status": "ok",
     "timestamp": 1713505497293,
     "user": {
      "displayName": "YASUNOBU UCHIYAMA",
      "userId": "17060898117176457414"
     },
     "user_tz": -540
    },
    "id": "QPLy3ELzXXnQ",
    "outputId": "1a57ede2-afc1-48f8-cae3-91b2c63d132d",
    "scrolled": true
   },
   "outputs": [
    {
     "data": {
      "text/plain": [
       "(2, 2, 3)"
      ]
     },
     "execution_count": 23,
     "metadata": {},
     "output_type": "execute_result"
    }
   ],
   "source": [
    "# グループを並べることで３次元化\n",
    "team = np.array([group1, group2])\n",
    "team.shape"
   ]
  },
  {
   "cell_type": "code",
   "execution_count": 24,
   "metadata": {
    "colab": {
     "base_uri": "https://localhost:8080/"
    },
    "executionInfo": {
     "elapsed": 352,
     "status": "ok",
     "timestamp": 1713505501689,
     "user": {
      "displayName": "YASUNOBU UCHIYAMA",
      "userId": "17060898117176457414"
     },
     "user_tz": -540
    },
    "id": "Uh3D1aNmawAF",
    "outputId": "d32b6a72-40d2-4c1e-ea8a-39479cff8e84"
   },
   "outputs": [
    {
     "name": "stdout",
     "output_type": "stream",
     "text": [
      "[[[ 50  80  45]\n",
      "  [ 55 100  95]]\n",
      "\n",
      " [[ 50  50  50]\n",
      "  [ 40  50  70]]]\n"
     ]
    }
   ],
   "source": [
    "print(team)"
   ]
  },
  {
   "cell_type": "code",
   "execution_count": 59,
   "metadata": {
    "colab": {
     "base_uri": "https://localhost:8080/"
    },
    "executionInfo": {
     "elapsed": 267,
     "status": "ok",
     "timestamp": 1713505504716,
     "user": {
      "displayName": "YASUNOBU UCHIYAMA",
      "userId": "17060898117176457414"
     },
     "user_tz": -540
    },
    "id": "HnSTddh7bLlc",
    "outputId": "f9510112-35c0-4b1f-9754-d4dd40a08425"
   },
   "outputs": [
    {
     "data": {
      "text/plain": [
       "array([[105, 180, 140],\n",
       "       [ 90, 100, 120]])"
      ]
     },
     "execution_count": 59,
     "metadata": {},
     "output_type": "execute_result"
    }
   ],
   "source": [
    "tsum = team.sum(axis=2) #３次元にしたら、教科の並びベクトルがaxis=2になっている\n",
    "tsum = team.sum(axis=1)\n",
    "tsum"
   ]
  },
  {
   "cell_type": "code",
   "execution_count": 26,
   "metadata": {
    "colab": {
     "base_uri": "https://localhost:8080/"
    },
    "executionInfo": {
     "elapsed": 252,
     "status": "ok",
     "timestamp": 1713505561954,
     "user": {
      "displayName": "YASUNOBU UCHIYAMA",
      "userId": "17060898117176457414"
     },
     "user_tz": -540
    },
    "id": "cGitA4ZKapCA",
    "outputId": "1c6b33dd-44a3-45b7-fced-1e9b18596cfa"
   },
   "outputs": [
    {
     "data": {
      "text/plain": [
       "(2, 3)"
      ]
     },
     "execution_count": 26,
     "metadata": {},
     "output_type": "execute_result"
    }
   ],
   "source": [
    "team.sum(axis=0).shape"
   ]
  },
  {
   "cell_type": "markdown",
   "metadata": {
    "id": "CtD-pX4VMnBH"
   },
   "source": [
    "すべての要素を0とする行列を簡単に作る方法："
   ]
  },
  {
   "cell_type": "code",
   "execution_count": 27,
   "metadata": {
    "colab": {
     "base_uri": "https://localhost:8080/"
    },
    "executionInfo": {
     "elapsed": 253,
     "status": "ok",
     "timestamp": 1713505565148,
     "user": {
      "displayName": "YASUNOBU UCHIYAMA",
      "userId": "17060898117176457414"
     },
     "user_tz": -540
    },
    "id": "mmJxatIVIQNq",
    "outputId": "49791dc4-6d86-4682-afd4-c45b1ee9364b"
   },
   "outputs": [
    {
     "data": {
      "text/plain": [
       "array([[0., 0., 0., 0.],\n",
       "       [0., 0., 0., 0.],\n",
       "       [0., 0., 0., 0.]])"
      ]
     },
     "execution_count": 27,
     "metadata": {},
     "output_type": "execute_result"
    }
   ],
   "source": [
    "g = np.zeros((3,4)) # (3,4)というタプルをzeros()に渡す\n",
    "g"
   ]
  },
  {
   "cell_type": "markdown",
   "metadata": {
    "id": "ycyR2GlhI2zQ"
   },
   "source": [
    "# array の演算\n"
   ]
  },
  {
   "cell_type": "code",
   "execution_count": 28,
   "metadata": {
    "colab": {
     "base_uri": "https://localhost:8080/"
    },
    "executionInfo": {
     "elapsed": 409,
     "status": "ok",
     "timestamp": 1713505568643,
     "user": {
      "displayName": "YASUNOBU UCHIYAMA",
      "userId": "17060898117176457414"
     },
     "user_tz": -540
    },
    "id": "tGwiAMjZJKT5",
    "outputId": "9bdb806b-d26a-422c-92dc-b26fc85f5fb2"
   },
   "outputs": [
    {
     "data": {
      "text/plain": [
       "array([0, 1, 2, 3, 4, 5])"
      ]
     },
     "execution_count": 28,
     "metadata": {},
     "output_type": "execute_result"
    }
   ],
   "source": [
    "a = np.arange(6)\n",
    "a"
   ]
  },
  {
   "cell_type": "markdown",
   "metadata": {
    "id": "qanocZfMJaCl"
   },
   "source": [
    "**各要素に**一様に10を足すことを次のように簡単にできる。"
   ]
  },
  {
   "cell_type": "code",
   "execution_count": 29,
   "metadata": {
    "colab": {
     "base_uri": "https://localhost:8080/"
    },
    "executionInfo": {
     "elapsed": 378,
     "status": "ok",
     "timestamp": 1713505570946,
     "user": {
      "displayName": "YASUNOBU UCHIYAMA",
      "userId": "17060898117176457414"
     },
     "user_tz": -540
    },
    "id": "PcKFGRqfJn4k",
    "outputId": "efb1fe55-c674-4967-83ef-5c145567df1f"
   },
   "outputs": [
    {
     "data": {
      "text/plain": [
       "array([10, 11, 12, 13, 14, 15])"
      ]
     },
     "execution_count": 29,
     "metadata": {},
     "output_type": "execute_result"
    }
   ],
   "source": [
    "b = a + 10\n",
    "b"
   ]
  },
  {
   "cell_type": "markdown",
   "metadata": {
    "id": "UUBr87fQJ5EO"
   },
   "source": [
    "各要素を３倍しよう。"
   ]
  },
  {
   "cell_type": "code",
   "execution_count": 30,
   "metadata": {
    "colab": {
     "base_uri": "https://localhost:8080/"
    },
    "executionInfo": {
     "elapsed": 243,
     "status": "ok",
     "timestamp": 1713505573147,
     "user": {
      "displayName": "YASUNOBU UCHIYAMA",
      "userId": "17060898117176457414"
     },
     "user_tz": -540
    },
    "id": "OXY_HrqEJ78P",
    "outputId": "70accc99-06f9-4b42-a0ab-21835e9af973"
   },
   "outputs": [
    {
     "data": {
      "text/plain": [
       "array([ 0,  3,  6,  9, 12, 15])"
      ]
     },
     "execution_count": 30,
     "metadata": {},
     "output_type": "execute_result"
    }
   ],
   "source": [
    "c = a * 3\n",
    "c"
   ]
  },
  {
   "cell_type": "markdown",
   "metadata": {
    "id": "tTcZ-TeZKH0N"
   },
   "source": [
    "array 同士の四則演算（要素数は等しい必要がある）"
   ]
  },
  {
   "cell_type": "code",
   "execution_count": 31,
   "metadata": {
    "colab": {
     "base_uri": "https://localhost:8080/"
    },
    "executionInfo": {
     "elapsed": 383,
     "status": "ok",
     "timestamp": 1713505575373,
     "user": {
      "displayName": "YASUNOBU UCHIYAMA",
      "userId": "17060898117176457414"
     },
     "user_tz": -540
    },
    "id": "JCiiDf55KQgW",
    "outputId": "685b4c99-7a09-4379-9ec1-3cd99766d14c"
   },
   "outputs": [
    {
     "data": {
      "text/plain": [
       "array([11, 13, 15, 17, 19, 21])"
      ]
     },
     "execution_count": 31,
     "metadata": {},
     "output_type": "execute_result"
    }
   ],
   "source": [
    "d = b + [1, 2, 3, 4, 5, 6]\n",
    "d"
   ]
  },
  {
   "cell_type": "code",
   "execution_count": 32,
   "metadata": {
    "colab": {
     "base_uri": "https://localhost:8080/"
    },
    "executionInfo": {
     "elapsed": 270,
     "status": "ok",
     "timestamp": 1713505577129,
     "user": {
      "displayName": "YASUNOBU UCHIYAMA",
      "userId": "17060898117176457414"
     },
     "user_tz": -540
    },
    "id": "nb5cF7isKr97",
    "outputId": "d1aba84f-55e6-476d-c578-7870249536ac"
   },
   "outputs": [
    {
     "data": {
      "text/plain": [
       "array([  0,  33,  72, 117, 168, 225])"
      ]
     },
     "execution_count": 32,
     "metadata": {},
     "output_type": "execute_result"
    }
   ],
   "source": [
    "e = b * c\n",
    "e"
   ]
  },
  {
   "cell_type": "code",
   "execution_count": 33,
   "metadata": {
    "colab": {
     "base_uri": "https://localhost:8080/"
    },
    "executionInfo": {
     "elapsed": 346,
     "status": "ok",
     "timestamp": 1713505578981,
     "user": {
      "displayName": "YASUNOBU UCHIYAMA",
      "userId": "17060898117176457414"
     },
     "user_tz": -540
    },
    "id": "7MjUVIIoKydc",
    "outputId": "983651fb-9e1f-461f-888d-155bd792be44"
   },
   "outputs": [
    {
     "data": {
      "text/plain": [
       "array([10, 17, 24, 31, 38, 45])"
      ]
     },
     "execution_count": 33,
     "metadata": {},
     "output_type": "execute_result"
    }
   ],
   "source": [
    "f = b + 2*c\n",
    "f"
   ]
  },
  {
   "cell_type": "code",
   "execution_count": 34,
   "metadata": {
    "colab": {
     "base_uri": "https://localhost:8080/"
    },
    "executionInfo": {
     "elapsed": 375,
     "status": "ok",
     "timestamp": 1713505581043,
     "user": {
      "displayName": "YASUNOBU UCHIYAMA",
      "userId": "17060898117176457414"
     },
     "user_tz": -540
    },
    "id": "ovIhvNkdLUJp",
    "outputId": "52b6bd31-f2ed-4e9a-8801-d4391ec373b4"
   },
   "outputs": [
    {
     "name": "stdout",
     "output_type": "stream",
     "text": [
      "gh= [6 3 2]\n",
      "gdoth =  11  =  11\n",
      "gdoth2 =  11  =  11\n"
     ]
    }
   ],
   "source": [
    "g = np.array([3, 1, 2])\n",
    "h = np.array([2, 3, 1])\n",
    "gh = g*h # array の掛け算（アダマール積）\n",
    "gdoth = g.dot(h)       #内積\n",
    "gdoth2 = np.dot(g,h)   #内積(別の方法)\n",
    "print(\"gh=\", gh)\n",
    "print(\"gdoth = \", gdoth, \" = \", 3*2+1*3+2*1)\n",
    "print(\"gdoth2 = \", gdoth2, \" = \", 3*2+1*3+2*1)"
   ]
  },
  {
   "cell_type": "markdown",
   "metadata": {
    "id": "OPrM4qc9NZOY"
   },
   "source": [
    "# matplotlib によるグラフ作成\n",
    "二次関数 y = x**2 + 100 を x = 10--100 の範囲でプロットする。"
   ]
  },
  {
   "cell_type": "code",
   "execution_count": 35,
   "metadata": {
    "executionInfo": {
     "elapsed": 3,
     "status": "ok",
     "timestamp": 1713505584021,
     "user": {
      "displayName": "YASUNOBU UCHIYAMA",
      "userId": "17060898117176457414"
     },
     "user_tz": -540
    },
    "id": "kRi7ntGWNwEe"
   },
   "outputs": [],
   "source": [
    "import numpy as np\n",
    "import matplotlib.pyplot as plt\n",
    "%matplotlib inline"
   ]
  },
  {
   "cell_type": "code",
   "execution_count": 36,
   "metadata": {
    "colab": {
     "base_uri": "https://localhost:8080/"
    },
    "executionInfo": {
     "elapsed": 315,
     "status": "ok",
     "timestamp": 1713505586186,
     "user": {
      "displayName": "YASUNOBU UCHIYAMA",
      "userId": "17060898117176457414"
     },
     "user_tz": -540
    },
    "id": "CF2Wogt7Pe9h",
    "outputId": "1bfe21b2-995b-4c37-9087-53a7a3585f0e"
   },
   "outputs": [
    {
     "data": {
      "text/plain": [
       "array([10, 12, 14, 16, 18, 20, 22, 24, 26, 28, 30, 32, 34, 36, 38, 40, 42,\n",
       "       44, 46, 48, 50, 52, 54, 56, 58, 60, 62, 64, 66, 68, 70, 72, 74, 76,\n",
       "       78, 80, 82, 84, 86, 88, 90, 92, 94, 96, 98])"
      ]
     },
     "execution_count": 36,
     "metadata": {},
     "output_type": "execute_result"
    }
   ],
   "source": [
    "x = np.arange(10, 100, 2)\n",
    "x"
   ]
  },
  {
   "cell_type": "code",
   "execution_count": 37,
   "metadata": {
    "colab": {
     "base_uri": "https://localhost:8080/"
    },
    "executionInfo": {
     "elapsed": 4,
     "status": "ok",
     "timestamp": 1713505588003,
     "user": {
      "displayName": "YASUNOBU UCHIYAMA",
      "userId": "17060898117176457414"
     },
     "user_tz": -540
    },
    "id": "4B5u5r6zPuBH",
    "outputId": "99894d40-6594-42f2-8f97-019d80f73b81"
   },
   "outputs": [
    {
     "data": {
      "text/plain": [
       "array([ 200,  244,  296,  356,  424,  500,  584,  676,  776,  884, 1000,\n",
       "       1124, 1256, 1396, 1544, 1700, 1864, 2036, 2216, 2404, 2600, 2804,\n",
       "       3016, 3236, 3464, 3700, 3944, 4196, 4456, 4724, 5000, 5284, 5576,\n",
       "       5876, 6184, 6500, 6824, 7156, 7496, 7844, 8200, 8564, 8936, 9316,\n",
       "       9704])"
      ]
     },
     "execution_count": 37,
     "metadata": {},
     "output_type": "execute_result"
    }
   ],
   "source": [
    "y = x*x +100\n",
    "y"
   ]
  },
  {
   "cell_type": "code",
   "execution_count": 38,
   "metadata": {
    "colab": {
     "base_uri": "https://localhost:8080/",
     "height": 467
    },
    "executionInfo": {
     "elapsed": 734,
     "status": "ok",
     "timestamp": 1713505590784,
     "user": {
      "displayName": "YASUNOBU UCHIYAMA",
      "userId": "17060898117176457414"
     },
     "user_tz": -540
    },
    "id": "scSdfQXxP1Gt",
    "outputId": "31277006-cd19-43af-9543-76dd3111f3de"
   },
   "outputs": [
    {
     "data": {
      "text/plain": [
       "[<matplotlib.lines.Line2D at 0x19b3862cac0>]"
      ]
     },
     "execution_count": 38,
     "metadata": {},
     "output_type": "execute_result"
    },
    {
     "data": {
      "image/png": "[encoded data removed]",
      "text/plain": [
       "<Figure size 640x480 with 1 Axes>"
      ]
     },
     "metadata": {},
     "output_type": "display_data"
    }
   ],
   "source": [
    "plt.plot(x,y)"
   ]
  },
  {
   "cell_type": "markdown",
   "metadata": {
    "id": "HCxeE-OSeA-W"
   },
   "source": [
    "log をとって片対数のグラフにしてみよう。 **np.log10()** で常用対数になる。y は配列であるが、np.log10(y) でｙの全要素が一様に対数になるので便利。"
   ]
  },
  {
   "cell_type": "code",
   "execution_count": 39,
   "metadata": {
    "colab": {
     "base_uri": "https://localhost:8080/",
     "height": 467
    },
    "executionInfo": {
     "elapsed": 301,
     "status": "ok",
     "timestamp": 1713505593965,
     "user": {
      "displayName": "YASUNOBU UCHIYAMA",
      "userId": "17060898117176457414"
     },
     "user_tz": -540
    },
    "id": "Yz9s_3uCVVGx",
    "outputId": "1bd308cd-fb7c-44f0-914a-1a2f6a562a70"
   },
   "outputs": [
    {
     "data": {
      "text/plain": [
       "[<matplotlib.lines.Line2D at 0x19b38670a30>]"
      ]
     },
     "execution_count": 39,
     "metadata": {},
     "output_type": "execute_result"
    },
    {
     "data": {
      "image/png": "[encoded data removed]",
      "text/plain": [
       "<Figure size 640x480 with 1 Axes>"
      ]
     },
     "metadata": {},
     "output_type": "display_data"
    }
   ],
   "source": [
    "plt.plot(x, np.log10(y))"
   ]
  },
  {
   "cell_type": "markdown",
   "metadata": {
    "id": "z4lShCFiVFnf"
   },
   "source": [
    "グラフを４つ並べるため、subplots を使ってみよう。"
   ]
  },
  {
   "cell_type": "code",
   "execution_count": 40,
   "metadata": {
    "colab": {
     "base_uri": "https://localhost:8080/",
     "height": 333
    },
    "executionInfo": {
     "elapsed": 1150,
     "status": "ok",
     "timestamp": 1713505597779,
     "user": {
      "displayName": "YASUNOBU UCHIYAMA",
      "userId": "17060898117176457414"
     },
     "user_tz": -540
    },
    "id": "XBX0z3aQRuhk",
    "outputId": "5b7229df-dddd-4a77-c6a6-afd7fa32f179"
   },
   "outputs": [
    {
     "data": {
      "text/plain": [
       "[<matplotlib.lines.Line2D at 0x19b38f13310>]"
      ]
     },
     "execution_count": 40,
     "metadata": {},
     "output_type": "execute_result"
    },
    {
     "data": {
      "image/png": "[encoded data removed]",
      "text/plain": [
       "<Figure size 400x300 with 4 Axes>"
      ]
     },
     "metadata": {},
     "output_type": "display_data"
    }
   ],
   "source": [
    "fig, axs = plt.subplots(nrows=2, ncols=2, figsize=(4, 3))\n",
    "axs[0, 0].plot(x, y) # upper left\n",
    "axs[0, 1].plot(x, -y) # upper right\n",
    "axs[1, 0].plot(x, np.log10(y)) # lower left\n",
    "axs[1, 1].plot(x, x**5) # lower right"
   ]
  },
  {
   "cell_type": "markdown",
   "metadata": {
    "id": "lVYEMq4QazXM"
   },
   "source": [
    "# ヒストグラム作成"
   ]
  },
  {
   "cell_type": "code",
   "execution_count": 41,
   "metadata": {
    "executionInfo": {
     "elapsed": 427,
     "status": "ok",
     "timestamp": 1713505600348,
     "user": {
      "displayName": "YASUNOBU UCHIYAMA",
      "userId": "17060898117176457414"
     },
     "user_tz": -540
    },
    "id": "-1CdXPrwa6Tj"
   },
   "outputs": [],
   "source": [
    "import numpy as np\n",
    "import matplotlib.pyplot as plt\n",
    "%matplotlib inline"
   ]
  },
  {
   "cell_type": "markdown",
   "metadata": {
    "id": "f1wVZjuLVQa1"
   },
   "source": [
    "１４人の学生の身長を測定し、168 cm, 180 cm, 171 cm, .. だったとする。頻度分布をつくるために用いるのが hist() である。"
   ]
  },
  {
   "cell_type": "code",
   "execution_count": 42,
   "metadata": {
    "colab": {
     "base_uri": "https://localhost:8080/",
     "height": 517
    },
    "executionInfo": {
     "elapsed": 545,
     "status": "ok",
     "timestamp": 1713505603403,
     "user": {
      "displayName": "YASUNOBU UCHIYAMA",
      "userId": "17060898117176457414"
     },
     "user_tz": -540
    },
    "id": "TErP9keKbIo0",
    "outputId": "5bc7a1ce-a77f-4152-85d6-12fa4e358008"
   },
   "outputs": [
    {
     "data": {
      "text/plain": [
       "(array([4., 2., 3., 0., 1., 2., 0., 0., 1., 1.]),\n",
       " array([163. , 166.2, 169.4, 172.6, 175.8, 179. , 182.2, 185.4, 188.6,\n",
       "        191.8, 195. ]),\n",
       " <BarContainer object of 10 artists>)"
      ]
     },
     "execution_count": 42,
     "metadata": {},
     "output_type": "execute_result"
    },
    {
     "data": {
      "image/png": "[encoded data removed]",
      "text/plain": [
       "<Figure size 640x480 with 1 Axes>"
      ]
     },
     "metadata": {},
     "output_type": "display_data"
    }
   ],
   "source": [
    "x = np.array([168, 180, 171, 177, 165, 182, 170, 163, 165, 166, 167, 190, 195, 170])\n",
    "\n",
    "plt.hist(x)\n"
   ]
  },
  {
   "cell_type": "markdown",
   "metadata": {
    "id": "h19CTL0MViiJ"
   },
   "source": [
    "上の図で、163-172 cm に３つの長方形（横が身長のレンジ、縦が頻度）がある。\n",
    "各長方形をビンとよび（正確な言い方ではないが、、）、「３つ目にビンに3人が入っている」\n",
    "のような言い方をする。\n",
    "ビンの作り方を明示的に指定するには次のようにする。\n",
    "150cmから200cmの範囲を10個のビンに分けるヒストグラムを作る方法："
   ]
  },
  {
   "cell_type": "code",
   "execution_count": 43,
   "metadata": {
    "colab": {
     "base_uri": "https://localhost:8080/",
     "height": 500
    },
    "executionInfo": {
     "elapsed": 332,
     "status": "ok",
     "timestamp": 1713505607378,
     "user": {
      "displayName": "YASUNOBU UCHIYAMA",
      "userId": "17060898117176457414"
     },
     "user_tz": -540
    },
    "id": "9VgW9h-VbysQ",
    "outputId": "a46ce3aa-1d0a-4b2e-e458-ffd7c5f74b26"
   },
   "outputs": [
    {
     "data": {
      "text/plain": [
       "(array([0., 6., 4., 2., 2.]),\n",
       " array([150., 160., 170., 180., 190., 200.]),\n",
       " <BarContainer object of 5 artists>)"
      ]
     },
     "execution_count": 43,
     "metadata": {},
     "output_type": "execute_result"
    },
    {
     "data": {
      "image/png": "[encoded data removed]",
      "text/plain": [
       "<Figure size 640x480 with 1 Axes>"
      ]
     },
     "metadata": {},
     "output_type": "display_data"
    }
   ],
   "source": [
    "MINMAX = (150, 200)\n",
    "BIN = 5\n",
    "plt.hist(x, bins=BIN, range=MINMAX)"
   ]
  },
  {
   "cell_type": "markdown",
   "metadata": {
    "id": "AnLwxmLBVlZ4"
   },
   "source": [
    "# データ可視化の重要性\n",
    "e-Stat (政府統計の総合窓口）で学校保健統計調査の結果をダウンロードし、\n",
    "身長の分布をグラフにして可視化してみよう。\n"
   ]
  },
  {
   "cell_type": "code",
   "execution_count": 44,
   "metadata": {
    "executionInfo": {
     "elapsed": 261,
     "status": "ok",
     "timestamp": 1713505611298,
     "user": {
      "displayName": "YASUNOBU UCHIYAMA",
      "userId": "17060898117176457414"
     },
     "user_tz": -540
    },
    "id": "2rhCxXjmYNUq"
   },
   "outputs": [],
   "source": [
    "import numpy as np\n",
    "import matplotlib.pyplot as plt\n",
    "%matplotlib inline"
   ]
  },
  {
   "cell_type": "markdown",
   "metadata": {
    "id": "oBXIHiTzbdvl"
   },
   "source": [
    "身長を x [cm] とする。 (上のセクションでも x を使ったので、同じ変数にするのは実はちょっと危険だが）"
   ]
  },
  {
   "cell_type": "code",
   "execution_count": 45,
   "metadata": {
    "executionInfo": {
     "elapsed": 249,
     "status": "ok",
     "timestamp": 1713505613696,
     "user": {
      "displayName": "YASUNOBU UCHIYAMA",
      "userId": "17060898117176457414"
     },
     "user_tz": -540
    },
    "id": "Sbmog0MG7bJY"
   },
   "outputs": [],
   "source": [
    "x = np.array([146, 147, 148, 149, 150, 151, 152, 153, 154, 155, 156, 157, 158,\n",
    "       159, 160, 161, 162, 163, 164, 165, 166, 167, 168, 169, 170, 171,\n",
    "       172, 173, 174, 175, 176, 177, 178, 179, 180, 181, 182, 183, 184,\n",
    "       185, 186, 187, 188, 189, 190, 191, 192, 193, 194, 195])"
   ]
  },
  {
   "cell_type": "markdown",
   "metadata": {
    "id": "F8yMa_gwbwrx"
   },
   "source": [
    "平成２８年の男子１７歳の身長頻度分布（ヒストグラム）を h28 とする。単位は‰（パーミル）で、％の1/10。\n",
    "x = 147 で、h28 = 0.1 というのは、147-148 cm (注）に全体の0.01％が入るということ。\n",
    "（注）たぶんあっているが、もしかしたら146-147 cm　かもしれないし、146.5-147.5 かもしれない。e-Stat のサイトでこの情報がみつからない。"
   ]
  },
  {
   "cell_type": "code",
   "execution_count": 46,
   "metadata": {
    "executionInfo": {
     "elapsed": 271,
     "status": "ok",
     "timestamp": 1713505616423,
     "user": {
      "displayName": "YASUNOBU UCHIYAMA",
      "userId": "17060898117176457414"
     },
     "user_tz": -540
    },
    "id": "OU_iuYkY8tjQ"
   },
   "outputs": [],
   "source": [
    "h28 = np.array([ 0.1,  0.1,  0.1,  0.1,  0.1,  0.3,  0.5,  0.5,  0.7,  1.7,  2. ,\n",
    "        3.7,  4.7,  9.3, 14. , 17.3, 23. , 29.7, 37.5, 42.2, 51.5, 55.9,\n",
    "       60.1, 64.6, 74.6, 69.5, 65.2, 63.1, 56.5, 50.4, 45.1, 37.3, 28.4,\n",
    "       22.1, 21.5, 14.6, 11.4,  6.6,  4.2,  3.9,  1.9,  1.4,  0.7,  1.1,\n",
    "        0.4,  0.1,  0. ,  0.2,  0.1,  0. ])"
   ]
  },
  {
   "cell_type": "markdown",
   "metadata": {
    "id": "ZlWLZUQNBb0i"
   },
   "source": [
    "実際は、CSV ファイルを読み込んだり、エクセルを読み込んだりして、データを入力することになるが、ここでは数値をベタ打ちした。"
   ]
  },
  {
   "cell_type": "code",
   "execution_count": 47,
   "metadata": {
    "colab": {
     "base_uri": "https://localhost:8080/",
     "height": 451
    },
    "executionInfo": {
     "elapsed": 525,
     "status": "ok",
     "timestamp": 1713505619329,
     "user": {
      "displayName": "YASUNOBU UCHIYAMA",
      "userId": "17060898117176457414"
     },
     "user_tz": -540
    },
    "id": "Jc_9Xx1-a_Wa",
    "outputId": "f418faab-674e-4540-8177-d261be9a6522"
   },
   "outputs": [
    {
     "data": {
      "image/png": "[encoded data removed]",
      "text/plain": [
       "<Figure size 640x480 with 1 Axes>"
      ]
     },
     "metadata": {},
     "output_type": "display_data"
    }
   ],
   "source": [
    "plt.plot(x,h28, 'o', color='red')\n",
    "plt.grid(True)"
   ]
  },
  {
   "cell_type": "markdown",
   "metadata": {
    "id": "HZ2aGSig8417"
   },
   "source": [
    "170 cm に明らかに不自然な超過が見られる。（これを見て、そう思えるようになるには、訓練が必要だし、そのような目を持てる人は実は非常に少ない）\n",
    "別の年度を見てみよう。"
   ]
  },
  {
   "cell_type": "markdown",
   "metadata": {
    "id": "ZrT_vzpnev-g"
   },
   "source": [
    "**平成２7年**の男子１７歳の身長頻度分布（ヒストグラム）を h27 とする。単位は‰（パーミル）.\n"
   ]
  },
  {
   "cell_type": "code",
   "execution_count": 48,
   "metadata": {
    "executionInfo": {
     "elapsed": 240,
     "status": "ok",
     "timestamp": 1713505623534,
     "user": {
      "displayName": "YASUNOBU UCHIYAMA",
      "userId": "17060898117176457414"
     },
     "user_tz": -540
    },
    "id": "wWteY6Ol9gyp"
   },
   "outputs": [],
   "source": [
    "h27 = np.array([ 0. ,  0. ,  0. ,  0.2,  0.2,  0.3,  0.6,  0.8,  0.6,  1.5,  1.7,\n",
    "        4.4,  4.9,  8.3, 13.5, 18.4, 22.1, 28.3, 34.8, 42. , 50.8, 57.3,\n",
    "       62.3, 61.4, 73.5, 71.2, 70.3, 65.1, 56.8, 48.8, 44.1, 38.4, 28.3,\n",
    "       23.5, 19.4, 13.8, 10.1,  7.2,  5. ,  4. ,  2.7,  1. ,  0.7,  0.4,\n",
    "        0.6,  0.3,  0.1,  0. ,  0. ,  0. ])\n",
    "#len(h27)"
   ]
  },
  {
   "cell_type": "code",
   "execution_count": 49,
   "metadata": {
    "colab": {
     "base_uri": "https://localhost:8080/",
     "height": 306
    },
    "executionInfo": {
     "elapsed": 849,
     "status": "ok",
     "timestamp": 1713505626765,
     "user": {
      "displayName": "YASUNOBU UCHIYAMA",
      "userId": "17060898117176457414"
     },
     "user_tz": -540
    },
    "id": "Vm1Ht9NJdJMp",
    "outputId": "8adc0808-548b-4806-9e3d-a81e95bc42de"
   },
   "outputs": [
    {
     "data": {
      "image/png": "[encoded data removed]",
      "text/plain": [
       "<Figure size 1000x400 with 2 Axes>"
      ]
     },
     "metadata": {},
     "output_type": "display_data"
    }
   ],
   "source": [
    "fig, axs = plt.subplots(nrows=1, ncols=2, figsize=(10, 4))\n",
    "axs[0].plot(x, h28, 'o', color='black') # H28\n",
    "axs[0].grid(True)\n",
    "axs[1].plot(x, h27, 'o', color='red') # H27\n",
    "#axs[1].plot(x, h28, 'x', color='black') # H28 を同じ図に重ねたいとき\n",
    "axs[1].grid(True)"
   ]
  },
  {
   "cell_type": "markdown",
   "metadata": {
    "id": "7FRfsR4I9v9l"
   },
   "source": [
    "案の定、169 cm と 170 cm で飛びがある。さあ、いよいよ 170 cm があやしい。これは「ずる」が行われたのではないだろうか？大台に乗っておきたいという男子高生の心理は、十分に理解できる。さらに4年分をプロットしてみよう。"
   ]
  },
  {
   "cell_type": "code",
   "execution_count": 50,
   "metadata": {
    "executionInfo": {
     "elapsed": 248,
     "status": "ok",
     "timestamp": 1713505630339,
     "user": {
      "displayName": "YASUNOBU UCHIYAMA",
      "userId": "17060898117176457414"
     },
     "user_tz": -540
    },
    "id": "wLultv3l-aWR"
   },
   "outputs": [],
   "source": [
    "h26 = np.array([ 0.1,  0. ,  0. ,  0.2,  0.1,  0.7,  0.5,  0.5,  1.1,  1.8,  1.9,\n",
    "        4. ,  5.7,  6.9, 11.4, 15.5, 23.6, 32. , 36.5, 46.2, 51.1, 55.4,\n",
    "       63.4, 62.1, 72.8, 70.6, 65.2, 64.3, 56.6, 50.8, 40.2, 40.5, 30.7,\n",
    "       22.1, 18.2, 13.7, 10.4,  7.7,  6. ,  3.8,  1.8,  1.3,  1.3,  0.8,\n",
    "        0.1,  0.3,  0.2,  0. ,  0. ,  0. ])\n",
    "#len(h26)"
   ]
  },
  {
   "cell_type": "code",
   "execution_count": 51,
   "metadata": {
    "executionInfo": {
     "elapsed": 244,
     "status": "ok",
     "timestamp": 1713505632522,
     "user": {
      "displayName": "YASUNOBU UCHIYAMA",
      "userId": "17060898117176457414"
     },
     "user_tz": -540
    },
    "id": "WOZTSIlQ-2T9"
   },
   "outputs": [],
   "source": [
    "h25 = np.array([ 0. ,  0. ,  0. ,  0.2,  0.1,  0.6,  0.5,  0.5,  0.9,  1.1,  2.7,\n",
    "        3.5,  5.3,  7.6, 11.8, 18.8, 23. , 29.4, 34.5, 43.7, 50.7, 57.6,\n",
    "       63.1, 64.9, 73.6, 66.8, 69.8, 61.4, 62.8, 51.1, 44.1, 35.2, 26.6,\n",
    "       22.1, 18.6, 13.9, 10.6,  7.2,  5.7,  4.2,  2.5,  1.1,  0.8,  0.5,\n",
    "        0.3,  0.3,  0.1,  0. ,  0. ,  0. ])\n",
    "#len(h25)"
   ]
  },
  {
   "cell_type": "code",
   "execution_count": 52,
   "metadata": {
    "colab": {
     "base_uri": "https://localhost:8080/"
    },
    "executionInfo": {
     "elapsed": 3,
     "status": "ok",
     "timestamp": 1713505634794,
     "user": {
      "displayName": "YASUNOBU UCHIYAMA",
      "userId": "17060898117176457414"
     },
     "user_tz": -540
    },
    "id": "tTDTCe4YGIx-",
    "outputId": "49fc1bc6-dfcd-497b-86d8-6391ade822e6"
   },
   "outputs": [
    {
     "data": {
      "text/plain": [
       "50"
      ]
     },
     "execution_count": 52,
     "metadata": {},
     "output_type": "execute_result"
    }
   ],
   "source": [
    "h24 = np.array([ 0.2,  0. ,  0.3,  0. ,  0.7,  1. ,  1.2,  1.5,  3.6,  4.2,  9.5,\n",
    "       10.5, 13.2, 18.7, 25.2, 31.6, 36.8, 44.9, 50.5, 59. , 62.4, 67.2,\n",
    "       69.4, 65.8, 66.4, 60.5, 59.3, 48.4, 41.9, 34. , 28.2, 22.7, 15.3,\n",
    "       13.5, 10.4,  7.2,  4.3,  3.8,  2.6,  1.5,  0.8,  0.5,  0.3,  0.4,\n",
    "        0. ,  0. ,  0.1,  0.1,  0. ,  0. ])\n",
    "len(h24)"
   ]
  },
  {
   "cell_type": "code",
   "execution_count": 53,
   "metadata": {
    "executionInfo": {
     "elapsed": 245,
     "status": "ok",
     "timestamp": 1713505637274,
     "user": {
      "displayName": "YASUNOBU UCHIYAMA",
      "userId": "17060898117176457414"
     },
     "user_tz": -540
    },
    "id": "akYKRxzqJdzR"
   },
   "outputs": [],
   "source": [
    "h24 = np.array([ 0.1,  0. ,  0.1,  0. ,  0.1,  0.7,  0.5,  0.8,  0.9,  1.3,  3. ,\n",
    "        3.7,  5.6,  6.8, 14.6, 16.4, 23.7, 28.5, 34.5, 44. , 47.4, 55.8,\n",
    "       64.3, 62.4, 75.5, 70.4, 64.4, 63.4, 59.6, 49.6, 44.8, 36.4, 29.1,\n",
    "       23.4, 19. , 14.1, 10.4,  7.7,  4.9,  5. ,  2.8,  1.9,  0.7,  0.5,\n",
    "        0.5,  0.3,  0. ,  0.2,  0. ,  0. ])"
   ]
  },
  {
   "cell_type": "code",
   "execution_count": 54,
   "metadata": {
    "colab": {
     "base_uri": "https://localhost:8080/"
    },
    "executionInfo": {
     "elapsed": 318,
     "status": "ok",
     "timestamp": 1713505639354,
     "user": {
      "displayName": "YASUNOBU UCHIYAMA",
      "userId": "17060898117176457414"
     },
     "user_tz": -540
    },
    "id": "LkhX2m59GfKq",
    "outputId": "169ad17f-16b4-4f1f-c32c-acb337284d74"
   },
   "outputs": [
    {
     "data": {
      "text/plain": [
       "50"
      ]
     },
     "execution_count": 54,
     "metadata": {},
     "output_type": "execute_result"
    }
   ],
   "source": [
    "h23 = np.array([ 0. ,  0. ,  0.2,  0.4,  0.2,  0.4,  0.7,  0.6,  1.5,  2.1,  1.6,\n",
    "        3.7,  7.3,  8. , 13.2, 16.4, 21.4, 27.4, 30.8, 46.5, 48.9, 52.9,\n",
    "       62.7, 67.4, 69.7, 73.6, 65. , 65.8, 60.3, 50.7, 43.2, 39.8, 30.1,\n",
    "       23.4, 19.9, 15.3,  9.4,  7.2,  4.6,  1.7,  2.2,  1.5,  0.6,  0.4,\n",
    "        0.7,  0.1,  0.3,  0.2,  0. ,  0. ])\n",
    "len(h23)"
   ]
  },
  {
   "cell_type": "code",
   "execution_count": 55,
   "metadata": {
    "colab": {
     "base_uri": "https://localhost:8080/",
     "height": 542
    },
    "executionInfo": {
     "elapsed": 1318,
     "status": "ok",
     "timestamp": 1713505642661,
     "user": {
      "displayName": "YASUNOBU UCHIYAMA",
      "userId": "17060898117176457414"
     },
     "user_tz": -540
    },
    "id": "EhHVmWY1_LWN",
    "outputId": "545c91cc-83ad-41f0-d1b2-3f5389f26027"
   },
   "outputs": [
    {
     "data": {
      "image/png": "[encoded data removed]",
      "text/plain": [
       "<Figure size 1000x800 with 6 Axes>"
      ]
     },
     "metadata": {},
     "output_type": "display_data"
    }
   ],
   "source": [
    "fig, axs = plt.subplots(nrows=3, ncols=2, figsize=(10, 8))\n",
    "axs[0, 0].plot(x, h28, 'o', color='black') # H28\n",
    "axs[0, 0].grid(True)\n",
    "axs[0, 1].plot(x, h27, 'o', color='red') # H27\n",
    "axs[0, 1].grid(True)\n",
    "axs[1, 0].plot(x, h26, 'o', color='blue') # H26\n",
    "axs[1, 0].grid(True)\n",
    "axs[1, 1].plot(x, h25, 'o', color='orange') # H25\n",
    "axs[1, 1].grid(True)\n",
    "axs[2, 0].plot(x, h24, 'o', color='purple') # H24\n",
    "axs[2, 0].grid(True)\n",
    "axs[2, 1].plot(x, h23, 'o', color='gold') # H23\n",
    "axs[2, 1].grid(True)"
   ]
  },
  {
   "cell_type": "markdown",
   "metadata": {
    "id": "LAhXzGcGAShk"
   },
   "source": [
    "6年のうち５つの年で共通して 170 cm の飛びが見られ、かつ 169 cm の凹みも見られる。\n",
    "**「男子高３生の見栄で 170 cmで飛びが生じる」**仮説（いわゆる内山仮説）は、なかなか有力と言えよう。\n",
    "(一番古いH23のデータではなぜかこの効果が見られないので、H22以前も見ておくべきだろう）\n",
    "\n",
    "ばらつきを抑えるために６年分の平均をとると、169-170 の構造は非常にはっきりと確認できる。\n"
   ]
  },
  {
   "cell_type": "code",
   "execution_count": 56,
   "metadata": {
    "colab": {
     "base_uri": "https://localhost:8080/",
     "height": 451
    },
    "executionInfo": {
     "elapsed": 295,
     "status": "ok",
     "timestamp": 1713505657061,
     "user": {
      "displayName": "YASUNOBU UCHIYAMA",
      "userId": "17060898117176457414"
     },
     "user_tz": -540
    },
    "id": "Kzu2310kAxU1",
    "outputId": "d81fef18-bb7a-4b7e-eb2d-56d15d0c7c35"
   },
   "outputs": [
    {
     "data": {
      "image/png": "[encoded data removed]",
      "text/plain": [
       "<Figure size 640x480 with 1 Axes>"
      ]
     },
     "metadata": {},
     "output_type": "display_data"
    }
   ],
   "source": [
    "plt.plot(x, (h23+h24+h25+h26+h27+h28)/6., 'o', color='purple')\n",
    "plt.grid(True)"
   ]
  },
  {
   "cell_type": "markdown",
   "metadata": {
    "id": "QgHzVVDjMi0c"
   },
   "source": [
    "ついでに、ガウス分布（正規分布）であることを視覚的に確認するために、平均身長 (h23) の170.7 cmを使って、次のようなプロットを作ると、見事に直線が現れる。たしかにガウシアンライクである。（なお、log をとるところで簡易的に log(0) を回避するために、非常に小さい数δを足している。） ガウス分布の数式を見て、直線になる理由を考えよう。\n",
    "(よく見ると、185 cm 程度から上で、ガウス分布からのズレが見える気がする。\n",
    "確認する価値はあるだろう）\n",
    "\n"
   ]
  },
  {
   "cell_type": "code",
   "execution_count": 57,
   "metadata": {
    "colab": {
     "base_uri": "https://localhost:8080/",
     "height": 306
    },
    "executionInfo": {
     "elapsed": 749,
     "status": "ok",
     "timestamp": 1713505665618,
     "user": {
      "displayName": "YASUNOBU UCHIYAMA",
      "userId": "17060898117176457414"
     },
     "user_tz": -540
    },
    "id": "EfwnD1LTKd1m",
    "outputId": "75c811ae-eb02-44fc-c0d8-f827ba5c76f2"
   },
   "outputs": [
    {
     "data": {
      "image/png": "[encoded data removed]",
      "text/plain": [
       "<Figure size 1000x400 with 2 Axes>"
      ]
     },
     "metadata": {},
     "output_type": "display_data"
    }
   ],
   "source": [
    "h23_mean = 170.7\n",
    "xx = (x-h23_mean)*(x-h23_mean)\n",
    "delta = 0.0000001\n",
    "h_sum = (h23+h24+h25+h26+h27+h28)/6.0+delta\n",
    "fig, axs = plt.subplots(nrows=1, ncols=2, figsize=(10, 4))\n",
    "axs[0].plot(x[5:24], h_sum[5:24], 'o', color='gray')    # [:24] によって前半のみプロット\n",
    "axs[0].plot(x[24:45], h_sum[24:45], 'o', color='black')\n",
    "axs[0].grid(True)\n",
    "axs[1].plot(xx[5:24], np.log(h_sum)[5:24], 'o', color='pink')\n",
    "axs[1].plot(xx[24:45], np.log(h_sum)[24:45], 'o', color='red')\n",
    "axs[1].set_xlim(-10, 400)     #x軸の範囲指定\n",
    "axs[1].set_ylim(-1, 5)         #y軸の範囲指定\n",
    "axs[1].grid(True)"
   ]
  },
  {
   "cell_type": "markdown",
   "metadata": {
    "id": "riGXqdgfZUEU"
   },
   "source": [
    "最後にマジックコマンド **whos** を使って、どんな変数が机に乗っているか、見ておこう。\n"
   ]
  },
  {
   "cell_type": "code",
   "execution_count": 58,
   "metadata": {
    "colab": {
     "base_uri": "https://localhost:8080/"
    },
    "executionInfo": {
     "elapsed": 317,
     "status": "ok",
     "timestamp": 1713505719674,
     "user": {
      "displayName": "YASUNOBU UCHIYAMA",
      "userId": "17060898117176457414"
     },
     "user_tz": -540
    },
    "id": "y0Kr1R9rZRiV",
    "outputId": "4565833c-4390-43c6-a51e-72057e05db1b"
   },
   "outputs": [
    {
     "name": "stdout",
     "output_type": "stream",
     "text": [
      "Variable   Type       Data/Info\n",
      "-------------------------------\n",
      "BIN        int        5\n",
      "MINMAX     tuple      n=2\n",
      "a          ndarray    6: 6 elems, type `int32`, 24 bytes\n",
      "axs        ndarray    2: 2 elems, type `object`, 16 bytes\n",
      "b          ndarray    6: 6 elems, type `int32`, 24 bytes\n",
      "c          ndarray    6: 6 elems, type `int32`, 24 bytes\n",
      "d          ndarray    6: 6 elems, type `int32`, 24 bytes\n",
      "delta      float      1e-07\n",
      "e          ndarray    6: 6 elems, type `int32`, 24 bytes\n",
      "f          ndarray    6: 6 elems, type `int32`, 24 bytes\n",
      "fig        Figure     Figure(1000x400)\n",
      "g          ndarray    3: 3 elems, type `int32`, 12 bytes\n",
      "gdoth      int32      11\n",
      "gdoth2     int32      11\n",
      "gh         ndarray    3: 3 elems, type `int32`, 12 bytes\n",
      "group1     ndarray    2x3: 6 elems, type `int32`, 24 bytes\n",
      "group2     ndarray    2x3: 6 elems, type `int32`, 24 bytes\n",
      "h          ndarray    3: 3 elems, type `int32`, 12 bytes\n",
      "h23        ndarray    50: 50 elems, type `float64`, 400 bytes\n",
      "h23_mean   float      170.7\n",
      "h24        ndarray    50: 50 elems, type `float64`, 400 bytes\n",
      "h25        ndarray    50: 50 elems, type `float64`, 400 bytes\n",
      "h26        ndarray    50: 50 elems, type `float64`, 400 bytes\n",
      "h27        ndarray    50: 50 elems, type `float64`, 400 bytes\n",
      "h28        ndarray    50: 50 elems, type `float64`, 400 bytes\n",
      "h_sum      ndarray    50: 50 elems, type `float64`, 400 bytes\n",
      "np         module     <module 'numpy' from 'C:\\<...>ges\\\\numpy\\\\__init__.py'>\n",
      "plt        module     <module 'matplotlib.pyplo<...>\\\\matplotlib\\\\pyplot.py'>\n",
      "s0         ndarray    3: 3 elems, type `int32`, 12 bytes\n",
      "s1         ndarray    3: 3 elems, type `int32`, 12 bytes\n",
      "s3         ndarray    3: 3 elems, type `int32`, 12 bytes\n",
      "s4         ndarray    3: 3 elems, type `int32`, 12 bytes\n",
      "team       ndarray    2x2x3: 12 elems, type `int32`, 48 bytes\n",
      "this       module     <module 'this' from 'C:\\\\<...>anaconda3\\\\lib\\\\this.py'>\n",
      "tsum       ndarray    2x2: 4 elems, type `int32`, 16 bytes\n",
      "x          ndarray    50: 50 elems, type `int32`, 200 bytes\n",
      "xx         ndarray    50: 50 elems, type `float64`, 400 bytes\n",
      "y          ndarray    45: 45 elems, type `int32`, 180 bytes\n"
     ]
    }
   ],
   "source": [
    "%whos"
   ]
  }
 ],
 "metadata": {
  "colab": {
   "provenance": []
  },
  "kernelspec": {
   "display_name": "Python 3 (ipykernel)",
   "language": "python",
   "name": "python3"
  },
  "language_info": {
   "codemirror_mode": {
    "name": "ipython",
    "version": 3
   },
   "file_extension": ".py",
   "mimetype": "text/x-python",
   "name": "python",
   "nbconvert_exporter": "python",
   "pygments_lexer": "ipython3",
   "version": "3.8.8"
  }
 },
 "nbformat": 4,
 "nbformat_minor": 1
}
